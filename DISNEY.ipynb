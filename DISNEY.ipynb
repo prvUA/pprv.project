{
 "cells": [
  {
   "cell_type": "markdown",
   "id": "0fbf216a",
   "metadata": {},
   "source": [
    "### LIBRERÍAS"
   ]
  },
  {
   "cell_type": "code",
   "execution_count": 431,
   "id": "b8cc2998",
   "metadata": {},
   "outputs": [],
   "source": [
    "import pandas as pd\n",
    "import matplotlib.pyplot as plt\n",
    "import numpy as np\n",
    "import scipy as sp\n",
    "import csv"
    "import plotly.express as px"
   ]
  },
  {
   "cell_type": "markdown",
   "id": "626ec0dc",
   "metadata": {},
   "source": [
    "### RECUPERACIÓN DE DATOS"
   ]
  },
  {
   "cell_type": "code",
   "execution_count": 432,
   "id": "00fc9aa6",
   "metadata": {},
   "outputs": [
    {
     "name": "stdout",
     "output_type": "stream",
     "text": [
      "<class 'pandas.core.frame.DataFrame'>\n",
      "RangeIndex: 1450 entries, 0 to 1449\n",
      "Data columns (total 15 columns):\n",
      " #   Column             Non-Null Count  Dtype \n",
      "---  ------             --------------  ----- \n",
      " 0   show_id            1450 non-null   object\n",
      " 1   type               1450 non-null   object\n",
      " 2   title              1450 non-null   object\n",
      " 3   director           977 non-null    object\n",
      " 4   cast               1260 non-null   object\n",
      " 5   country            1231 non-null   object\n",
      " 6   release_year       1450 non-null   int64 \n",
      " 7   rating             1447 non-null   object\n",
      " 8   duration           1450 non-null   object\n",
      " 9   genre              1450 non-null   object\n",
      " 10  description        1450 non-null   object\n",
      " 11  streaming_service  1450 non-null   object\n",
      " 12  year_added         1447 non-null   object\n",
      " 13  month_added        1447 non-null   object\n",
      " 14  day_added          1447 non-null   object\n",
      "dtypes: int64(1), object(14)\n",
      "memory usage: 170.0+ KB\n",
      "None\n"
     ]
    }
   ],
   "source": [
    "# LEEMOS EL ARCHIVOS CSV DE DISNEY\n",
    "df_disney = pd.read_csv(\"disney_plus_titles.csv\")\n",
    "#df_disney['date_added'].unique()\n",
    "\n",
    "df_disney['rating'].value_counts()\n",
    "\n",
    "# CAMBIAMOS DE NOMBRE LA COLUMNA 'listed_in' POR 'genre'\n",
    "df_disney = df_disney.rename(columns={'listed_in':'genre'})\n",
    "# CREAMOS UNA NUEVA COLUMNA\n",
    "df_disney['streaming_service'] = 'Disney Plus'\n",
    "\n",
    "# SEPARAMOS LA FECHA DE 'ADICIÓN' EN DÍA, MES Y AÑO\n",
    "df_disney['year_added'] = pd.to_datetime(df_disney['date_added']).dt.strftime('%Y')\n",
    "df_disney['month_added'] = pd.to_datetime(df_disney['date_added']).dt.strftime('%m')\n",
    "df_disney['day_added'] = pd.to_datetime(df_disney['date_added']).dt.strftime('%d')\n",
    "\n",
    "\n",
    "# ELIMINAMOS LA COLUMNA 'date_added'\n",
    "df_disney = df_disney.drop(\"date_added\", axis=1)\n",
    "#df_dsney = df_disney.drop(columns=\"date_added\") # hace lo mismo que la línea de arriba\n",
    "\n",
    "minimo_año = df_disney['release_year'].min() # 1928\n",
    "\n",
    "# # COSAS A DESTACAR DE LA COLUMNA 'genre'\n",
    "# hay '&'' a veces, también hay algún caso en el que se usa una barra 'Game show / Competition'\n",
    "\n",
    "for index,row in df_disney.iterrows():\n",
    "    if '&' in str(row['genre']):\n",
    "        df_disney.loc[index,'genre'] = str(row['genre']).replace(' &',',')\n",
    "for index,row in df_disney.iterrows():\n",
    "    if '-' in str(row['genre']):\n",
    "        df_disney.loc[index,'genre'] = str(row['genre']).replace('-',', ')\n",
    "        \n",
    "for index,row in df_disney.iterrows():\n",
    "    if '/' in str(row['genre']):\n",
    "        df_disney.loc[index,'genre'] = str(row['genre']).replace(' /',',')\n",
    "    # aqui hay un probelam, en algun momento tenemos / sin espacio, entonces no \n",
    "    # me lo coje el ejemplo sería la columna 74\n",
    "    # lo soluciono con el siguiente bucle\n",
    "    \n",
    "for index,row in df_disney.iterrows():\n",
    "    if '/' in str(row['genre']):\n",
    "        df_disney.loc[index,'genre'] = str(row['genre']).replace('/',', ')\n",
    "        \n",
    "        \n",
    "# si meto los tres if's dentro de un for, no funciona bien, NO SÉ PORQUÉ\n",
    "\n",
    "#print(len(df_disney)) # da 1450\n",
    "\n",
    "for index,row in df_disney.iterrows():\n",
    "    if 'TV-Y7-FV' in str(row['rating']):\n",
    "        df_disney.loc[index,'rating'] = str(row['rating']).replace('TV-Y7-FV','TV-Y7')\n",
    "# puedo simplemente hacerlo manualmente porque solo me pasa en un caso, entonces hacer un for pues es demasiao\n",
    "\n",
    "\n",
    "# comprobacion\n",
    "for index,row in df_disney.iterrows():\n",
    "    if 'Movie' in str(row['type']) and 'min' not in str(row['duration']):\n",
    "        print('En este índice no está en minutos la duración de la peli: ',index)\n",
    "    elif 'TV Show' in str(row['type']) and 'Season' not in str(row['duration']):\n",
    "        print('En este índice no está en Seasons la serie: ',index)    \n",
    "    else:\n",
    "        pass\n",
    "        \n",
    "print(df_disney.info())     \n",
    "\n",
    "df_disney = df_disney.fillna(\"nan\")\n",
    "\n",
    "#print((df_disney['country'].value_counts()).to_string())\n",
    "# numero de paises donde se ha producido la peli, sería un buen dato a sacar"
   ]
  },
  {
   "cell_type": "code",
   "execution_count": 433,
   "id": "8e40d693",
   "metadata": {},
   "outputs": [
    {
     "data": {
      "text/plain": [
       "(1450, 15)"
      ]
     },
     "execution_count": 433,
     "metadata": {},
     "output_type": "execute_result"
    }
   ],
   "source": [
    "df_disney.shape"
   ]
  },
  {
   "cell_type": "code",
   "execution_count": 434,
   "id": "37e59543",
   "metadata": {},
   "outputs": [],
   "source": [
    "# Convertimos en listas las columnas 'country' y 'genre'\n",
    "df_disney['genre'] = df_disney['genre'].str.split(', ')\n",
    "df_disney['country'] = df_disney['country'].str.split(', ')"
   ]
  },
  {
   "cell_type": "code",
   "execution_count": 435,
   "id": "1fb0ba8c",
   "metadata": {},
   "outputs": [],
   "source": [
    "# Se divide la columna 'duration' en dos\n",
    "df_disney[['duration','duration_type']] = df_disney['duration'].str.split(' ',expand=True)"
   ]
  },
  {
   "cell_type": "code",
   "execution_count": 436,
   "id": "7d1ca8eb",
   "metadata": {
    "scrolled": true
   },
   "outputs": [
    {
     "data": {
      "text/plain": [
       "array(['TV-G', 'PG', 'TV-PG', 'nan', 'PG-13', 'TV-14', 'G', 'TV-Y7',\n",
       "       'TV-Y'], dtype=object)"
      ]
     },
     "execution_count": 436,
     "metadata": {},
     "output_type": "execute_result"
    }
   ],
   "source": [
    "df_disney.head()\n",
    "df_disney['rating'].unique()"
   ]
  },
  {
   "cell_type": "markdown",
   "id": "3d3c09fe",
   "metadata": {},
   "source": [
    "### LIMPIEZA DATOS DE PELÍCULAS"
   ]
  },
  {
   "cell_type": "code",
   "execution_count": 437,
   "id": "10456e4d",
   "metadata": {},
   "outputs": [],
   "source": [
    "df_disney['rating'].unique()\n",
    "\n",
    "apta_list = ['TV-G','G','TV-Y'] # TV-Y está enfocado para público infantil por lo que\n",
    "# lo incluyo en la categoría de todas las edades\n",
    "siete_list = ['PG','TV-Y7']\n",
    "trece_list = ['TV-PG','PG-13','TV-14']\n",
    "sc_list = ['nan']\n",
    "\n",
    "# condiciones\n",
    "\n",
    "conditions = [df_disney['rating'].isin(apta_list),\n",
    "              df_disney['rating'].isin(siete_list),\n",
    "              df_disney['rating'].isin(trece_list),\n",
    "              df_disney['rating'].isin(sc_list),\n",
    "             ]\n",
    "results = ['APTA',\n",
    "          '7',\n",
    "          '12',\n",
    "          'Sin calificación'\n",
    "          ]\n",
    "\n",
    "df_disney['rating'] = np.select(conditions,results, default = np.nan)"
   ]
  },
  {
   "cell_type": "code",
   "execution_count": 438,
   "id": "2a8af8c6",
   "metadata": {},
   "outputs": [
    {
     "data": {
      "text/html": [
       "<div>\n",
       "<style scoped>\n",
       "    .dataframe tbody tr th:only-of-type {\n",
       "        vertical-align: middle;\n",
       "    }\n",
       "\n",
       "    .dataframe tbody tr th {\n",
       "        vertical-align: top;\n",
       "    }\n",
       "\n",
       "    .dataframe thead th {\n",
       "        text-align: right;\n",
       "    }\n",
       "</style>\n",
       "<table border=\"1\" class=\"dataframe\">\n",
       "  <thead>\n",
       "    <tr style=\"text-align: right;\">\n",
       "      <th></th>\n",
       "      <th>show_id</th>\n",
       "      <th>type</th>\n",
       "      <th>title</th>\n",
       "      <th>director</th>\n",
       "      <th>cast</th>\n",
       "      <th>country</th>\n",
       "      <th>release_year</th>\n",
       "      <th>rating</th>\n",
       "      <th>duration</th>\n",
       "      <th>genre</th>\n",
       "      <th>description</th>\n",
       "      <th>streaming_service</th>\n",
       "      <th>year_added</th>\n",
       "      <th>month_added</th>\n",
       "      <th>day_added</th>\n",
       "      <th>duration_type</th>\n",
       "    </tr>\n",
       "  </thead>\n",
       "  <tbody>\n",
       "    <tr>\n",
       "      <th>0</th>\n",
       "      <td>s1</td>\n",
       "      <td>Movie</td>\n",
       "      <td>Duck the Halls: A Mickey Mouse Christmas Special</td>\n",
       "      <td>Alonso Ramirez Ramos, Dave Wasson</td>\n",
       "      <td>Chris Diamantopoulos, Tony Anselmo, Tress MacN...</td>\n",
       "      <td>[nan]</td>\n",
       "      <td>2016</td>\n",
       "      <td>APTA</td>\n",
       "      <td>23</td>\n",
       "      <td>[Animation, Family]</td>\n",
       "      <td>Join Mickey and the gang as they duck the halls!</td>\n",
       "      <td>Disney Plus</td>\n",
       "      <td>2021</td>\n",
       "      <td>11</td>\n",
       "      <td>26</td>\n",
       "      <td>min</td>\n",
       "    </tr>\n",
       "    <tr>\n",
       "      <th>1</th>\n",
       "      <td>s2</td>\n",
       "      <td>Movie</td>\n",
       "      <td>Ernest Saves Christmas</td>\n",
       "      <td>John Cherry</td>\n",
       "      <td>Jim Varney, Noelle Parker, Douglas Seale</td>\n",
       "      <td>[nan]</td>\n",
       "      <td>1988</td>\n",
       "      <td>7</td>\n",
       "      <td>91</td>\n",
       "      <td>[Comedy]</td>\n",
       "      <td>Santa Claus passes his magic bag to a new St. ...</td>\n",
       "      <td>Disney Plus</td>\n",
       "      <td>2021</td>\n",
       "      <td>11</td>\n",
       "      <td>26</td>\n",
       "      <td>min</td>\n",
       "    </tr>\n",
       "    <tr>\n",
       "      <th>2</th>\n",
       "      <td>s3</td>\n",
       "      <td>Movie</td>\n",
       "      <td>Ice Age: A Mammoth Christmas</td>\n",
       "      <td>Karen Disher</td>\n",
       "      <td>Raymond Albert Romano, John Leguizamo, Denis L...</td>\n",
       "      <td>[United States]</td>\n",
       "      <td>2011</td>\n",
       "      <td>APTA</td>\n",
       "      <td>23</td>\n",
       "      <td>[Animation, Comedy, Family]</td>\n",
       "      <td>Sid the Sloth is on Santa's naughty list.</td>\n",
       "      <td>Disney Plus</td>\n",
       "      <td>2021</td>\n",
       "      <td>11</td>\n",
       "      <td>26</td>\n",
       "      <td>min</td>\n",
       "    </tr>\n",
       "    <tr>\n",
       "      <th>3</th>\n",
       "      <td>s4</td>\n",
       "      <td>Movie</td>\n",
       "      <td>The Queen Family Singalong</td>\n",
       "      <td>Hamish Hamilton</td>\n",
       "      <td>Darren Criss, Adam Lambert, Derek Hough, Alexa...</td>\n",
       "      <td>[nan]</td>\n",
       "      <td>2021</td>\n",
       "      <td>12</td>\n",
       "      <td>41</td>\n",
       "      <td>[Musical]</td>\n",
       "      <td>This is real life, not just fantasy!</td>\n",
       "      <td>Disney Plus</td>\n",
       "      <td>2021</td>\n",
       "      <td>11</td>\n",
       "      <td>26</td>\n",
       "      <td>min</td>\n",
       "    </tr>\n",
       "    <tr>\n",
       "      <th>4</th>\n",
       "      <td>s5</td>\n",
       "      <td>TV Show</td>\n",
       "      <td>The Beatles: Get Back</td>\n",
       "      <td>nan</td>\n",
       "      <td>John Lennon, Paul McCartney, George Harrison, ...</td>\n",
       "      <td>[nan]</td>\n",
       "      <td>2021</td>\n",
       "      <td>Sin calificación</td>\n",
       "      <td>1</td>\n",
       "      <td>[Docuseries, Historical, Music]</td>\n",
       "      <td>A three-part documentary from Peter Jackson ca...</td>\n",
       "      <td>Disney Plus</td>\n",
       "      <td>2021</td>\n",
       "      <td>11</td>\n",
       "      <td>25</td>\n",
       "      <td>Season</td>\n",
       "    </tr>\n",
       "  </tbody>\n",
       "</table>\n",
       "</div>"
      ],
      "text/plain": [
       "  show_id     type                                             title  \\\n",
       "0      s1    Movie  Duck the Halls: A Mickey Mouse Christmas Special   \n",
       "1      s2    Movie                            Ernest Saves Christmas   \n",
       "2      s3    Movie                      Ice Age: A Mammoth Christmas   \n",
       "3      s4    Movie                        The Queen Family Singalong   \n",
       "4      s5  TV Show                             The Beatles: Get Back   \n",
       "\n",
       "                            director  \\\n",
       "0  Alonso Ramirez Ramos, Dave Wasson   \n",
       "1                        John Cherry   \n",
       "2                       Karen Disher   \n",
       "3                    Hamish Hamilton   \n",
       "4                                nan   \n",
       "\n",
       "                                                cast          country  \\\n",
       "0  Chris Diamantopoulos, Tony Anselmo, Tress MacN...            [nan]   \n",
       "1           Jim Varney, Noelle Parker, Douglas Seale            [nan]   \n",
       "2  Raymond Albert Romano, John Leguizamo, Denis L...  [United States]   \n",
       "3  Darren Criss, Adam Lambert, Derek Hough, Alexa...            [nan]   \n",
       "4  John Lennon, Paul McCartney, George Harrison, ...            [nan]   \n",
       "\n",
       "   release_year            rating duration                            genre  \\\n",
       "0          2016              APTA       23              [Animation, Family]   \n",
       "1          1988                 7       91                         [Comedy]   \n",
       "2          2011              APTA       23      [Animation, Comedy, Family]   \n",
       "3          2021                12       41                        [Musical]   \n",
       "4          2021  Sin calificación        1  [Docuseries, Historical, Music]   \n",
       "\n",
       "                                         description streaming_service  \\\n",
       "0   Join Mickey and the gang as they duck the halls!       Disney Plus   \n",
       "1  Santa Claus passes his magic bag to a new St. ...       Disney Plus   \n",
       "2          Sid the Sloth is on Santa's naughty list.       Disney Plus   \n",
       "3               This is real life, not just fantasy!       Disney Plus   \n",
       "4  A three-part documentary from Peter Jackson ca...       Disney Plus   \n",
       "\n",
       "  year_added month_added day_added duration_type  \n",
       "0       2021          11        26           min  \n",
       "1       2021          11        26           min  \n",
       "2       2021          11        26           min  \n",
       "3       2021          11        26           min  \n",
       "4       2021          11        25        Season  "
      ]
     },
     "execution_count": 438,
     "metadata": {},
     "output_type": "execute_result"
    }
   ],
   "source": [
    "df_disney.head()"
   ]
  },
  {
   "cell_type": "markdown",
   "id": "4fdfbac7",
   "metadata": {},
   "source": [
    "# IMBd"
   ]
  },
  {
   "cell_type": "code",
   "execution_count": 439,
   "id": "4037f2ad",
   "metadata": {},
   "outputs": [
    {
     "name": "stdout",
     "output_type": "stream",
     "text": [
      "<class 'pandas.core.frame.DataFrame'>\n",
      "RangeIndex: 1192579 entries, 0 to 1192578\n",
      "Data columns (total 12 columns):\n",
      " #   Column          Non-Null Count    Dtype  \n",
      "---  ------          --------------    -----  \n",
      " 0   Unnamed: 0      1192579 non-null  int64  \n",
      " 1   tconst          1192579 non-null  object \n",
      " 2   titleType       1192579 non-null  object \n",
      " 3   primaryTitle    1192579 non-null  object \n",
      " 4   originalTitle   1192579 non-null  object \n",
      " 5   isAdult         1192579 non-null  int64  \n",
      " 6   startYear       1192579 non-null  object \n",
      " 7   endYear         1192579 non-null  object \n",
      " 8   runtimeMinutes  1192579 non-null  object \n",
      " 9   genres          1192577 non-null  object \n",
      " 10  averageRating   1192579 non-null  float64\n",
      " 11  numVotes        1192579 non-null  int64  \n",
      "dtypes: float64(1), int64(3), object(8)\n",
      "memory usage: 109.2+ MB\n",
      "None\n"
     ]
    },
    {
     "data": {
      "text/html": [
       "<div>\n",
       "<style scoped>\n",
       "    .dataframe tbody tr th:only-of-type {\n",
       "        vertical-align: middle;\n",
       "    }\n",
       "\n",
       "    .dataframe tbody tr th {\n",
       "        vertical-align: top;\n",
       "    }\n",
       "\n",
       "    .dataframe thead th {\n",
       "        text-align: right;\n",
       "    }\n",
       "</style>\n",
       "<table border=\"1\" class=\"dataframe\">\n",
       "  <thead>\n",
       "    <tr style=\"text-align: right;\">\n",
       "      <th></th>\n",
       "      <th>Unnamed: 0</th>\n",
       "      <th>tconst</th>\n",
       "      <th>titleType</th>\n",
       "      <th>primaryTitle</th>\n",
       "      <th>originalTitle</th>\n",
       "      <th>isAdult</th>\n",
       "      <th>startYear</th>\n",
       "      <th>endYear</th>\n",
       "      <th>runtimeMinutes</th>\n",
       "      <th>genres</th>\n",
       "      <th>averageRating</th>\n",
       "      <th>numVotes</th>\n",
       "    </tr>\n",
       "  </thead>\n",
       "  <tbody>\n",
       "    <tr>\n",
       "      <th>0</th>\n",
       "      <td>0</td>\n",
       "      <td>tt0000001</td>\n",
       "      <td>short</td>\n",
       "      <td>Carmencita</td>\n",
       "      <td>Carmencita</td>\n",
       "      <td>0</td>\n",
       "      <td>1894</td>\n",
       "      <td>\\N</td>\n",
       "      <td>1</td>\n",
       "      <td>Documentary,Short</td>\n",
       "      <td>5.7</td>\n",
       "      <td>1844</td>\n",
       "    </tr>\n",
       "    <tr>\n",
       "      <th>1</th>\n",
       "      <td>1</td>\n",
       "      <td>tt0000002</td>\n",
       "      <td>short</td>\n",
       "      <td>Le clown et ses chiens</td>\n",
       "      <td>Le clown et ses chiens</td>\n",
       "      <td>0</td>\n",
       "      <td>1892</td>\n",
       "      <td>\\N</td>\n",
       "      <td>5</td>\n",
       "      <td>Animation,Short</td>\n",
       "      <td>6.0</td>\n",
       "      <td>236</td>\n",
       "    </tr>\n",
       "    <tr>\n",
       "      <th>2</th>\n",
       "      <td>2</td>\n",
       "      <td>tt0000003</td>\n",
       "      <td>short</td>\n",
       "      <td>Pauvre Pierrot</td>\n",
       "      <td>Pauvre Pierrot</td>\n",
       "      <td>0</td>\n",
       "      <td>1892</td>\n",
       "      <td>\\N</td>\n",
       "      <td>4</td>\n",
       "      <td>Animation,Comedy,Romance</td>\n",
       "      <td>6.5</td>\n",
       "      <td>1603</td>\n",
       "    </tr>\n",
       "    <tr>\n",
       "      <th>3</th>\n",
       "      <td>3</td>\n",
       "      <td>tt0000004</td>\n",
       "      <td>short</td>\n",
       "      <td>Un bon bock</td>\n",
       "      <td>Un bon bock</td>\n",
       "      <td>0</td>\n",
       "      <td>1892</td>\n",
       "      <td>\\N</td>\n",
       "      <td>12</td>\n",
       "      <td>Animation,Short</td>\n",
       "      <td>6.0</td>\n",
       "      <td>153</td>\n",
       "    </tr>\n",
       "    <tr>\n",
       "      <th>4</th>\n",
       "      <td>4</td>\n",
       "      <td>tt0000005</td>\n",
       "      <td>short</td>\n",
       "      <td>Blacksmith Scene</td>\n",
       "      <td>Blacksmith Scene</td>\n",
       "      <td>0</td>\n",
       "      <td>1893</td>\n",
       "      <td>\\N</td>\n",
       "      <td>1</td>\n",
       "      <td>Comedy,Short</td>\n",
       "      <td>6.2</td>\n",
       "      <td>2423</td>\n",
       "    </tr>\n",
       "  </tbody>\n",
       "</table>\n",
       "</div>"
      ],
      "text/plain": [
       "   Unnamed: 0     tconst titleType            primaryTitle  \\\n",
       "0           0  tt0000001     short              Carmencita   \n",
       "1           1  tt0000002     short  Le clown et ses chiens   \n",
       "2           2  tt0000003     short          Pauvre Pierrot   \n",
       "3           3  tt0000004     short             Un bon bock   \n",
       "4           4  tt0000005     short        Blacksmith Scene   \n",
       "\n",
       "            originalTitle  isAdult startYear endYear runtimeMinutes  \\\n",
       "0              Carmencita        0      1894      \\N              1   \n",
       "1  Le clown et ses chiens        0      1892      \\N              5   \n",
       "2          Pauvre Pierrot        0      1892      \\N              4   \n",
       "3             Un bon bock        0      1892      \\N             12   \n",
       "4        Blacksmith Scene        0      1893      \\N              1   \n",
       "\n",
       "                     genres  averageRating  numVotes  \n",
       "0         Documentary,Short            5.7      1844  \n",
       "1           Animation,Short            6.0       236  \n",
       "2  Animation,Comedy,Romance            6.5      1603  \n",
       "3           Animation,Short            6.0       153  \n",
       "4              Comedy,Short            6.2      2423  "
      ]
     },
     "execution_count": 439,
     "metadata": {},
     "output_type": "execute_result"
    }
   ],
   "source": [
    "imbd = pd.read_csv(\"imbd_data.csv\",sep = ';')\n",
    "print(imbd.info())\n",
    "imbd.head()  # entiendo que el tconst \n",
    "\n",
    "#head(imdb_data)"
   ]
  },
  {
   "cell_type": "code",
   "execution_count": 440,
   "id": "51267a74",
   "metadata": {
    "scrolled": true
   },
   "outputs": [
    {
     "name": "stdout",
     "output_type": "stream",
     "text": [
      "<class 'pandas.core.frame.DataFrame'>\n",
      "Int64Index: 1192379 entries, 0 to 1192578\n",
      "Data columns (total 12 columns):\n",
      " #   Column          Non-Null Count    Dtype  \n",
      "---  ------          --------------    -----  \n",
      " 0   Unnamed: 0      1192379 non-null  int64  \n",
      " 1   tconst          1192379 non-null  object \n",
      " 2   titleType       1192379 non-null  object \n",
      " 3   primaryTitle    1192379 non-null  object \n",
      " 4   originalTitle   1192379 non-null  object \n",
      " 5   isAdult         1192379 non-null  int64  \n",
      " 6   startYear       1192379 non-null  int64  \n",
      " 7   endYear         1192379 non-null  object \n",
      " 8   runtimeMinutes  1192379 non-null  object \n",
      " 9   genres          1192379 non-null  object \n",
      " 10  averageRating   1192379 non-null  float64\n",
      " 11  numVotes        1192379 non-null  int64  \n",
      "dtypes: float64(1), int64(4), object(7)\n",
      "memory usage: 118.3+ MB\n",
      "None\n"
     ]
    }
   ],
   "source": [
    "no_y = imbd[imbd['startYear']=='\\\\N']\n",
    "imbd = imbd[imbd['startYear']!='\\\\N']\n",
    "\n",
    "imbd['startYear'] = imbd['startYear'].astype('int64')\n",
    "print(imbd.info())"
   ]
  },
  {
   "cell_type": "code",
   "execution_count": 441,
   "id": "86448e6d",
   "metadata": {},
   "outputs": [],
   "source": [
    "# Conversión a mínuscula de los títulos \n",
    "df_disney['title'] = df_disney['title'].str.lower()\n",
    "imbd['originalTitle'] = imbd['originalTitle'].str.lower()"
   ]
  },
  {
   "cell_type": "code",
   "execution_count": 442,
   "id": "ae55d03e",
   "metadata": {},
   "outputs": [
    {
     "data": {
      "text/html": [
       "<div>\n",
       "<style scoped>\n",
       "    .dataframe tbody tr th:only-of-type {\n",
       "        vertical-align: middle;\n",
       "    }\n",
       "\n",
       "    .dataframe tbody tr th {\n",
       "        vertical-align: top;\n",
       "    }\n",
       "\n",
       "    .dataframe thead th {\n",
       "        text-align: right;\n",
       "    }\n",
       "</style>\n",
       "<table border=\"1\" class=\"dataframe\">\n",
       "  <thead>\n",
       "    <tr style=\"text-align: right;\">\n",
       "      <th></th>\n",
       "      <th>show_id</th>\n",
       "      <th>type</th>\n",
       "      <th>title</th>\n",
       "      <th>director</th>\n",
       "      <th>cast</th>\n",
       "      <th>country</th>\n",
       "      <th>release_year</th>\n",
       "      <th>rating</th>\n",
       "      <th>duration</th>\n",
       "      <th>genre</th>\n",
       "      <th>description</th>\n",
       "      <th>streaming_service</th>\n",
       "      <th>year_added</th>\n",
       "      <th>month_added</th>\n",
       "      <th>day_added</th>\n",
       "      <th>duration_type</th>\n",
       "    </tr>\n",
       "  </thead>\n",
       "  <tbody>\n",
       "    <tr>\n",
       "      <th>0</th>\n",
       "      <td>s1</td>\n",
       "      <td>Movie</td>\n",
       "      <td>duck the halls: a mickey mouse christmas special</td>\n",
       "      <td>Alonso Ramirez Ramos, Dave Wasson</td>\n",
       "      <td>Chris Diamantopoulos, Tony Anselmo, Tress MacN...</td>\n",
       "      <td>[nan]</td>\n",
       "      <td>2016</td>\n",
       "      <td>APTA</td>\n",
       "      <td>23</td>\n",
       "      <td>[Animation, Family]</td>\n",
       "      <td>Join Mickey and the gang as they duck the halls!</td>\n",
       "      <td>Disney Plus</td>\n",
       "      <td>2021</td>\n",
       "      <td>11</td>\n",
       "      <td>26</td>\n",
       "      <td>min</td>\n",
       "    </tr>\n",
       "    <tr>\n",
       "      <th>1</th>\n",
       "      <td>s2</td>\n",
       "      <td>Movie</td>\n",
       "      <td>ernest saves christmas</td>\n",
       "      <td>John Cherry</td>\n",
       "      <td>Jim Varney, Noelle Parker, Douglas Seale</td>\n",
       "      <td>[nan]</td>\n",
       "      <td>1988</td>\n",
       "      <td>7</td>\n",
       "      <td>91</td>\n",
       "      <td>[Comedy]</td>\n",
       "      <td>Santa Claus passes his magic bag to a new St. ...</td>\n",
       "      <td>Disney Plus</td>\n",
       "      <td>2021</td>\n",
       "      <td>11</td>\n",
       "      <td>26</td>\n",
       "      <td>min</td>\n",
       "    </tr>\n",
       "    <tr>\n",
       "      <th>2</th>\n",
       "      <td>s3</td>\n",
       "      <td>Movie</td>\n",
       "      <td>ice age: a mammoth christmas</td>\n",
       "      <td>Karen Disher</td>\n",
       "      <td>Raymond Albert Romano, John Leguizamo, Denis L...</td>\n",
       "      <td>[United States]</td>\n",
       "      <td>2011</td>\n",
       "      <td>APTA</td>\n",
       "      <td>23</td>\n",
       "      <td>[Animation, Comedy, Family]</td>\n",
       "      <td>Sid the Sloth is on Santa's naughty list.</td>\n",
       "      <td>Disney Plus</td>\n",
       "      <td>2021</td>\n",
       "      <td>11</td>\n",
       "      <td>26</td>\n",
       "      <td>min</td>\n",
       "    </tr>\n",
       "    <tr>\n",
       "      <th>3</th>\n",
       "      <td>s4</td>\n",
       "      <td>Movie</td>\n",
       "      <td>the queen family singalong</td>\n",
       "      <td>Hamish Hamilton</td>\n",
       "      <td>Darren Criss, Adam Lambert, Derek Hough, Alexa...</td>\n",
       "      <td>[nan]</td>\n",
       "      <td>2021</td>\n",
       "      <td>12</td>\n",
       "      <td>41</td>\n",
       "      <td>[Musical]</td>\n",
       "      <td>This is real life, not just fantasy!</td>\n",
       "      <td>Disney Plus</td>\n",
       "      <td>2021</td>\n",
       "      <td>11</td>\n",
       "      <td>26</td>\n",
       "      <td>min</td>\n",
       "    </tr>\n",
       "    <tr>\n",
       "      <th>4</th>\n",
       "      <td>s5</td>\n",
       "      <td>TV Show</td>\n",
       "      <td>the beatles: get back</td>\n",
       "      <td>nan</td>\n",
       "      <td>John Lennon, Paul McCartney, George Harrison, ...</td>\n",
       "      <td>[nan]</td>\n",
       "      <td>2021</td>\n",
       "      <td>Sin calificación</td>\n",
       "      <td>1</td>\n",
       "      <td>[Docuseries, Historical, Music]</td>\n",
       "      <td>A three-part documentary from Peter Jackson ca...</td>\n",
       "      <td>Disney Plus</td>\n",
       "      <td>2021</td>\n",
       "      <td>11</td>\n",
       "      <td>25</td>\n",
       "      <td>Season</td>\n",
       "    </tr>\n",
       "  </tbody>\n",
       "</table>\n",
       "</div>"
      ],
      "text/plain": [
       "  show_id     type                                             title  \\\n",
       "0      s1    Movie  duck the halls: a mickey mouse christmas special   \n",
       "1      s2    Movie                            ernest saves christmas   \n",
       "2      s3    Movie                      ice age: a mammoth christmas   \n",
       "3      s4    Movie                        the queen family singalong   \n",
       "4      s5  TV Show                             the beatles: get back   \n",
       "\n",
       "                            director  \\\n",
       "0  Alonso Ramirez Ramos, Dave Wasson   \n",
       "1                        John Cherry   \n",
       "2                       Karen Disher   \n",
       "3                    Hamish Hamilton   \n",
       "4                                nan   \n",
       "\n",
       "                                                cast          country  \\\n",
       "0  Chris Diamantopoulos, Tony Anselmo, Tress MacN...            [nan]   \n",
       "1           Jim Varney, Noelle Parker, Douglas Seale            [nan]   \n",
       "2  Raymond Albert Romano, John Leguizamo, Denis L...  [United States]   \n",
       "3  Darren Criss, Adam Lambert, Derek Hough, Alexa...            [nan]   \n",
       "4  John Lennon, Paul McCartney, George Harrison, ...            [nan]   \n",
       "\n",
       "   release_year            rating duration                            genre  \\\n",
       "0          2016              APTA       23              [Animation, Family]   \n",
       "1          1988                 7       91                         [Comedy]   \n",
       "2          2011              APTA       23      [Animation, Comedy, Family]   \n",
       "3          2021                12       41                        [Musical]   \n",
       "4          2021  Sin calificación        1  [Docuseries, Historical, Music]   \n",
       "\n",
       "                                         description streaming_service  \\\n",
       "0   Join Mickey and the gang as they duck the halls!       Disney Plus   \n",
       "1  Santa Claus passes his magic bag to a new St. ...       Disney Plus   \n",
       "2          Sid the Sloth is on Santa's naughty list.       Disney Plus   \n",
       "3               This is real life, not just fantasy!       Disney Plus   \n",
       "4  A three-part documentary from Peter Jackson ca...       Disney Plus   \n",
       "\n",
       "  year_added month_added day_added duration_type  \n",
       "0       2021          11        26           min  \n",
       "1       2021          11        26           min  \n",
       "2       2021          11        26           min  \n",
       "3       2021          11        26           min  \n",
       "4       2021          11        25        Season  "
      ]
     },
     "execution_count": 442,
     "metadata": {},
     "output_type": "execute_result"
    }
   ],
   "source": [
    "df_disney.head()\n",
    "#imbd.head()"
   ]
  },
  {
   "cell_type": "code",
   "execution_count": 443,
   "id": "482efc06",
   "metadata": {
    "scrolled": true
   },
   "outputs": [
    {
     "name": "stdout",
     "output_type": "stream",
     "text": [
      "(1234, 28)\n"
     ]
    },
    {
     "data": {
      "text/html": [
       "<div>\n",
       "<style scoped>\n",
       "    .dataframe tbody tr th:only-of-type {\n",
       "        vertical-align: middle;\n",
       "    }\n",
       "\n",
       "    .dataframe tbody tr th {\n",
       "        vertical-align: top;\n",
       "    }\n",
       "\n",
       "    .dataframe thead th {\n",
       "        text-align: right;\n",
       "    }\n",
       "</style>\n",
       "<table border=\"1\" class=\"dataframe\">\n",
       "  <thead>\n",
       "    <tr style=\"text-align: right;\">\n",
       "      <th></th>\n",
       "      <th>show_id</th>\n",
       "      <th>type</th>\n",
       "      <th>title</th>\n",
       "      <th>director</th>\n",
       "      <th>cast</th>\n",
       "      <th>country</th>\n",
       "      <th>release_year</th>\n",
       "      <th>rating</th>\n",
       "      <th>duration</th>\n",
       "      <th>genre</th>\n",
       "      <th>...</th>\n",
       "      <th>titleType</th>\n",
       "      <th>primaryTitle</th>\n",
       "      <th>originalTitle</th>\n",
       "      <th>isAdult</th>\n",
       "      <th>startYear</th>\n",
       "      <th>endYear</th>\n",
       "      <th>runtimeMinutes</th>\n",
       "      <th>genres</th>\n",
       "      <th>averageRating</th>\n",
       "      <th>numVotes</th>\n",
       "    </tr>\n",
       "  </thead>\n",
       "  <tbody>\n",
       "    <tr>\n",
       "      <th>0</th>\n",
       "      <td>s1</td>\n",
       "      <td>Movie</td>\n",
       "      <td>duck the halls: a mickey mouse christmas special</td>\n",
       "      <td>Alonso Ramirez Ramos, Dave Wasson</td>\n",
       "      <td>Chris Diamantopoulos, Tony Anselmo, Tress MacN...</td>\n",
       "      <td>[nan]</td>\n",
       "      <td>2016</td>\n",
       "      <td>APTA</td>\n",
       "      <td>23</td>\n",
       "      <td>[Animation, Family]</td>\n",
       "      <td>...</td>\n",
       "      <td>tvEpisode</td>\n",
       "      <td>Duck the Halls: A Mickey Mouse Christmas Special</td>\n",
       "      <td>duck the halls: a mickey mouse christmas special</td>\n",
       "      <td>0</td>\n",
       "      <td>2016</td>\n",
       "      <td>\\N</td>\n",
       "      <td>21</td>\n",
       "      <td>Adventure,Animation,Comedy</td>\n",
       "      <td>8.2</td>\n",
       "      <td>163</td>\n",
       "    </tr>\n",
       "    <tr>\n",
       "      <th>1</th>\n",
       "      <td>s2</td>\n",
       "      <td>Movie</td>\n",
       "      <td>ernest saves christmas</td>\n",
       "      <td>John Cherry</td>\n",
       "      <td>Jim Varney, Noelle Parker, Douglas Seale</td>\n",
       "      <td>[nan]</td>\n",
       "      <td>1988</td>\n",
       "      <td>7</td>\n",
       "      <td>91</td>\n",
       "      <td>[Comedy]</td>\n",
       "      <td>...</td>\n",
       "      <td>movie</td>\n",
       "      <td>Ernest Saves Christmas</td>\n",
       "      <td>ernest saves christmas</td>\n",
       "      <td>0</td>\n",
       "      <td>1988</td>\n",
       "      <td>\\N</td>\n",
       "      <td>95</td>\n",
       "      <td>Comedy,Family,Fantasy</td>\n",
       "      <td>5.7</td>\n",
       "      <td>10780</td>\n",
       "    </tr>\n",
       "    <tr>\n",
       "      <th>2</th>\n",
       "      <td>s3</td>\n",
       "      <td>Movie</td>\n",
       "      <td>ice age: a mammoth christmas</td>\n",
       "      <td>Karen Disher</td>\n",
       "      <td>Raymond Albert Romano, John Leguizamo, Denis L...</td>\n",
       "      <td>[United States]</td>\n",
       "      <td>2011</td>\n",
       "      <td>APTA</td>\n",
       "      <td>23</td>\n",
       "      <td>[Animation, Comedy, Family]</td>\n",
       "      <td>...</td>\n",
       "      <td>tvShort</td>\n",
       "      <td>Ice Age: A Mammoth Christmas</td>\n",
       "      <td>ice age: a mammoth christmas</td>\n",
       "      <td>0</td>\n",
       "      <td>2011</td>\n",
       "      <td>\\N</td>\n",
       "      <td>26</td>\n",
       "      <td>Adventure,Animation,Comedy</td>\n",
       "      <td>6.5</td>\n",
       "      <td>9948</td>\n",
       "    </tr>\n",
       "    <tr>\n",
       "      <th>3</th>\n",
       "      <td>s4</td>\n",
       "      <td>Movie</td>\n",
       "      <td>the queen family singalong</td>\n",
       "      <td>Hamish Hamilton</td>\n",
       "      <td>Darren Criss, Adam Lambert, Derek Hough, Alexa...</td>\n",
       "      <td>[nan]</td>\n",
       "      <td>2021</td>\n",
       "      <td>12</td>\n",
       "      <td>41</td>\n",
       "      <td>[Musical]</td>\n",
       "      <td>...</td>\n",
       "      <td>tvSpecial</td>\n",
       "      <td>The Queen Family Singalong</td>\n",
       "      <td>the queen family singalong</td>\n",
       "      <td>0</td>\n",
       "      <td>2021</td>\n",
       "      <td>\\N</td>\n",
       "      <td>\\N</td>\n",
       "      <td>Music,Musical</td>\n",
       "      <td>6.0</td>\n",
       "      <td>61</td>\n",
       "    </tr>\n",
       "    <tr>\n",
       "      <th>4</th>\n",
       "      <td>s5</td>\n",
       "      <td>TV Show</td>\n",
       "      <td>the beatles: get back</td>\n",
       "      <td>nan</td>\n",
       "      <td>John Lennon, Paul McCartney, George Harrison, ...</td>\n",
       "      <td>[nan]</td>\n",
       "      <td>2021</td>\n",
       "      <td>Sin calificación</td>\n",
       "      <td>1</td>\n",
       "      <td>[Docuseries, Historical, Music]</td>\n",
       "      <td>...</td>\n",
       "      <td>tvMiniSeries</td>\n",
       "      <td>The Beatles: Get Back</td>\n",
       "      <td>the beatles: get back</td>\n",
       "      <td>0</td>\n",
       "      <td>2021</td>\n",
       "      <td>2021</td>\n",
       "      <td>468</td>\n",
       "      <td>Documentary,Music</td>\n",
       "      <td>9.3</td>\n",
       "      <td>7933</td>\n",
       "    </tr>\n",
       "  </tbody>\n",
       "</table>\n",
       "<p>5 rows × 28 columns</p>\n",
       "</div>"
      ],
      "text/plain": [
       "  show_id     type                                             title  \\\n",
       "0      s1    Movie  duck the halls: a mickey mouse christmas special   \n",
       "1      s2    Movie                            ernest saves christmas   \n",
       "2      s3    Movie                      ice age: a mammoth christmas   \n",
       "3      s4    Movie                        the queen family singalong   \n",
       "4      s5  TV Show                             the beatles: get back   \n",
       "\n",
       "                            director  \\\n",
       "0  Alonso Ramirez Ramos, Dave Wasson   \n",
       "1                        John Cherry   \n",
       "2                       Karen Disher   \n",
       "3                    Hamish Hamilton   \n",
       "4                                nan   \n",
       "\n",
       "                                                cast          country  \\\n",
       "0  Chris Diamantopoulos, Tony Anselmo, Tress MacN...            [nan]   \n",
       "1           Jim Varney, Noelle Parker, Douglas Seale            [nan]   \n",
       "2  Raymond Albert Romano, John Leguizamo, Denis L...  [United States]   \n",
       "3  Darren Criss, Adam Lambert, Derek Hough, Alexa...            [nan]   \n",
       "4  John Lennon, Paul McCartney, George Harrison, ...            [nan]   \n",
       "\n",
       "   release_year            rating duration                            genre  \\\n",
       "0          2016              APTA       23              [Animation, Family]   \n",
       "1          1988                 7       91                         [Comedy]   \n",
       "2          2011              APTA       23      [Animation, Comedy, Family]   \n",
       "3          2021                12       41                        [Musical]   \n",
       "4          2021  Sin calificación        1  [Docuseries, Historical, Music]   \n",
       "\n",
       "   ...     titleType                                      primaryTitle  \\\n",
       "0  ...     tvEpisode  Duck the Halls: A Mickey Mouse Christmas Special   \n",
       "1  ...         movie                            Ernest Saves Christmas   \n",
       "2  ...       tvShort                      Ice Age: A Mammoth Christmas   \n",
       "3  ...     tvSpecial                        The Queen Family Singalong   \n",
       "4  ...  tvMiniSeries                             The Beatles: Get Back   \n",
       "\n",
       "                                      originalTitle isAdult startYear endYear  \\\n",
       "0  duck the halls: a mickey mouse christmas special       0      2016      \\N   \n",
       "1                            ernest saves christmas       0      1988      \\N   \n",
       "2                      ice age: a mammoth christmas       0      2011      \\N   \n",
       "3                        the queen family singalong       0      2021      \\N   \n",
       "4                             the beatles: get back       0      2021    2021   \n",
       "\n",
       "   runtimeMinutes                      genres averageRating numVotes  \n",
       "0              21  Adventure,Animation,Comedy           8.2      163  \n",
       "1              95       Comedy,Family,Fantasy           5.7    10780  \n",
       "2              26  Adventure,Animation,Comedy           6.5     9948  \n",
       "3              \\N               Music,Musical           6.0       61  \n",
       "4             468           Documentary,Music           9.3     7933  \n",
       "\n",
       "[5 rows x 28 columns]"
      ]
     },
     "execution_count": 443,
     "metadata": {},
     "output_type": "execute_result"
    }
   ],
   "source": [
    "# UNIÓN DE DATASETS\n",
    "\n",
    "merged = pd.merge(df_disney, imbd,left_on = ['title','release_year'],\n",
    "                  right_on = ['originalTitle','startYear'],)\n",
    "print(merged.shape)\n",
    "\n",
    "merged.head()\n",
    "\n",
    "# Resultado de hacer: merged.columns\n",
    "# ['show_id', 'type', 'title', 'director', 'cast', 'country',\n",
    "#       'release_year', 'rating', 'duration', 'genre', 'description',\n",
    "#       'streaming_service', 'year_added', 'month_added', 'day_added',\n",
    "#       'duration_type', 'Unnamed: 0', 'tconst', 'titleType', 'primaryTitle',\n",
    "#       'originalTitle', 'isAdult', 'startYear', 'endYear', 'runtimeMinutes',\n",
    "#       'genres', 'averageRating', 'numVotes']"
   ]
  },
  {
   "cell_type": "markdown",
   "id": "3a1a8f06",
   "metadata": {},
   "source": [
    "## PIE CHART DE RESTRICCIONES DE EDAD"
   ]
  },
  {
   "cell_type": "code",
   "execution_count": 473,
   "id": "66146f10",
   "metadata": {},
   "outputs": [
    {
     "data": {
      "image/png": "iVBORw0KGgoAAAANSUhEUgAAAfIAAAHeCAYAAABg/4mdAAAAOXRFWHRTb2Z0d2FyZQBNYXRwbG90bGliIHZlcnNpb24zLjMuNCwgaHR0cHM6Ly9tYXRwbG90bGliLm9yZy8QVMy6AAAACXBIWXMAAAsTAAALEwEAmpwYAABcTUlEQVR4nO3dd3xT5eIG8OckadK9WzooXVB2KUumUFkyZOPgqoh6VVDcC6/+XBfc163gBBwXtwgiW4YCAgIFAdktsxS6d+b5/VHIbelu07w5J8/38+mH0pycPEnTPDkn73uOJMuyDCIiIlIkjegARERE1HQsciIiIgVjkRMRESkYi5yIiEjBWOREREQKxiInIiJSMBa5ym3YsAGSJEGSJDz77LOi4wAAnn32WXumDRs2iI5DLk6Nz5fp06fb71NGRoboOKRwOtEBGkOSpFov8/X1RWhoKJKTk3HNNdfgH//4B3x8fJyYrmmWLFmCtLQ0AMADDzyAwMBAoXmaIi0tDUuWLAEATJgwASkpKULzEJFzLFy40P5GxFU2FNyRooq8LsXFxSguLkZGRgaWLl2KOXPm4KuvvkK/fv1ER6vTkiVLsGjRIgAV79KVWuTPPfccACAuLo5FTuQmFi5ciI0bNwJgkYuk2CL/8ccfq/y/sLAQu3fvxueff46cnBycPHkSo0ePRlpaGmJjYwWlFC81NRWudvC+Z599ln/01GB8vhDVTbFFPmHChGo/mzZtGp544gkMHjwYBw8eRH5+PubMmYOPPvrI+QGJiIicQHWD3cLDw/Haa6/Z/7906VKBaYiIiFqW6oocAK688kr79+fPn0dBQUGdy2/duhUzZ85Ep06dEBgYCE9PT7Rp0wbXX389li9fXu/tWa1WfP755xg7dixiYmLg6ekJLy8vxMTEoEePHrjzzjvxww8/oLS01H6dS6NWL30+DgDx8fH2kayXvqZPn17ltuLi4iBJEuLi4gAA5eXlePvttzFw4EC0atUKGo0Gqamp9uUbO2r9119/xZ133omOHTsiMDAQHh4eCAsLw5VXXomnnnoKBw4csC+7cOFCSJKEW2+91f6zW2+9tdp9uJT1ksaMQj516hRmz56NHj16IDg4GAaDAdHR0Rg7diwWLlwIq9Va5/VTU1Ptt3XJ119/jeHDhyMiIgIGgwGxsbG49dZbcfDgwXofn4YoLCzEl19+idtvvx3du3e3P47BwcHo0aMHHn74YRw7dqzB6zt27BjuvvtutG3bFl5eXggPD8egQYPw4Ycf2u//pftY+Xdfm+Y+3xvi8sfdYrFg3rx5GDhwIMLCwuDl5YWkpCTcf//9OHXqVJ3raszzxWQy4ZNPPsG4cePsf4uBgYFITk7Gww8/7PAR4haLBZ999hmuvfZaxMXFwcfHBwaDATExMRgzZgzefPNNnD9/vkHrWrVqFSZMmIDWrVvDYDAgKioK1157LbZt21bvdQ8ePIhXX30V48aNQ0JCAry9vWEwGBAZGYmRI0fi/fffR3l5eZ3rqOm14tChQ3jggQfQsWNH+Pv7Q5IkLFy40P77vfT5OIBqf/euNFNG9WQFAWD/qkt5eXmVZc+dO1fjcsXFxfINN9xQZdmavsaMGSMXFhbWuI4LFy7IvXv3rncdAOQff/zRfr1bbrmlQde55ZZbqtxebGysDECOjY2Vjx8/Lnfu3LnadQYPHmxffv369fafP/PMM7U+ZufPn5eHDRvWoEyXLFiwoEHLx8bGVrmtZ555xn7Z+vXra800f/582cvLq851d+3aVU5PT691HYMHD7YvW1ZWJk+YMKHWdRkMBvmXX36pdV0NYTQaZYPBUO9jotPp5Hfffbfe9f33v/+t8zEYPHiwnJ+fX+Pv/nKOeL43VOXHPTc3Vx4wYECtt+fn5ycvX7681nU19PmyY8cOOT4+vs77ptfr5fnz5zfrvlW+vcTExHofz9TU1GrXrfz3f+zYMXnmzJm1Xl+j0cgff/xxrTkWLVrUoL/DxMRE+cCBA7Wu5/LXikWLFtX43FuwYEGV329dX3W95pDjKPYz8rrs37/f/r3BYEB4eHi1ZYxGI4YNG4Y//vgDANCmTRtMnToVnTt3hsFgwNGjR/HZZ5/h0KFDWL58OSZMmIA1a9ZAo6m6E+OOO+7Ajh07AABt27bF1KlTkZSUBC8vLxQWFuLQoUPYtGlTtXfV9913HyZMmIC3334b69evBwB88MEH1bK2adOmxvtoNBoxadIk7N+/HwMHDsTkyZMRFRWFCxcuICsrq1GP14ULF9CnTx+kp6cDAAICAjB16lT07t0b/v7+yMnJQVpaGn7++WecPn3afr0hQ4bgxx9/xK+//op33nkHAHDvvfdiyJAhVdbv7e3dqDxAxWMxY8YM+//Hjh2LMWPGIDAwEIcPH8aCBQuQnp6Ov/76CwMHDsTu3bsRFhZW5zpvu+02LFmyBD179sQNN9yANm3aIDs7G19++SW2bNkCo9GIm266CYcOHUJoaGijMwOAzWaD0WhEVFQUhg8fjuTkZPueklOnTmHLli1YtmwZLBYLZs2ahaioKEycOLHGda1btw4333yzfat78ODBmDJlCsLDw3Hy5El8/vnn2LhxI+644456cznq+d4Ut912GzZv3oxOnTrhlltuQWxsLM6dO4fFixdj27ZtKCoqwqRJk/D777+jV69eTbqNrVu3YtiwYfa9XkOHDsWoUaMQExOD8vJybN26FZ999hlKS0sxY8YMGAyGanu7GuP333/HiBEjUFZWBgBITEzEddddh44dO8JgMODs2bPYtm0bli9fXu9g06eeegqLFy9GUlISpk2bhrZt26KoqAg//PADVqxYAZvNhrvvvhsDBgxAhw4dql2/tLQUkiShZ8+eGDRoENq3b4+goCAUFhbixIkT+Prrr3H48GEcO3YMo0aNQlpaWr2zYzZv3oy5c+dCq9Xi9ttvx4ABA+Dp6YlDhw4hIiICc+bMQXZ2Np566in76+3lA5AB1JiXWoDodxKNgRq2CmsyZcqUerdQHnjgAfsyM2bMkI1GY7VlTCaTPG3aNPty8+bNq3J5VlaWrNFoZAByr1695OLi4lozZWRkyBkZGdV+XvmdeV1blpdc2iK/9PX666/XuXxDtshHjRplX2bo0KFyTk5OjcvZbDb5hx9+qPbzylvmCxYsqPc+1LeFlZ6ebt8S0Gq18tdff11tmdLSUnnMmDH29UyZMqXG27p8y+HJJ5+UbTZblWWsVmuVLfWXX3653vtQG4vFIq9YsaLabVS2Z88eOSIiQgYgJyQkyFartdoyJpNJTkhIsGd68cUXa7yt22+/vdoWek0c8XxvjMsf93/84x+yyWSqsozNZpMfffRR+zJdu3at8XGr7/lSWFgox8TEyABkHx+fWveqHDlyRG7Tpo19uQsXLjTpvuXn58uRkZH2TI899phsNptrXLakpEReuXJltZ9fvkdu2rRpNa7jvvvusy8zc+bMGm9j37598vHjx2vNa7Va5VdffdW+nmeffbbG5Sq/VgCQIyIi5P3799e6Xlmu+nsmcRT16NdV5IWFhfLGjRvlsWPHVlluxYoV1ZY9e/asrNfr7cVVl8ovqO3ataty2datWxtcqLVpTpFPnDix3uXrK/ItW7bYL2/btm2db0Zq4+gif/DBB6u8SNamoKDA/oIqSZJ86NChastUfqEZMmRIres6cuRIg5ZzlE8//dR+e7/99lu1y7/99lv75VdffXWt6zEajXK7du3qLHJHPd8bo/LjHhcXJ5eVldW4nM1mk/v162dftqbSq+/58p///Md++WeffVZnrnXr1tmXnTt3bpPu29y5c+3rmDp1apPWUfnvvkOHDjW+sZLlite1S29qExISmnRblwwaNEgGKnax1+TyIv/pp5/qXSeL3DUodrDb5YMq/P39MXjwYCxbtsy+zOuvv46RI0dWu+4333wDk8kEAHj44YfrvB0PDw9cf/31AIAjR45UGSxTeZdx5d35znLvvfc2ex1ffPGF/funnnrKJY6G98MPPwAAdDpdnb8ff39/3H333QAAWZbtR5erzf3331/rZW3btkVMTAwAVBnQ11L69+9v/76mwUw//fST/fsHHnig1vXo9XrMnDmzztty1PO9qe655x54enrWeJkkSXjwwQft/69p92x9Pv/8cwBAZGQkbrzxxjqXHTJkCKKiogAAq1evbvRtAcCXX34JANBoNJgzZ06T1lHZzJkzodfra7zMz8/P/nFDenp6vQPW6nLpOXfs2DFkZ2fXuWxsbCzGjh3b5Nsi51LlZ+Tdu3fHZ599hi5dutR4+W+//Wb//vz58/UWQF5env37v//+2z4Ku3PnzoiKisLZs2fxySefQJZl3HHHHbjiiisc8tliXbRarUOOWvf7778DqHhBdYU/3PPnz+PEiRMAgG7dutU4vqGyESNG4P/+7/8A1FyIlfXt27fOy6Ojo3Hq1Kkqv++mysjIwKJFi7Bhwwb7MQ1qexGuPO7gkj///BNARVkMGjSoztuqb6S6o57vTTV06NAGX35pvElDFRQUYO/evQAqirwh0019fX0BVNy3xsrNzbW/0evSpQsSEhIavY7LNeR5CVS8Wc3Pz0dERESNy61duxZfffUVduzYgZMnT6KoqKjWWR1nzpypcxzIwIED6zwkNrkWxRZ55XfuZWVlyMjIwJdffon9+/dj9+7dePfdd/H+++/XWKiVtzIaO+Cl8oucVqvFBx98gMmTJ8NkMuHTTz/Fp59+isDAQPTr1w8DBw7E1VdfjZ49ezb6/tUnJCSk1q2cxrhUIuHh4QgODm72+porMzPT/n1SUlK9y1depvJ1a1LfADaDwQCgYmBYc7z55puYPXt2g9dTWFhY7Wdnz54FAERERNQ7WLC+MnHU872p2rZtW+flwcHBCAwMRH5+vv1+N9SpU6dgs9kAALt27ap14GBNmnLfzpw5Y/++Y8eOjb5+TRr6vARQ45vBgoICXHfddY3aw1DTc66yS28eSBkUW+Q1Hdlt9uzZuP/++/HOO+/ggw8+QHBwMF544YVqy9U3r7wul3ZRXnLNNddg+/btePbZZ7F8+XKYzWbk5+djxYoVWLFiBZ588kl06dIFr776ao27+ZvKy8vLIeu59Ad9aStFtKKiIvv3DdnNXzl35evWpKX3kgAVu10r7yq+8sorMXjwYMTFxcHPz8++C/X8+fO46667AKDGraaSkhIADRvxX9/j5Mjne1M09D7k5+ejuLi4Uetuzn0zm82Nvk7lAnTU30xzn5dTpkzB2rVrAVTsih87dixSUlIQGRkJb29v+/q/+uorfP311wBqfs5V5qjXF3IOxRZ5TSRJwhtvvIGtW7fizz//xMsvv4zx48ejT58+VZa79Aeo0+lQVlYGna55D0O3bt3w448/oqioCJs3b8aWLVuwadMmbNmyBWazGfv27cPo0aPx+eef1/sZnrP5+/sjNze30S+gLcXPz8/+/aUyq0vl3JWvK8rTTz8NoOK5tXTpUowaNarG5eobU+Hj44PCwsIqBxGqTX2Pk6Of741VWlpa7+/m0n1obDlWXn769OlYsGBB4wM2gr+/v/17V/ib2bRpk73Eu3XrhjVr1tQ6DXPz5s3OjEZOpNjBbrXRarV4/fXXAVTM6X3kkUeqLXNpt5HFYsHhw4cddtt+fn4YOXIknn/+eWzYsAGZmZn2rTNZlvHQQw/V+07Y2Vq3bg2gYgsxNzdXcJqKzzkvOXLkSL3LV17m0iAmUY4fP47jx48DqNhjVFuJA7CPA6jNpfty7ty5esv80m3WpqWe7w119OjROi/Pzc1Ffn4+gMb/DivvAnbGgNPo6Gj7Z8dN+Yzd0S6VOADMnTu3zmMp1PecI+VSXZEDFbszr7rqKgAVg7l++eWXKpcPHjzY/n1TRsk2VEhICF5//XX7qNPz589XK6fKu9VkAWcpu3Q4W1mWq4z4bwxH3ofw8HD72erS0tJw4cKFOpev/LngFVdc0azbbq7KB+JJTEysc9lVq1bVefml54zNZsOmTZvqXLa+w5Y66/lem19//bXBl/fu3btR6w4NDUWnTp0AADt37qz3cK/NFRwcbL+9ffv22Q+iJEpDn3Mmk6ne50lTiH79ogqqLHIAeOKJJ+zfXzpX9iU33HCD/bPKN954A+fOnWvRLJVH/VosliqXVd412JBdyY5200032b+fO3dukzI4+j5MnjwZQMVj9eabb9a6XFFREd5//30AFR+rNGagU0uo/FlwXcdSP336dL27gMePH2///q233qp1OZPJhHnz5tW5Lmc/3y/3/vvv1znw74033rB/P2nSpEav/5ZbbgFQ8aan8t99S7n0N2Oz2fDkk0+2+O3VpaHPuXnz5tX7prgpRL9+UQXVFvnw4cPto8W3b99eZas8JibGPgc7JycHV199dZ27/2RZxrp16zB37twqP1+1ahXeeuutOgfcHD16FGvWrAFQ8aS//F1zfHy8/ftdu3Y18N45Tt++fTF69GgAFbupJ0yYUOsudlmWa5ze4+j7cO+999oH27zyyiv4/vvvqy1TXl6Om266yT7KefLkyWjXrl2zb7s5OnbsaB949tNPP2H79u3VlsnKysL48ePrHZg3fvx4++O6cuVKvPzyy9WWsVqtuPvuu+v9CMJRz/emOn78OO64445qb2JlWca//vUvbNmyBQCQnJyM4cOHN3r999xzj30vzqXBhnUN0issLMTbb79dZbd0Y8ycOdP+EcDixYvx+OOPV7tvl5SVlTV5vnpDVN6D8fzzz9f4hmnZsmWYPXt2i9y+6NcvqqCqwW6Xe+KJJzBlyhQAFWdQulRYAPDiiy8iLS0N69atw969e9GpUyeMHz8egwYNQkREBMxmM7KysrBnzx6sWbMGZ8+exdChQ6u8A8/MzMQDDzyAxx57DFdddRX69OljP/NQdnY2duzYgW+++cb+TvWBBx6oNhq08hzaxx57DBcuXED79u3tA5Kio6PRtWvXFnuMAGDRokW44oorkJ6ejrVr1yIxMRE33HCD/VjreXl52Lt3L5YtW4YTJ05U24XWtWtXhIeH4/z58/jiiy8QFhaGvn372u+rl5dXld279YmLi8Mbb7yBGTNmwGKxYMqUKRg/fjxGjx6NwMBAHDlyBJ9++qn9s+Ho6Gi89957jntAmkiv1+Ouu+7C66+/DrPZjEGDBuG2225D79694eHhgV27dmHBggXIz8/HtGnT8Nlnn9W6Lg8PD3z00Ue4+uqrYbVaMXv2bKxYsQLXXnstwsLC7Mda37t3L6ZMmYLvvvsOQO0joB3xfG+qCRMm4PPPP8fu3btxyy23oE2bNsjKysLixYuxdetWABVTrD755JMmzV328fHBkiVLMHjwYBQWFuLNN9/EN998g+uuuw7Jycnw9/dHUVER0tPTsX37dqxfvx5Go9F+IJnGCggIsJ9Br7y83P5m8/rrr0fHjh2h1+tx7tw57NixA8uWLUNKSgpGjBjRpNuqz8SJExEdHY0zZ85g+/bt6NSpE26//XYkJCQgPz8fv/zyC5YtWwZvb29MmjTJfrAlRxk6dCjefvttAMDtt9+OBx98ELGxsdBqtQAqph7WN/2QHEDI8eSaCHUcorUmVqtVbt++vf06P//8c5XLjUajPGvWLFmr1VZZd21f06ZNq3L9hp51SJIk+f7776/xmNqyLMtTp06t9bp1nf2sIRp69rNz58416IxGkiTVeP0PPvig1us09exn8+bNkz09PevM06VLlwaf/aw+jjjcZFlZmXzVVVfVmfmuu+6Sjx07VuvvuLL//ve/dT4GgwYNkrOzs+3/HzduXK3rau7zvTEqP5Z5eXn1nv3s8r/Nyhr6fDl48KDcvXv3Bt03g8FQ4+GbG+OPP/6odu6Dmr6uuuqqatdtzKGZ61t269atclBQUK23HxgYKC9fvrzex7GhrxWVWSwWeeDAgbXeNs9+5hyq3bUOVGydPP744/b/X/5ZuV6vxzvvvIODBw9i9uzZ6NOnD8LCwqDT6eDt7Y34+HiMHj0aL7zwAvbu3Vvl3OEAcPPNN2PPnj14/fXXMX78eLRt2xY+Pj7QarUICAhASkoKZs2ahZ07d+LNN9+sdWvp888/x7x585CamorQ0FCnTw8CgFatWmHDhg345ZdfcPPNNyMhIQE+Pj7w8PBAeHg4Bg8ejGeffRaHDh2q8fp33nknVq5cWeV8ys01Y8YMHD58GI8//jhSUlIQGBgIvV6PyMhIjB49GgsWLEBaWlqzjzzmSJ6enli9ejXef/999OvXD35+fvZznl933XVYtWoV5s+f3+C5w1OnTsW+ffswY8YMxMfHw2AwIDQ0FAMHDsQHH3yAdevWVdmtW9dBfZr7fG+qwMBArF+/Hu+99x769++PkJAQGAwGJCYm4t5778X+/fsxZsyYZt9O+/btsXPnTvz000+45ZZbkJSUBH9/f2i1WgQGBqJbt26YNm0aFi5ciMzMzGYf16FPnz44fPgwPvzwQ4wZMwZRUVHQ6/X23/fYsWPx7rvv2veWtJS+fftiz549mDVrFhITE6HX6xEQEIAuXbrg8ccfx549e6rsjXQkrVaLNWvW4KWXXkK/fv0QFBRk3xon55FkmUMNiZRs2bJlGDduHICK8wtUPiCNKKmpqdi4cSMAcDQzUQtT9RY5kTt499137d/Xd9x1IlIfFjmRC7u0VVsTm82G2bNn20dFX3HFFejevbuzohGRi1D1qHUipRs6dCji4+MxcuRIdO3aFcHBwSgvL8fff/+Nb7/91j71TK/XY/78+YLTEpEILHIiF3f06NEqu88vFxwcjG+++YZb40RuikVO5MJ+/fVXrFixwn7s/pycHJhMJvuhQkeOHIm77rqrysk8iMi9cNQ6ERGRgnGwGxERkYKxyImIiBSMRU5ERKRgLHIiIiIFY5ETEREpGIuciIhIwVjkRERECsYiJyIiUjAWORERkYKxyImIiBSMRU5ERKRgLHIiIiIFY5ETEREpGIuciIhIwVjkRERECsYiJyIiUjAWORERkYKxyImIiBSMRU5ERKRgLHIiIiIFY5ETEREpGIuciIhIwVjkRERECsYiJyIiUjAWORERkYKxyImIiBSMRU5ERKRgLHIiIiIFY5ETEREpGIuciIhIwVjkROR0P/74IyRJwsGDBwEAGRkZ8PLyQkpKCjp16oQZM2Zgz549SElJQUpKCoKDgxEfH4+UlBQMGzYMALB7925IkoRVq1aJvCtEwrHIicjpFi9ejIEDB+Krr76y/ywxMRFpaWnYu3cvDhw4gGPHjiEtLQ1paWkYN24cXn31VaSlpWHt2rVV1rF48WJRd4PIJbDIicipiouLsXnzZnzyySdVivwSnU6H/v374+jRo7WuQ5ZlfPfdd1i4cCFWr16N8vLyloxM5NJY5ETkVEuWLMHIkSORlJSE4OBg7Nq1q8rlpaWlWLduHbp27VrrOjZv3oz4+HgkJiYiNTUVv/zyS0vHJnJZLHIicqrFixfjhhtuAADccMMN9l3jx44dQ0pKCgYMGIAxY8Zg1KhRjV4HkTuSZFmWRYcgIveQk5OD1q1bIzw8HJIkwWq1QpIkbNy4EWPHjsW+fftqvN706dNxzTXXYMqUKbBarYiOjoaHhwe0Wi1kWUZOTg4yMzPh5+fn5HtEJB63yInIab777jtMmzYNJ06cQEZGBk6dOoX4+HicPn26wetYu3YtunXrhlOnTiEjIwMnTpzA5MmTsWTJkpYLTuTCWORE5DSLFy/GxIkTq/xs8uTJeOGFF5q9jv/+978OyUikNNy1TkREpGDcIiciIlIwFjkREZGCsciJiIgUTCc6AJFayFYrbMWFsBXkw1ZUAGthPmwXv+TyMkCWAUm6uPTFfyXJ/m21yzQSNN6+0PgHQhsQCI1/IDQBQdAGBEHy0DvxnhGRK2ORE9VDtlpgyTwNy6kMmM+ehDUvB7bCgoqSLrr4b2EBbCVFFWXtBJKXd7WC1/gHQusfBG1wKHSt4+DRJg4ab1+n5CEicThqnegiW3ERzKczKgr7dAYspzNgPn0ClnOnAYtFdLwm0YaEQdc6Hh4xsdDFxMPj4pc2OFR0NCJyEBY5uR3ZbIbpyH6YDh+A+VQ6LGdOwHzqBGz5OaKjOY3k4wePmDh4xMRd3HpPgL59F2gDgkRHI6JGYpGT6tlKi2E8sBfG/bthOrAHpsP7IZuMomO5JF3rOBg6d4ehS3cYuvaALixCdCQiqgeLnFTHmpsN4/40GPfvhvFAGszpRwGbVXQsRdKGR1aU+sVy92gdJzoSEV2GRU6KZzmfifK07TDuT4PpQBosZ0+JjqRamsAQGDqn2MvdIyEJkn20PRGJwCInRTIdPYiyPzai7I+NMKcfFh3HbWmCQuB1xSB49R0Mz+5XcFockQAsclIE2WqBce+fFeW9bROsF7JER6LLSF7e8OzRD179UuHVeyA0vjylKJEzsMjJZclWK4x7d6B00xqU/bEBtsIC0ZGooXQ6eKb0gffgEfDqO5jz2YlaEIucXIpstcL4106U/rYGZVvWw1aYLzoSNZOkN8CzZz94DxoBzysGQePpKToSkaqwyMklWHOzUbzyR5SsWgJrNnebq5Xk6QWvAUPgO/paGDp0ER2HSBVY5CRU+Z4dKF7+Hcr+2ABYOUXMnXi07QjfMVPgPfhqaAzcSidqKhY5OZ2tuAgl635G8S/fw3I6Q3QcEkzjFwCfYWPhO2YKdJGtRcchUhwWOTmN6ehBFC//FqUbV0E2louOQ65GkuDZox98r7kWnr0GQNLwLMtEDcEipxYlm4wo3bgaxb98B9Ph/aLjkEJoW0XBd9Qk+IyYAG1AoOg4RC6NRU4twlZajKIli1G89CvYijhtjJrIQw/vQcPhf+2t8IiJE52GyCWxyMmhbGWlKP5pMYp+/BK24kLRcUgtNFp4p16NgH/cyc/RiS7DIieHsJWXoXjZ1yj64QvO/aaWo9XCZ+g18J/6T+jCI0WnIXIJLHJqFpuxHMXLv0PR95/Blp8rOg65C50OPiPGw//626ELDRedhkgoFjk1iWwyonjFDyj8diFseTmi45CbkvQG+IyaBP9rp0MbFCI6DpEQLHJqFNlsRvHKH1D07UJYcy6IjkMEAJAMnvC95lr4Tb6Fo9zJ7bDIqcFK1q9AwaJ3eeYxclmSlzf8xt0Avym3QOPtIzoOkVOwyKle5pPpyHv/JRj/2ik6ClGDaEPCEXjnQ/AeOEx0FKIWxyKnWtnKy1G4+CMULfkSsFhExyFqNM9e/RE04zFOWSNVY5FTjUq3bkD+B6/BeuGc6ChEzSIZDPC77lb4T74FkoeH6DhEDscipyos584g74PXUL79N9FRiBxK1zoOQXfPhme3XqKjEDkUi5wAVIxGL/x+EYq+WQDZaBQdh6jFeF81CoH/fBDawGDRUYgcgkVOKN+9DXnzXoblzEnRUYicQvLxQ+At98Bn1CSeZY0Uj0XuxmxFhcib/wpKN6wUHYVICH1SZwTN+hf0ie1FRyFqMha5myrftwu5r/0f54QT6XQIuGUW/CbeCEmSRKchajQWuZuRrVYU/vcjFH6zALBZRcchchmePfsj+KFn+dk5KQ6L3I1Yzmci55UnYfp7r+goRC5JExiCkIefg2ePvqKjEDUYi9xNlG5ajdx3X4BcUiw6CpFrkyT4TboJAdPugaTTiU5DVC8WucrZysuQP/8VlKxZJjoKkaLokzoh5LEXeFQ4cnkschUzHT2InFf+xWllRE0kefkgaNYT8EkdKToKUa1Y5CokyzKKfvwSBYveAyxm0XGIFM976DUImvkYNF7eoqMQVcMiVxlbcRFyXn0S5X9uER2FSFV00W0Q8vgL0Cd2EB2FqAoWuYpYMk/jwnMPwnIqXXQUIlWSDJ4Ifvh5eA8YIjoKkR2LXCWM+9OQPecR2ArzRUchUjdJQsCt98J/8jTRSYgAsMhVoWT9CuS+9W/AbBIdhcht+Fw9EUH3PA5JyylqJBaLXMFkWUbhFx+g8KuPRUchckuG7n0Q+sTL0Pj4io5CboxFrlCyyYjcN55D6abVoqMQuTVdmwSEPfsmdK2iREchN8UiVyBrfi6y//0ITAd5qFUiV6AJDEbo/70OQ4cuoqOQG2KRK4z5xDFceO5BWLPOio5CRJVIBgOCH3wO3lcOEx2F3AyLXEHKdm5FzkuzIZeWiI5CRDWRJARMuxv+190qOgm5ERa5QpSsX4HcN54FrDz1KJGr8xkxHkGz/gVJqxUdhdwAi1wBStb9jNw3nwdsNtFRiKiBvFNHIvih51jm1OI4AdLFlaz9GblvscSJlKZ0w0oAYJlTi2ORu7CSNcuQ+/a/WeJECsUyJ2dgkbuo4tU/Ie+duSxxIoWrKHMJwQ89yzKnFsEid0HFq5ZUlDiHLxCpQumGFQDAMqcWwSJ3McUrf0Teuy+wxIlUhmVOLYVF7kKKV3yPvPdeYokTqRTLnFoCi9xFFP/yHfLef5klTqRy9jJ/+DlIGo3gNKQGLHIXULz8O+TNY4kTuQuWOTkSn0GClW5exxInckOlG1Yg7+05omOQCrDIBTIe2ofc/zzNEidyUyVrlqLwmwWiY5DCscgFsWSdRfbzD0M2GkVHISKBCj57H6W/rRUdgxSMRS6AraQYF559ALb8HNFRiEg0WUbu68/AeHCf6CSkUCxyJ5MtFmTPfQyWk8dFRyEiFyGbjMj+90OwZJ0VHYUUiEXuZHnvvgDjnu2iYxCRi7Hl51bsqSspFh2FFIZF7kSFX3+KkjVLRccgIhdlOXkc2S8+DtlqER2FFIRF7iSlm1aj4PN5omMQkYsz7t5WcXAoogZikTuB8cAe5L7xHKeZEVGDlKz8EYU/fCE6BikEi7yFWTJPI/vfD0M2cZoZETVcwYK3Ubp1g+gYpAAs8hZkKy/Dhecfgq0wX3QUIlIamw25rz4F09GDopOQi2ORt6C8917kNDMiajLZWI7sFx7nSHaqE4u8hRSvWoLSX38RHYOIFM6adQa5b/1bdAxyYSzyFmDKOIr8D14VHYOIVKJs8zoU/fyt6BjkoljkDmYrK0XOi7N5DHUSwirLGPX7AUzfcRQAkG+y4B/bDmPQhn34x7bDyDfXPD95w4UCpG7chys37MN7x87Zf/7CwdMY8dsBPLAn3f6z78/k4JP0rJa9I1RN/sdvwHSMn5dTdSxyBzv+5SJYTmeIjkFu6tP082jr42n//3vHz2FAqD82pXbBgFB/vF+ppC+xyjKe2n8Si3q3w7pBnbD0bC4OF5Wh0GzFzrwSrL6yE2wycLCwDOVWG749nYNpseHOvFsEAGYTcl56ArbSEtFJyMWwyB3ol/2ZuK24I34f+k/RUcgNZZaZsO5CAW6ICbX/bE1WPqZEhwAApkSHYHVWfrXrpeWXIM7bE7HeBug1GoyNDMLqrHxoJMBss0GWZZRbbdBpJMw/fg63xYXDQyM5625RJZazp5D33kuiY5CLYZE7yOn8Mryy9jDKzDa8bk3Ce5NeRJlvkOhY5Eae/fsU/tUhGhrpfyWbbbSglacHAKCVpweyjdV3rZ8rNyPq4jIAEOmlR5bRDF+dFqMigjDq978R462Hn06LPQWlGNEqsMXvC9WudMMKlGxYKToGuRAWuQNYbDY8/fN+lJis9p+ty9XisdSnkdH5SoHJyF2szcpHqN4DyQE+jb5uTccbvPRWYGZiBFZe2Qn/1zEG/zl8Bg+3i8LiU9mYues43j6a2azM1HR5778My/nqH5OQe2KRO8DHWzLwV2ZhtZ+fKTbjsVbjsGL0g5Al7oqklvNnXgnWnM9H//V/Ydbu49iSU4j709IRatAhq9wMAMgqNyPUoKt23UhPD5y9uAxQsYs+3OBRZZl9BaUAgAQfA74/nYN5PRJwqKgM6SXlLXivqDZySRFyX38ass0mOgq5ABZ5M/19rhAL/zhR6+UWm4yPSiPx8sRXURja2onJyJ3M7hCN7UOSseWqrni3ewL6h/jjrZR4DA8PxHdncgAA353JwfAadot3C/BBekk5TpYaYbLZsCwzr9pyrx0+i4eSomCWZVgvbsNrAJRZWSSiGP/ahaLvPxMdg1wAi7wZLDYb5qw6CGsDToayPdeGh3s/hAO9xzohGVGFuxMj8Ft2IQZt2IffsgtxT0IEAOBcuQm37DgCANBpJPy7cxvcvP0Ihmzaj2sig9Dez8u+jlXn8tEt0BsRnnoEeOjQM9AXwzfthyRJ6OTvLeR+UYWCLz7glDSCJMs8JVdTLdyWgfc2Ne4QrBKA6/0LMHn5K9BazfUuT0RUF4/EDmj1xiJIWq3oKCQIt8ib6GReKT7ektHo68kAvioMwDNjX0Z2644Oz0VE7sV87CCKl/Oob+6MW+RNIMsyZny9G7tO5TdrPb56Le4t343em3jeYSJqOsnHF5Hzv4M2OLT+hUl1uEXeBD/uPdvsEgeAYpMVL2qS8cmkOTB5+TU/GBG5JbmkGPkfvyE6BgnCIm+kC8VGvLPxmEPXuTxXj9nDn8eZdr0dul4ich+lG1ehPG276BgkAIu8kV5ZcwjFNRwdq7kyCs14pM31+HX43Q5fNxG5h7x5L0M2cxCtu2GRN8Kvh89jw9HsFlu/0WrDu+Y4vDnpFZQG8KQURNQ4ltMnOLfcDXGwWwMZLVZc+8k2ZBY650hWET4eePD0L2i3Z41Tbo+I1EEyGBDx/jfQRUSLjkJOwi3yBlq885TTShwAzpWY8a/g4Vh6zWOwaTg/lIgaRjYakTf/VdExyIlY5A2QW2Kq8zCsLcUqAwuLQzF3/CvIb5Xg9NsnImUq3/E7SrduEB2DnIRF3gAfbk6vcmYzZ9udZ8VD3WdhT9/JwjIQkbLkf/AabOVlomOQE7DI63E8uwRL9p4VHQP55RY859kHX0x4BmYPT9FxiMjFWS+cQ+HXn4qOQU7AIq/HWxuONuikKM7yQ74P/m/0i8iKSxYdhYhcXPFPi2HNzxUdg1oYi7wOf6TnYEt6jugY1RwuMOPhdtOw5arbREchIhcmG8tR+O1C0TGohbHIa2GTZby14ajoGLUqNdvwmtwB8ya9iHKfQNFxiMhFlaz4Htbcljv+BYnHIq/F0r8ycTS7RHSMeq3J1eKxIc/gRMeBoqMQkQuSjUYUfrNAdAxqQSzyGlisNny8JV10jAY7XWTGY1HjsXLU/ZAlSXQcInIxxSt/hCU7S3QMaiEs8hr8vP8csoqMomM0itkq48OyaLwy8VUUhUSJjkNErsRs4gh2FWORX8Zqk7Fom/MP/uIo23JteLjPIzjYc7ToKETkQkpWL4XlfKboGNQCWOSXWfV3Fk7nK/sgCtmlFjzln4rvxv0LVq2H6DhE5AosZhR+9YnoFNQCWOSVyLKMhdsyRMdwCJsM/LcwEM+Nexk50Umi4xCRCyhZuwyWzNOiY5CDscgr+fXwBaTnlIqO4VD78ix4qPNd+HPgP0RHISLRrFYUcKtcdVjklXz6R4boCC2iyGTFC7oULJj4b5i8fETHISKBSn/9Beazp0THIAdikV/0+7FsHD5fLDpGi1qWZ8ATw+fgbNueoqMQkSg2Kwq/+lh0CnIgFvlFn27NEB3BKdILzXg4bio2DLtLdBQiEqR042pY81zv8NPUNCxyALtO5eGvzELRMZzGaLHhbUsi3pr0Mkr9Q0XHISJns5hRsvon0SnIQVjkAL7dfUZ0BCE25kp45MoncSx5iOgoRORkxSt+gGyziY5BDuD2RZ5dbMSGIxdExxDmXIkZs0NHYdmYR2DTaEXHISInsV44h/Ltv4mOQQ7g9kW+9K9MWGyuc75xEaw2GQtKwvHChFeQHx4rOg4ROUnx8u9ERyAHcOsit9pk/LjXPXer12RXrhUP97gff/WZKDoKETlB+e4/eIAYFXDrIv/9eDbOFSrr5CgtLa/cgme9+mHxhKdh9vAUHYeIWpIso/iX70WnoGZy6yL/zk0HudVHBvBtvi+eHvMizsd2ER2HiFpQydqlkE3coFEyty3y03ml2JaRKzqGSzuUb8ZDSdPxR+p00VGIqIXYCgtQummN6BjUDG5b5N/vOQv3HuLWMKVmG15BJ3ww6QUYvf1FxyGiFlD8Cwe9KZlbFrnJYsOyfTwvb2OsytXh8aHP4WSH/qKjEJGDmQ7tg+noQdExqIncssh/O5aNgjKz6BiKc7LIjMeiJ2LNyPtERyEiByte/q3oCNREblnkqw9miY6gWCarjHnlrfHapFdRHBQpOg4ROUjpptWwlZeLjkFN4HZFXmKyYPNxniygubbkyni436M41H2k6ChE5AByeRnKd24RHYOawO2KfOORbBgtPL6wI1woteDJwCH4YewTsGp0ouMQUTOVbflVdARqArcr8jXcre5QNhn4oigI/x7/CnIj24qOQ0TNULb9N8hmjh9SGrcq8sJyM/7g3PEWsTfPgoeSZ2LXgBtERyGiJpJLS1C+e5voGNRIblXkvx6+4PYnSGlJhUYr5nj0wKKJz8Ns8BEdh4iaoHTzOtERqJHcqsi5W905fsrzxJMj5yAzobvoKETUSOXbNkG2WkTHoEZwmyLPLTFh58l80THcxtECMx5OuBGbht4pOgoRNYKtqADGvX+KjkGN4DZFvu7weVhl7lZ3pnKLDW9a2+LdSS+hzDdIdBwiaqDSzRy9riRuU+S/HcsWHcFt/ZqrwaOpTyO9S6roKETUAGVbN0K2cZquUrhFkRstVuw6lS86hls7W2zGY+FjsHz0w5AlSXQcIqqDLT8HxgNpomNQA7lFkaedLuBBYFyA1Sbjk9JWeGniqygMjREdh4jqUMbd64rhFkW+JZ2HZHUlO3JteLD3g9jfe7zoKERUi7It6yFzXJEiuEWR8yAwrievzIKnfQbgq/H/B4uHXnQcIrqMNTsL5uOHRcegBlB9kWcVleN4donoGFQDGcA3BX54ZsxLuBDTUXQcIrqMcf9u0RGoAVRf5Nu4Ne7y/s634KGO/8T2QTeLjkJElRj3sciVQPVFvjWdRa4EJSYrXtJ0xUeT5sDk5Sc6DhEBMO5PEx2BGkDVRW6TZew4wSJXkhW5ejw+/HmcTuorOgqR27Pl58B85oToGFQPVRf5gcxCFJTzmMFKc6LQjEdiJmPdiHtERyFye9y97vpUXeS7TxeIjkBNZLLKeM8Ui9cnvYKSwFai4xC5LQ54c32qLvL9mSxypfs9F3i4/+M4knK16ChEbsm4L010BKqHqot8X2ah6AjkAOdLLfhX0FAsGfs4rBqd6DhEbsWadQaWbJ4C2pWptsizi43IKjKKjkEOYpWBz4pCMGf8y8iLSBQdh8it8HNy16baIt/PrXFV2pNnxUMpdyOt37WioxC5DX5O7tpUW+Tcra5eBeVWPG/ojc8nPAuz3kt0HCLVY5G7NhY5KdaP+d54atQLOBffTXQUIlWznEyHtTBfdAyqhSqL3CbL+Psci9wdHCkw4+G2N+P3If8UHYVIvWQZpoP7RKegWqiyyDNySlFisoqOQU5SZrbhdVsS3p/0Isp9gkTHIVIl86njoiNQLVRZ5Ps4f9wtrc3V4tGrnkZG5ytFRyFSHcupdNERqBaqLPLD54tFRyBBzhSb8VircVg56kHIkiQ6DpFqmE9liI5AtVBlkfP84+7NYpPxYVkkXpn4KgpDW4uOQ6QKLHLXpcoiz8hlkROwLdeGh3s/hAO9rhEdhUjx5JIiWHOzRcegGqiuyIuNFlwoNomOQS4ip8yC//MdhG/HPQmr1kN0HCJF41a5a1JdkafncGucqpIBLC4MwLPjXkZ26w6i4xApluV0hugIVAPVFXlGbqnoCOSi9udZ8FCnO7Bj0E2ioxApkpkj112S6or8VB6LnGpXbLLiRU0yPpk4ByYvH9FxiBSFRe6aVFjkZaIjkAIsz9PjieFzcLZtL9FRiBTDcvqE6AhUA9UV+el8Fjk1THqhGQ/H3oBfh88UHYVIEazZWbCVca+nq2GRk1szWm141xyPNye9gtKAcNFxiFweB7y5HlUVeX6ZGcVGi+gYpECbcoFHBj6Bo92GiY5C5NL4ObnrUVWRZxcbRUcgBTtXYsYTwSOw9JpHYdNoRcchcknW7POiI9BlVFXkOSU8EAw1j1UGFhaH4YXxryC/VZzoOEQuh+cldz2qKvLcUhY5OcauPCse6n4f9vadJDoKkUuxschdjrqKnFvk5ED55RY869kXX054BmYPT9FxiFyCrSBfdAS6jLqKnFvk1AK+z/fB02NexPnYrqKjEAlnK8wTHYEuo6oi52fk1FIO5ZvxUNIt2HLVraKjEAllLSgQHYEuo6oi5xY5taRSsw2vyR0xf9ILKPcJFB2HSAh+Ru561FXk3CInJ1idq8PjQ57BiQ4DREchcjq5rASy2Sw6BlWiriLnFjk5yakiMx6LnoBVI++HLEmi4xA5FbfKXYtqilyWZeSW8l0iOY/ZKuOD8mi8OvEVFIVEiY5D5DTWAg54cyWqKfJysw1Wmyw6BrmhP3JlPNznERzsOVp0FCKn4Ba5a1FNkRutNtERyI1ll1rwlH8qvhv7L1i1HqLjELUoFrlrUU2RmywschLLJgP/LQrE8+NeRk50kug4RC2Gh2l1Leopcm6Rk4v4K8+ChzrfhZ0Dp4qOQtQibEWFoiNQJeopcm6RkwspMlkxV9cdCyY+D7PBR3QcIseycGCxK1FPkXOLnFzQsjxPPHH1HJxN7Ck6CpHDyDa+3jpKSUkJ5s2bB1szHlP1FDm3yMlFHS804+H4qdg47C7RUeiiDRcKkLpxH67csA/vHTtX7fKjxeWYsOUg2q7chQ+O/+/yHKMZk7YexLBN+7HqXL7957f/eRTnyt3oOBZWi8NWNXfuXHTu3BnJyclISUnBtm3bAAD//Oc/ceDAAYfdzuVSU1Px559/AgBGjx6N/Px8AMDbb7+Njh074sYbb8TSpUvx0ksvOew2L1+fxWLBrFmzMHDgQGg0Ta9jSZZlVczZ+vNkHmZ+vVt0DKI6pQbL+OfaV+BdmCM6ituyyjIGb9yHL69IQqSnB8ZuPoh3UuKR5OdlXybbaMaZMhNWZeUjwEOLuxIiAACfZpyHp0bCuKhg3LzjCH7s1wFrsvKxr7AUD7Zzn2MJ+E68EUH/fLDZ69m6dSseeughbNiwAQaDAdnZ2TCZTIiKavnHMjU1Fa+99hp69epV5ecdOnTAihUrEB8f3+IZHEU1W+RGbpGTAmzIlfDooKdwrOsQ0VHcVlp+CeK8PRHrbYBeo8HYyCCszsqvskyowQPdAn2gu+yofR6ShHKbDJNNhgYSLDYZn2Scx4yLRe82rFaHrCYzMxOhoaEwGAwAgNDQUHuJV95i9vX1xZNPPolu3bqhb9++yMrKqrau4uJi3HrrrejatSuSk5Px/fffAwBmzpyJXr16oXPnznjmmWdqzBEXF4fs7GzMmDEDx48fx7hx4/DGG29g4cKFmDVrFgAgKysLEydORLdu3dCtWzds2bIFADBhwgT07NkTnTt3xocffmhf58qVK9GjRw9069YNQ4cOBYAq6ztx4gSGDh2K5ORkDB06FCdPngQATJ8+Hffddx/69++PhIQEfPfdd/U+jqopcjM/IyeFyCw2Y3bYKCwb8whsGq3oOG7nXLkZUZ7/m+sf6aVHlrFhg7fGRwVj04UC3Lz9CB5sF4nPTl7A5OgQeGlV81LaMDbHFPmIESNw6tQpJCUl4e6778bGjRtrXK6kpAR9+/bFnj17MGjQIHz00UfVlvn3v/+NgIAA/PXXX9i7dy+GDKl4szx37lz8+eef2Lt3LzZu3Ii9e/fWmmf+/PmIiorC+vXr8eCDVfc43HfffRg8eDD27NmDXbt2oXPnzgCATz/9FDt37sSff/6Jt99+Gzk5Obhw4QLuuOMOfP/999izZw++/fbbarc1a9YsTJs2DXv37sWNN96I++67z35ZZmYmfv/9d/z888+YPXt2vY+jrt4lFMLCo7qRglhtMhaUhEPzj/eQYLRBlmVIAGTYULENWPn5LAOSDEmWIQOQIAMSIMuABFvFzyRU/KDKdeX/fS/JgAzIkO3Xr7io8u1UejMsX1zm0jrki+tAxeGQK6/z0jpkWa7IgUq3dTGn/XZx6fuLcS9fR+XsMiBLl5b9X065cqYq1wEg2yBfdt/kSusDZBzf+SeyDxzArrE3Q5ZlZGz7AxcyMvDnNddXuumKa53Bz/A0GLB92LCLGWTMHF+xquKSEvywYAEenvZPTP/+BxSXluKaIVehXXxcpYdRrnqvqtwP5Wobk4i+DliPr68vdu7cid9++w3r16/H9ddfj5deegnTp0+vspxer8c111wDAOjZsyfWrFlTbV1r167FV199Zf9/UFAQAOCbb77Bhx9+CIvFgszMTBw4cADJycmNzvrrr7/is88+AwBotVoEBAQAqPhM/ccffwQAnDp1CkeOHMGFCxcwaNAg++754ODgauvbunUrfvjhBwDAzTffjMcee8x+2YQJE6DRaNCpU6ca9z5cTjVF7qHhiStIefzkQKTnudEgKRcgefvgbM4+nCsbCAA4ceEg9D4pOF8+qNqypZZ9sGq9kW1MrXbZN8tfwrAhT2D1tgxERA9H7x5jMO+TWXjonjsalKPyGx9JAiBden9V8eYFkgwJUsWbmUvLVbyTs7/Jki69aan8/4tvEf73qYBcdd32ZST7df53m/ZwFbd/6Q2jVPWNpdUvvEH3sSG0Wi1SU1ORmpqKrl27YtGiRdWK3MPDA9LFO6TVamGxVB9sV/F4Vu2B9PR0vPbaa9ixYweCgoIwffp0lJeXOyz7hg0bsHbtWmzduhXe3t5ITU1FeXl5jVnqU3n5Sx81AFXf/NVGNfuD9DrV3BVyEx4aCcZcx43+pYaJjemC8xdOIjvnNCwWE3bs/gXJXa5q1DqyLpxAQeEFJLXtDZO5HJIkQYIEs6Xhb8qkS+0NDWRZA9mmgc2mgWzTwmbTwmbVwWrVwmbRwWrWwWr2gMXiAYvZAxaTBywmPcxGPcyX/jUaYCo3wFTuCVO5J4xll768YCz1QnmpF4yl3igv8UZ5iY/937JiH5QX+6Ks2BdlRRe/iv1QVuSP0kL/i/8GVPoKBGy+jXq8anPo0CEcOXLE/v+0tDTExsY2aV0jRozAu+++a/9/Xl4eCgsL4ePjg4CAAGRlZWHFihVNzjp06FDMmzcPAGC1WlFYWIiCggIEBQXB29sbBw8exB9//AEA6NevHzZu3Ij09HQAQG5ubrX19e/f374H4csvv8TAgQObnE01W+QsclKaAWFBMOdwbIezabU6XD/pSbz94Z2w2Wzof8VEREW0xaYtXwMABvW/HgWFF/DiG9ejvLwYkqTBr5s+xzOPL4WXZ0WB/fTLWxg/+n4AQO/uozF/wX34ddMXGDtylrD75UySg15ui4uLce+99yI/Px86nQ5t27atMmCsMZ566incc8896NKlC7RaLZ555hlMmjQJ3bt3R+fOnZGQkIABAwY0Oetbb72FO++8E5988gm0Wi3mzZuHkSNHYv78+UhOTkb79u3Rt2/FBw5hYWH48MMPMWnSJNhsNoSHh1f7OODtt9/GbbfdhldffRVhYWFYsGBBk7OpZvrZvrMFuPXLnaJjEDXYjNgYWM7wCFmkPN16hqDvoFaiY9BFqtmM9XC3UaOkeIYS0QmImsZRW+TkGKr5dRi4a50UpI2vJ0ryuTVOyqTlhpNLUc1vg5+Rk5L0uzg1hkiJ9Aa+3roS1fw29HyHSAoSafOofyEiF2Uw8EBGrkQ17cdd66QUnHZGSsctcteimt+GQcd3iKQM/UKDYDZz2hkpF7fIXYtqilyv03CrnBSho5eP6AhEzWLwZJG7ElU1X4iPXnQEonp5cdoZKRx3rbsWVf02gr1Z5OTa2vh4opjTzkjh9Ny17lLUVeTcIicX1y84UHQEomaRJECvV1V1KJ6qfhsh3CInFxcp8zlKyuah1zT6zF7UslRV5NwiJ1em47QzUgFPL9Wca0s11FXk3CInF9YvNBBmE6edkbL5+fFgRq5GVUXOUevkyjpx2hmpgK8/i9zVqKrIuWudXJlXKT9XJOXzY5G7HHUVOXetk4uK8TGgOI/Tzkj5fLlr3eWoqsjDfQ2iIxDVqF8wz3ZG6sAtctejqiL30mtZ5uSSOO2M1IKfkbseVRU5ALQJ9hYdgagKnUaCidPOSAUkCfDxZZG7GtUVeSyLnFxM3xBOOyN18PbRQavloE1Xo7oibxPEIifX0smb085IHfj5uGtSXZFzi5xcjTennZFK+AdyrIcrYpETtaAob047I/UIDvUUHYFqoLoijwrwhF6rurtFCjWA085IRUJCOSvIFamu8TSShOhAL9ExiAAAUeCuSFIPbpG7JlWexiY22BvpOSWiY7Q4m9mEg/MfgGwxQ7ZZEdR1EKJHTIeltBDHvvw3TLlZ0Ae3QuKNT0Pn7Vft+payYpz47jWUncsAJAlx1z4C39jOOP3Lhyg4uB3eUW0Rf8NsAEDOzjWwlBWi1cDJTr6XyqWTJJjzOO2M1MHLWwtvH1VWhuKpboscAOJD3ONzcknngfZ3/gedH/wInR74EIWHdqD4xAFkrl8M/7Y90PXxz+DftgfObVhc4/VPLX0X/km90eXRhej0wIfwDI+FpawYxRn70fmhjyHbbCjNPA6b2YjsnasQ1m+8k++hsvUJDYTJyGlnpA7cGnddqizyDq2qb32qkSRJ0BoqPkaQrRbIVgsgScjfvwUhPUcAAEJ6jkDevs3VrmstL0HR8b8QesVoAIBG5wGdly8kSVOxLlmGzWKEpNXh3IavET5gIjRavhtvjM6cdkYqws/HXZcqX5m7RAaIjuA0ss2KA2/NhDHnDML7j4dvm46wFOdB7x8CAND7h8BSkl/tesbcTOh8A5DxzSsozTwOn+h2iBl/D7Se3gjseiUOvHkX/Nt2h9bTByWnDyFq+DQn3zPl8y6VUCw6BJGDcIvcdamyyMP9DAj3NeB8sVF0lBYnabTo/OCHsJQV49iip1F2Lr1B15OtVpSeOYI24++Fb5uOOPnTuzi3/itEX30rIlNvQGTqDQCAjG9fQ/SI6biwbTkKj+yEV2QCoobe1JJ3SRUivTjtjNQlJIxb5K5KlbvWAaBTpL/oCE6l8/KFX2IKCg7tgM43CKbCHACAqTAHOp/AasvrA8OgDwiDb5uOAICg5EEoPXOkyjKX/m8Ia42cXWuQeFPFG4XyC6db9s6owIAQTjsj9dBogKBgFrmrUm2Rd3GDIjcX58NSVrHz1mY2ovDITniGxSCwU3/k7FwNAMjZuRqBnftXu66HXzD0AWEoP38KAFB4ZDc8w2OrLHNm1QJEjZgO2WqFbKsYtCVJGtjM6t/T0VzRnHZGKhIc6gmtTrV1oXiq3LUOuEmRF+Ug/etXAJsVsiwjOHkwAjv1g29sJxz78t/I3r4C+qBwJN70NADAVJCNjO/+g6TbXwQAtJlwL44vfgGy1QxDSCTirn3Mvu68fb/DJ6YD9AGhAADf2E7Y//o/4RWRAO+oROffWQXhtDNSm4go95gJpFSSLMuy6BAtodRkwVVvb4JNlfeOXFm/sEB0zuPAIFKP4de0RkI79W8cKZVq95V463WID+H0H3K+Lt6+oiMQOVRkNLfIXZlqixxwj93r5Hp8yni2M1KPwCA9vLxV+ymsKqi6yDuzyMnJIr30KM7ltDNSjwhujbs8VRd5rzacAkTO1T8kWHQEIofibnXXp+oijwnyRmueCY2cqLXEaWekLixy16fqIgeAvnHcQiLn0EjgtDNSFV8/HfwC+ObU1am/yONZ5OQcfUICYSrn2c5IPfj5uDKovsh7tQmCTsNRxNTyOvtw2hmpS0wsn9NKoPoi99HrkBztPmdDI3F8Oe2MVESSgDbxLHIlUH2RA/ycnFpeK047I5VpFeUNTy/OH1cCtyjyfvEhoiOQyvFsZ6Q2sQncGlcKtyjy9uG+CPb2EB2DVKy1xFM8krrEJviJjkAN5BZFLkkS+nD3OrUQjQRYOe2MVCQgUM/zjyuIWxQ5AAxuGyY6AqlU75BAGDntjFSEu9WVxW2KfEBCCDw93ObukhN15bQzUhnuVlcWt2k2Tw8tBiaEio5BKsRpZ6QmBoOGB4JRGLcpcgAY2j5cdARSmXBPPUryOO2M1KNNgh80PIiWorhVkQ/k7nVysAEhQZBl0SmIHKddRx5AS2ncqtU8PbQYlMjd6+Q4MRqO7CX18PbRoXUbH9ExqJFctsgPHTqElJQU+5e/vz/efPPNZq93ZKeI5ocjAiABsOZZRccgcpi2HQIgSdytrjQue/y99u3bIy0tDQBgtVoRHR2NiRMnNnu9/eKCEeDlgYIyfq5JzdM7JADGAhY5qUf7TtytrkQuu0Ve2bp165CYmIjY2Nhmr0un1WBYEge9UfMl+3CKDqlHSJgngkM9RcegJlBEkX/11VeYOnWqw9Y3qlMrh62L3JevkbsgST2SOMhNsVy+yE0mE5YuXYprr73WYevs1joQ8SGcJ0lNF+apRwnPdkYqIUkVn4+TMrl8ka9YsQI9evRAq1aO3Yqe1C3aoesj9zIgJJDTzkg1Wsf6wNvHZYdMUT1cvsgXL17s0N3ql1zTJRJeHlqHr5fcQxsNP0sk9UjqGCg6AjWDSxd5aWkp1qxZg0mTJjl83b4GHa7uyM/KqfEkANZ8jlYndfDy1iK+nb/oGNQMLl3k3t7eyMnJQUBAy3x2MyWFu9ep8XqGBMBYxiIndejYNQhaLQduKplLF3lLa9/KD10j+U6UGifZl9POSB00WgmduwWLjkHN5NZFDgCTuVVOjeRf7vZ/NqQSie38OchNBdz+FWl4h1YI8PIQHYMUIsTggZJck+gYRA7RtTu3xtXA7Ytcr9NgXJdI0TFIIQaG8mxnpA6tIr0QFuElOgY5gNsXOVCxe13LEwVQA8Ry2hmpRBdujasGixxAdKAXhnXg8depbpx2Rmrh46tDAqecqQaL/KLb+saB2+RUlx6cdkYq0albEDQavuKpBYv8ooRQH6S2CxMdg1xYNx9f0RGIms1Dr0HnZO5WVxMWeSW394sTHYFcWICRh/Ql5evcLQgGTz6X1YRFXkn7Vn4YkBAiOga5oGC9B4o57YwUTuchIbknX+PUhkV+GW6VU00GhnHaGSlfp+RgeHnxADBqwyK/TNeoAPRuEyQ6BrkYTjsjpdPpJHTj1rgq8a1ZDW7vF4cdJ/NExyAXIQGQCzhavSa5eZlY+N8nUFiUA0mSMLDftRg66GacPnMQX373PIzGUoQER+G2m16Bl2fVwYJmsxGvvTsNFosJNpsVPbqNwNiRswAAPyz7D/Yf/B2tozvg1n+8CAD448+lKCktwNBBNzv9fqpB55RgHo5VpfhbrUHPNkFIiQ5A2pkC0VHIBaQE+6O8kEVeE61WhynjH0Ob1p1QXl6CF964Fh2T+uHzb57G5LGPIqltb2ze9gPWrP8U40bdV+W6Op0eD979KTwNPrBazXj1nZvRucOViGyVgOMZafi/R3/EJ188hjNnDyMstA227liC++78QNA9VTYPvQYpvbg1rlbctV6Luwclio5ALiKFZzurVYB/GNq07gQA8PT0QUR4AvILziPrfAbaJfYCAHRM6odde9dUu64kSfA0+AAArFYLrFYLJEmCJGlgsZohyzLMZiO0Wh3WrP8UV115E7RanhehKbp2D4YnPxtXLRZ5Lbq3DsRVnFdOAAJNnKrTENm5Z3DqzN+Ij01GVGQ77Nm/HgCwa88q5OWfq/E6NpsVc16bhEefvhIdk/ohPjYZnp4+6J48HHP/MxmhwdHw8vJDxql9SOkyxJl3RzUMBg1HqqucJMsci1ubU3mluH7BNpitfIjcVZDeA1MQAtkmOolrKzeW4PX3pmPUsDvRPXk4zmUdx9c/voiS0nwkd74K63/7Av+Zs6XW65eWFWL+p/fh+klPIjqyXZXLPv/6aQweMBUnT+/HgUNb0DoqCaOHz2jpu6Qa/Qa3QnIPFrmacYu8DjFB3rg2pbXoGCTQwNBAlng9rFYzPlz4AK7oMQbdk4cDACJaJeD+GR/hXw99i97dRyM0JKbOdXh7+SOp7RXYf/D3Kj8/efpvAECrsFj88edS3HnL6zibeRRZF060zJ1RmcAgPTp341Hc1I5FXo/b+8chwJOfLbmrOB1P81gXWZbx2ddPIyI8AcNSp9t/XliUAwCw2Wz4Ze0HGNT/+mrXLSrORWlZIQDAZCrHwcNbEREeX2WZZSvfwdiRs2C1WWCzVQw4lCQJZlNZC90jdek3uBW0Wh5TXe3YUPXw9/TA7f3j8fqvR0RHIQFknu2sTsfSd2Hbn0sRHZmEOa9NAgCMH/0AzmefwMbNiwEA3bsOQ/8rJgIA8gvO4/Ovn8a9d85HQeEFLFr8L9hsNsiyDT27XY3kzqn2daf9tQ6xMV0QGFBxZsKEuBQ8/8oEREcloXV0B+feUQWKifNFm3gO1HQH/Iy8ASxWG65fsB0n80pFRyEnSgnyR68ib9ExiBpNowGuvTkRgcEG0VHICbhrvQF0Wg3uG8zpaO6muz+3ZkiZOqcEs8TdCIu8gQa3C0PPmEDRMciJeLYzUiJPLy169uXUWXfCIm+ER4clQafhwBF3EOChQwnPdkYK1Lt/OAwGvgl1JyzyRkgM9cX0PrGiY5ATXBkWxGlnpDghYZ7o2DVQdAxyMhZ5I93WLw7xIRwApXbxnHZGCqPRAIOHR0KSuNfQ3bDIG8lDq8GTV3cE97CrG6edkdIk9wxBWCu+AXVHLPIm6BYdgCk84ptqdQvyQ3kpi5yUIzBYj14c4Oa2WORNdM+gBET4c3qHGnX38xcdgajBJAlIHREFrY4v5+6Kv/km8tbrMHt4e9ExqAUEmTnil5SjS/dgtIrkuB13xiJvhgEJobi6YyvRMciBAjx0KMnhtDNSBv9APa4YEC46BgnGIm+mR4a0Q6CXh+gY5CADw4Jg47QzUojBwyOh4y51t8dnQDMFeuvxfyM7io5BDhKv8xQdgahBOnULQlRrH9ExyAWwyB1gUNtQXN+Do9jVQCrg5ji5vsBgPfpeyY/1qAKL3EHuG9wWSeG+omNQMyQH+aGshNPOyLVptRKGjWkNDw++fFMFPhMcRK/T4IWxXeDtwRHPSsVpZ6QE/VMjEBLKj4Dof1jkDhQb7I1HhyWJjkFNFMxpZ+TiEpP80Sk5SHQMcjEscge7pkskRnJKmuL467QoyTGLjkFUK/9APQYNjxQdg1wQi7wFzB7RHjGBPOaxkgwMD4bNJouOQVQjjVbCsNHR0Ou514iqY5G3AB+9DnPGdua5yxUkgWc7IxfW98pwnhCFasUibyGdIvzx4FXtRMegBuK0M3JVcW390LV7iOgY5MJY5C3ouh6tMalblOgYVI8ugX4oK7GIjkFUTWCwHqkj+BpCdWORt7BHhyahZ0yg6BhUh57+fqIjEFVj8NRi5Pg2MBj4uTjVjUXewnRaDV4a3xXRAZz36aqCzDrREYiq0GiAEde0RkCgXnQUUgAWuRMEenng9Und4MMRpy7HX6dFKaedkYsZOCQSUTE8jjo1DIvcSRJCfTDnms7gQHbXMoDTzsjFdO0ejI5dedAXajgWuRMNTAzFrEGJomNQJYmcdkYupE28L/oO4gGlqHFY5E528xWxGNM5QnQMukgq5LQzcg1BIQYMHRUNDXfbUSOxyAX414gOHMnuAjoH+qKsmNPOSDxPLy1Gjo+BniPUqQlY5ALodRr8Z1IyOkVw2pNIPf15tjMST2/QYMykNvAP4Ah1ahoWuSA+eh3empKC+BCOTBUlxMJpZySWTidh5Pg2CA3nWA1qOha5QIFeHnjvuhREcY650/ly2hkJptFKGDE2BpHR3qKjkMKxyAUL8zXgvWtTEOrD3WrONCAsCFYrp52RGJIEDB0ZjZg4X9FRSAVY5C6gdZA33rk2BQGe3NXrLG09uCuTxBk0LBIJSRyjQY7BIncRbcN88ebkbvD24KhVZ9AWcmucxOg3uBU6dOEBX8hxWOQupEtUAF6d2BV6LX8tLaljgC9KOe2MBOjRJxTJPXhKUnIsNoaLuSI2GK9N7AqDjr+altIrgLs0yfl69AlF7/7homOQCrEtXFC/+BC8ObkbvLibvUVw2hk5W58rw1ni1GJY5C6qV5sgvDOFZ0xzNB+dBmWcdkZONHBIBFJ6hYqOQSrGIndh3VoH4r3runM0uwMNDAvmtDNyCkkCrro6Cp27BYuOQirHIndxnSP9Mf+GHpxn7iCcdkbOoNFKGDamNZI6BYqOQm6ARa4AbcN88fE/eqJ1IEuoubRF3BqnlqXTSbh6XAwS2nFQJTkHi1whogO98NHUHmgbymOzN1WHAB+UFnHaGbUcD70Goya2QRsesY2ciEWuIKG+Bnw4tQd6t+HBJJqiV0CA6AikYr5+Hhh/XRyiWvPNNjkXi1xh/Dw98Pa13TCpW5ToKIoTymln1ELCIzwxcWo8QsJ4AiRyPkmWZX5oqFCLd57CW+uPwspfYb28dRrcrG3FEevkcAlJ/rjq6ijoeBAnEoRFrnCbj+fgyWX7UGKyio7i0kZEhKJNNrfIybF69AlFr35hkCRJdBRyY3wLqXADEkLwyY09eU7zerQ1cMQ/OY5WK2HIyGj07h/OEifhWOQqkBjqi4U39UJKNAdz1UbHs52Rg3h6aXHNlFi068i/N3IN3LWuImarDXNXHcTy/edER3Ep7f19cGWpn+gYpAIhYZ4YMbY1/AN4gCZyHSxyFfoh7QxeX38ERotNdBSXcFObKHie5WNBzdOhSyAGXBXBQW3kcviMVKFJKdFYcGMvxAV7i47iEjjtjJpDp5OQOiIKg4dzZDq5Jm6Rq1iZyYqX1x5y613tXjoNpulawWrh05waLzBIj2FjWnN+OLk0Frkb+HlfJl5ZexhlZvebojY8IgSx2R6iY5ACJXUKwMAhkfDw4FY4uTYWuZvIyCnBE0v34Wh2iegoTnV3mxiYzvL849RwHh4aDBwSwTOXkWLwraabiAvxwcKbe2Fisnsd2lVXzPep1HDhEZ6YdGM8S5wUhVvkbmjDkQt4ec0hZJeYREdpUW39vJFaxlNJUv20Wgm9+oUhuWcINBoe4IWUhUXuporKzXhj/VEs25cpOkqLubFNJLzO8ulNdQuP8ELqiCgEhRhERyFqEha5m/sjPQcvrD6EzMJy0VEc7oHoNijOUvdeB2o6rVZCr/5hSO7BrXBSNhY5odRkwbubjuG73WeglieDp1aD6R6tYOG0M6pBq8iKrfDAYG6Fk/KxyMlu9+l8zFl5ECfzSkVHabZhESGI47QzuoxOJ6FX/3Ak9wjmyU5INVjkVIXRYsWHm9Px5Z+nYLUp96kxs00MzJx2RpXEJfqh3+BWPE46qQ6nn1EVBp0W9w5ui8XTr0C/+GDRcZpMz2lndFFQsAFjJrXB1eNinFLit912G8LDw9GlSxf7zx599FF06NABycnJmDhxIvLz81s8B7kPbpFTnTYfz8FbG44gPUc5u9sT/bxxFaeduT29QYNefcPQOSXYqYPZNm3aBF9fX0ybNg379u0DAKxevRpDhgyBTqfD448/DgB4+eWXnZaJ1I1b5FSnAQkh+O/0K/DI0HYI8FTGyUf6BPI80e5MkirOVHbD9LboKmBE+qBBgxAcXHVv1ogRI6DTVfz99O3bF6dPn3ZqJlI3Zbwyk1A6jQbX94jBqE4R+HBzOr5LO+PSn5+H2zxQDE47c0cRUV7onxqBsFZeoqPU6tNPP8X1118vOgapCIucGszf0wOPDE3ClJRovLnhKDYfzxEdqRpPrQblORzk5m6CQw3o1S8M8W1d+yOVuXPnQqfT4cYbbxQdhVSERU6NFhfigzcnd8OuU3n4eEsGdpzMEx3JbkBoICw5rru3gBwrKNiAnv3CkNDOz+Wnky1atAg///wz1q1b5/JZSVlY5NRkPWKC8P71QdhzpgAfb0nHHxm5oiMhyeADM7hFrnYBQXr07BuGtu39FVGKK1euxMsvv4yNGzfC29tbdBxSGY5aJ4fZd7YAH2/NELrL/f6QGJQUsMjVyj/AAz36hKFdxwCXPazq1KlTsWHDBmRnZ6NVq1Z47rnn8OKLL8JoNCIkJARAxYC3+fPnC05KasEiJ4f7+1whPt6agU1Hs516uwm+XhhSzhHrahQQpEe3niFo3znQZQucSBQWObWYQ1lFWLjtBNYfueCUUe5TYyLhk8mns5pEx/iga49gtIn3VcQudCIRWOTU4rKKyvHDnrNYsucscktbbloYz3amDlqthHYdA9C1ezCCQz1FxyFyeSxychqz1Ya1h87j292n8dfZQoeu26CVcKs+AhYzn85K5e2tQ6duQeiUHAQvb47DJWooFjkJcTCrCN/sOo3VB7NgtNiavb6rWgUjMYcnw1CiVpFe6JQchMT2AdBqufucqLFY5CRUQZkZS/86iyV7M5t1+tQZsTGwnOFodaXw9dOhXcdAJHUKQGAQzwlO1BwscnIZf58rxMq/s7D24HmcLzY26rqcdub6dDoJ8e38kdQpANExPhy8RuQgLHJyOTZZxq5T+Vj59zmsP3wBheWWOpeP8/XEsPJA54SjRots7Y2kToFIbOcPDz3P00TkaCxycmlmqw1b0nOw6u8s/HYsG+Xm6p+nc9qZa9FogMjWPohL8ENsoh/8/D1ERyJSNRY5KUapyYKt6bn47Vg2tqbnILe0Ylc6p52Jp9drEBPni7hEP8TE+cLgqRUdichtsMhJkWyyjAOZhfj9eA4izkrIOlMmOpLb8fHVITbRD3GJfohq7cMR50SCsMhJFcrKLDhzsgSnMopx5mQJSorr/lydGs/bW4fI1t6IbO2NqNY+CArhaHMiV8AiJ1UqzDchK7MM5zJLcT6zDDkXysFneuP4+OoQ2doHURfLm9PEiFwTi5zcgtlsw4VzZcjKLENWZimyMstQXmYVHctl6HQSgkM9ERruifAIL0S29oZ/AA+wQ6QELHJyWwX5JuRmlyMvx4i8XCPyckwoyDPCYlH3n4S3jw7BoQYEh3oiJNSA0HBPBAYbeFYxIoVikRNVIssyigrMF4u9ouDzc00oLjKjrNSiiN3zklSxW9zPXw8/fw/4+nvAP0AP/wAPBIV6wpMjyolUhUVO1EA2m4yyUgtKii0oKTbb/y0tqfhZaYkFZpMVZpMNZrMNtuYfQt5OkgC9QQuDpxYGg6biX08tDAYtPL20/ytsfz18/Dw4gpzIjbDIiVqI1SrDbLbBbLLBYrb973uLDZIEQJKgkQBIgEaSIEmAJEmQNBX/ajT/K2+9XsNDmhJRjVjkRERECsYDHxMRESkYi5yIiEjBWOREREQKxiInIiJSMBY5ERGRgrHIiYiIFIxFTkREpGAsciIiIgVjkRMRESkYi5yIiEjBWOREREQKxiInIiJSMBY5ERGRgrHIiYiIFIxFTkREpGAsciIiIgVjkRMRESkYi5yIiEjBWOREREQKxiInIiJSMBY5ERGRgrHIiYiIFIxFTkREpGAsciIiIgVjkRMRESkYi5yIiEjBWOREREQKxiInIiJSMBY5ERGRgrHIiYiIFIxFTkREpGAsciIiIgVjkRMRESkYi5yIiEjBWOREREQKxiInIiJSMBY5ERGRgrHIiYiIFIxFTkREpGAsciIiIgVjkRMRESkYi5yIiEjBWOREREQKxiInIiJSMBY5ERGRgrHIiYiIFIxFTkREpGAsciIiIgVjkRMRESnY/wOtb5pGYgqr3wAAAABJRU5ErkJggg==\n",
      "text/plain": [
       "<Figure size 576x576 with 1 Axes>"
      ]
     },
     "metadata": {},
     "output_type": "display_data"
    }
   ],
   "source": [
    "plt.figure(figsize=(8,8))\n",
    "\n",
    "newdf = pd.DataFrame(merged['rating'].value_counts().reset_index())\n",
    "\n",
    "plt.title('Restriction age pie chart',size=30)\n",
    "plt.pie(newdf['rating'],labels=newdf['index'],autopct='%1.1f%%')\n",
    "plt.savefig('Pie_chart_ages.pdf')\n",
    "plt.show() "
   ]
  },
  {
   "cell_type": "markdown",
   "id": "52e25498",
   "metadata": {},
   "source": [
    "## HISTOGRAMA DE PUNTUACIÓN"
   ]
  },
  {
   "cell_type": "code",
   "execution_count": 482,
   "id": "cab5b57e",
   "metadata": {
    "scrolled": true
   },
   "outputs": [
    {
     "data": {
      "image/png": "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\n",
      "text/plain": [
       "<Figure size 720x432 with 1 Axes>"
      ]
     },
     "metadata": {},
     "output_type": "display_data"
    }
   ],
   "source": [
    "plt.figure(figsize=(10,6))\n",
    "\n",
    "plt.style.use('ggplot')\n",
    "plt.title('Rating distribution',size=30)\n",
    "plt.hist(merged['averageRating'],bins=65,edgecolor='black',linewidth=1.2,color='#113CCF')\n",
    "plt.savefig('Rating_distribution.pdf')\n",
    "plt.show()\n",
    "\n",
    "# pongo 65 basado en el resultado de:\n",
    "# x = merged['averageRating'].unique()\n",
    "# print(len(x))\n"
   ]
  },
  {
   "cell_type": "markdown",
   "id": "853a5218",
   "metadata": {},
   "source": [
    "## HISTOGRAMA PELÍCULAS y SERIES EN FUNCIÓN AÑO DE LANZAMIENTO"
   ]
  },
  {
   "cell_type": "code",
   "execution_count": 484,
   "id": "b7f326e0",
   "metadata": {},
   "outputs": [
    {
     "data": {
      "image/png": "iVBORw0KGgoAAAANSUhEUgAAAlYAAAF2CAYAAACs4da0AAAAOXRFWHRTb2Z0d2FyZQBNYXRwbG90bGliIHZlcnNpb24zLjMuNCwgaHR0cHM6Ly9tYXRwbG90bGliLm9yZy8QVMy6AAAACXBIWXMAAAsTAAALEwEAmpwYAAAniUlEQVR4nO3de3RU5b3/8c9MQkpiLmYyAUoIyv1SqMEV5IiVmBKrB9GFqXelElGg0haJWvGGLj226aohUIXaUrXV6jniqQn291s9aAQTXbFJLLVSUCEYKBxTc5mYCQwxt/37wx9TYzKZSfIkM5O8X2u5ltmz97Of2d/J8Mmzn723zbIsSwAAABgwe7A7AAAAMFwQrAAAAAwhWAEAABhCsAIAADCEYAUAAGAIwQoAAMAQghUQ5n77298qMjIy2N0YVi666CLdeuutPn826eGHH9bUqVN9/mzaihUrlJWVNWjtAyMdwQoIkhUrVshms8lmsykiIkITJkzQ9773Pf3v//5vsLuGr3jllVe0adOmgNY9fvy4bDab3nzzzYDWv+uuu/TnP/95AL3r2e9//3vZbLZuy7ds2aKXX37Z+P4AfIFgBQTRhRdeqJqaGv3jH//Qiy++qL/+9a+6+uqrg92tYaezs1MdHR393t7hcCg+Pt5gj/7Vp9jYWDmdTqNt9yYhIUGJiYlDtj9gpCFYAUEUFRWlcePGKSUlRYsWLdKqVav0zjvvyO12e9f5y1/+ou985zuKjY1VcnKysrOzdfTo0V7b9bdNdXW1srOzNX78eMXExGju3Ll6/vnnu7Tx9ttv64ILLlBcXJzi4uJ0zjnnaNeuXd7XP/30U61YsULJycmKi4vTBRdcoNLSUp992rNnjyIiInTs2LEuy3/3u98pLi5Ozc3NAbVrWZZuu+02TZkyRdHR0Zo8ebLuu+8+ff755951Tp9Oe+mllzRz5kxFRUXpgw8+6LFfR48e1aWXXqro6GhNnDhRTzzxRLd1vnoqsLdjk5qaKknKzMyUzWbT2Wef3WuffJ36e/HFFzV58mSNHj1aWVlZqq6u7vb+vuztt9+WzWbTkSNH9Oabb2r58uWS5B0VXbFihaTupwIty9Ljjz+uyZMnKyoqSlOmTNHmzZu7tH322Wdr48aNWrdunRwOh8aOHau77rprQGEVGK4IVkCI+OSTT/Tf//3fioiIUEREhCTpwIEDysjI0Pnnn693331Xu3fvVkREhC6++GK1tLT02E4g25w4cUKLFy/W//zP/2jfvn1atWqVcnJytGfPHklSR0eHrrjiCi1YsEB79+7V3r179fDDDysmJkaSdOrUKWVmZqq5uVl/+tOf9Ne//lVLlizRxRdf7DPAZGZmatq0aXrmmWe6LP/Nb36j6667TnFxcQG1a1mWxo4dqxdffFEffPCBNm/erGeffVY/+clPuh3Pbdu26be//a0OHDigs846q1ufLMvSlVdeqYaGBr355pt69dVX9eqrr2rv3r0+6+Tv2Jze9g9/+INqampUWVnZpz5JUk1NjbZt26aXXnpJb731lpqbm7Vs2TIF+gSyhQsX6sknn/S2VVNToy1btvS47rZt2/Tggw9qw4YN2r9/v+6++25t2LBBTz/9dJf1nnjiCX39619XeXm5fvGLX2jz5s167rnnAuoPMKJYAILi5ptvtiIiIqwzzjjDio6OtiRZkqw777yzyzrXXnttl+1aWlqs6Ohoq7Cw0LIsy3r22WetiIiIPm3TkyuuuMK69dZbLcuyLJfLZUmy9uzZ0+O6zz77rJWSkmK1tbV1WZ6ZmWmtW7fO5z7y8/OtiRMnWh0dHZZlWdaHH35oSbIqKioG1O6mTZusqVOnen9+6KGHLJvNZh09etTnNpZlWa+//rolyfroo4+8y2pra63Ro0dbK1eu9C7LyMjw/uzv2Bw7dqzH13316aGHHrKmTJnS5WdJ1qFDh7zLPvroI0uS9frrr/e4jWVZ1ltvvWVJsqqrqy3Lsqznn3/e6ukr/uabb7YWL17s/XnChAnW3Xff3WWdO+64w5o0aZL357POOsu6/PLLu6xzySWXWNddd12PxwAYybiUCAiiBQsW6He/+51aWlq0Y8cOvf7663r00Ue9r1dWVqqqqkqxsbFdtmtpadGhQ4d6bDOQbTwejx555BH98Y9/VE1NjVpbW/X5558rMzNTkpSYmKhbb71Vl1xyib797W8rIyNDV155pWbMmOHdxz//+U+deeaZXfbx+eefKzo62uf7XbFihe6//37t2rVL//7v/67t27frnHPO0fz58/vU7vbt2/Wb3/xGR44c0cmTJ9Xe3q7Ozs4u24wdO1YTJ0702Rfpi9E9p9Op6dOne5clJyd732dP/B2b3gTSp9N9+PKpvunTp8vpdOrAgQNGr+hzu906fvy4Fi1a1GV5RkaGtmzZIo/H4x2JS0tL67JOSkpKl9OTAL5AsAKCKDo62vsP6Jw5c3Tw4EGtXbvWe7qss7NTy5cv14YNG7ptm5SU1GObgWxz9913a+fOncrPz9fMmTN1xhln6M4771RTU5N33e3bt2vdunV67bXX9Prrr+vBBx/Uk08+qdWrV6uzs1OzZs1SYWFht32c/oe4Jw6HQ1dddZW2b9+urKwsPffcc3r44Ye79N1fuy+//LLWrl2rvLw8ZWRkKD4+Xi+//LLuv//+LuufccYZPvtxmmVZPV45509vx6Y3gfTJF+tLpwHtdnu304JtbW39bvurx+CrbUtfzAf86jZfDbMACFZASHn44Yf1jW98Q7fffrvS09OVnp6u999/X1OmTAk4AASyTWlpqW688UZde+21kr4INAcPHtTYsWO7rDdnzhzNmTNHubm5WrNmjX79619r9erVSk9P13PPPaf4+HiNGTOmT+9x9erVyszM1FNPPaWTJ0/qxhtv7NJ3f+2WlpZq3rx5ys3N9S47cuRIn/pw2je+8Q3V1dXp0KFDmjZtmiSpvr5eBw8eVHp6eq/b+jo2pwPIQCZ219XV6fDhw5oyZYok6eDBg2poaNCsWbMkSWPGjFFtba06Ojq88/G+Oi/sy/04vc5XxcfHa8KECSopKdFll13mXV5aWqpJkyb1GpIB9IzJ60AImTlzppYuXap7771XknTffffpgw8+0E033aSKigpVV1drz549WrdunT7++OMe2whkmxkzZmjnzp2qqKjQgQMHtGrVKn3yySfeNqqqqnTPPffo7bff1tGjR/XOO+/orbfe0uzZsyVJN954oyZNmqTLLrtMr732mo4cOaLy8nL99Kc/VVFRUa/v8Vvf+pZmzJihu+66S9dcc40SEhK8rwXS7owZM7Rv3z7t3LlThw8f1pYtW/TKK6/063gvXrxY55xzjvdYvffee7rxxht7veGqv2PjdDoVGxur1157Tf/85z/V2NjY537FxMQoJydHf/nLX/Tuu+/q5ptv1ty5c72nATMzM+XxePTggw/q8OHDevnll7V169YubUyaNEmS9Oqrr6qurk4nTpzocV/33nuvnnjiCW3fvl2HDh3Sr371K/3yl7/Ufffd1+d+AyBYASHnxz/+sYqLi/XGG29o1qxZKisr04kTJ3TJJZdo9uzZuu2223Tq1Klu85BOC2SbgoICnXXWWcrMzNTixYuVkpKiq666ytvGGWecoUOHDum6667T9OnT9d3vfrfLlWajR49WSUmJ0tPTlZOTo+nTpys7O1sVFRU+r3T7sttuu02tra1atWpVl+WBtLt69WotX75cOTk5mjdvnsrLy7ucTuwLm82moqIiJSQkaNGiRVq6dKmWLFmic8891+c2/o6N3W7X1q1btWPHDqWmpmrevHl97tfXv/51rVq1St/97nd1wQUXKDo6WoWFhd4RyBkzZmj79u36r//6L82ZM0fPPPNMt6si58+fr3Xr1mnNmjUaO3asfvCDH/S4r+9///t65JFH9JOf/ESzZ8/Wz372M+Xl5WnlypV97jcAyWb1dDIdAAbRj3/8Y/3pT3/Svn37gt0VADCKOVYAhkxTU5P27dun7du3q6CgINjdAQDjGLECMGQuuugilZeX69prr9Uzzzwju53ZCACGF4IVAACAIfy5CAAAYAjBCgAAwBCCFQAAgCEhc1Xgl29OiMHjdDpVX18f7G6gD6hZ+KFm4Yeahadg1W38+PE+X2PECgAAwBCCFQAAgCEEKwAAAEMIVgAAAIYQrAAAAAwhWAEAABhCsAIAADCEYAUAAGAIwQoAAMAQghUAAIAhBCsAAABDCFYAAACGhMxDmAEAAPxxu93yeDySpNbWVrlcri6vx8TEKD4+Phhdk0SwAgAAYcLtduu8BQvV7G70uU5cfKIqysuCFq4IVgAAICx4PB41uxsVl/ai7KOSur3e2dag5vdukMfjIVgBAAAEwj4qSfavjQl2N3rE5HUAAABDCFYAAACGEKwAAAAMIVgBAAAYQrACAAAwhGAFAABgCMEKAADAEIIVAACAIQQrAAAAQwhWAAAAhhCsAAAADCFYAQAAGEKwAgAAMIRgBQAAYAjBCgAAwBCCFQAAgCEEKwAAAEMIVgAAAIYQrAAAAAwhWAEAABhCsAIAADCEYAUAAGAIwQoAAMAQghUAAIAhBCsAAABDCFYAAACGEKwAAAAMIVgBAAAYQrACAAAwhGAFAABgCMEKAADAEIIVAACAIQQrAAAAQwhWAAAAhhCsAAAADCFYAQAAGEKwAgAAMIRgBQAAYEikvxXq6+u1detWffbZZ7LZbMrKytKSJUt04sQJFRQUqK6uTsnJyVq/fr1iY2MlSYWFhdq9e7fsdrtycnKUlpY22O8DAAAg6PwGq4iICC1fvlyTJ0/WqVOntGHDBn3zm9/Um2++qblz52rZsmUqKipSUVGRbrrpJh0/flxlZWXatGmTGhsb9eijj2rLli2y2xkcAwAAw5vftJOYmKjJkydLkqKjo5WSkiKXy6XKykplZGRIkjIyMlRZWSlJqqys1MKFCzVq1CiNGTNG48aNU1VV1SC+BQAAgNDgd8Tqy2pra1VdXa2pU6eqqalJiYmJkr4IX263W5Lkcrk0bdo07zYOh0Mul6tbW8XFxSouLpYk5eXlyel09vtNIHCRkZEc6zBDzcIPNQs/1Cw8tLa2BrSew+EIWj0DDlYtLS3Kz8/XihUrFBMT43M9y7ICai8rK0tZWVnen+vr6wPtCgbA6XRyrMMMNQs/1Cz8ULPw0NNAja/1oqKiBq0f48eP9/laQBOf2tvblZ+frwsvvFALFiyQJCUkJKixsVGS1NjYqPj4eElSUlKSGhoavNu6XC45HI5+dx4AACBc+A1WlmXpqaeeUkpKipYuXepdnp6erpKSEklSSUmJ5s+f711eVlamtrY21dbWqqamRlOnTh2k7gMAAIQOv6cCP/roI5WWlmrixIm6++67JUnXX3+9li1bpoKCAu3evVtOp1O5ubmSpNTUVJ1//vnKzc2V3W7XypUruSIQAACMCH6D1cyZM7Vjx44eX9u4cWOPy7Ozs5WdnT2wngEAAIQZhpIAAAAMIVgBAAAYQrACAAAwhGAFAABgCMEKAADAEIIVAACAIQQrAAAAQwhWAAAAhhCsAAAADCFYAQAAGEKwAgAAMIRgBQAAYAjBCgAAwBCCFQAAgCEEKwAAAEMIVgAAAIYQrAAAAAwhWAEAABhCsAIAADCEYAUAAGAIwQoAAMAQghUAAIAhBCsAAABDCFYAAACGEKwAAAAMIVgBAAAYQrACAAAwhGAFAABgCMEKAADAEIIVAACAIQQrAAAAQwhWAAAAhhCsAAAADCFYAQAAGEKwAgAAMIRgBQAAYAjBCgAAwBCCFQAAgCEEKwAAAEMIVgAAAIYQrAAAAAwhWAEAABhCsAIAADCEYAUAAGAIwQoAAMAQghUAAIAhBCsAAABDCFYAAACGEKwAAAAMIVgBAAAYQrACAAAwhGAFAABgCMEKAADAEIIVAACAIQQrAAAAQwhWAAAAhhCsAAAADIn0t8K2bdu0d+9eJSQkKD8/X5K0Y8cOvfHGG4qPj5ckXX/99Tr33HMlSYWFhdq9e7fsdrtycnKUlpY2eL0HAAAIIX6D1UUXXaRLL71UW7du7bL8sssu0xVXXNFl2fHjx1VWVqZNmzapsbFRjz76qLZs2SK7nYExAAAw/PlNPLNnz1ZsbGxAjVVWVmrhwoUaNWqUxowZo3HjxqmqqmrAnQQAAAgHfkesfNm1a5dKS0s1efJkfe9731NsbKxcLpemTZvmXcfhcMjlchnpKAAAQKjrV7D6zne+o6uuukqS9NJLL+m5557T7bffLsuyAm6juLhYxcXFkqS8vDw5nc7+dAV9FBkZybEOM9Qs/FCz8EPNwkNra2tA6zkcjqDVs1/B6swzz/T+/+LFi/Wzn/1MkpSUlKSGhgbvay6XSw6Ho8c2srKylJWV5f25vr6+P11BHzmdTo51mKFm4YeahR9qFh4CPQvmcrkUFRU1aP0YP368z9f6Nau8sbHR+/8VFRVKTU2VJKWnp6usrExtbW2qra1VTU2Npk6d2p9dAAAAhB2/I1abN2/WgQMH1NzcrDVr1uiaa67R/v37deTIEdlsNiUnJ2vVqlWSpNTUVJ1//vnKzc2V3W7XypUruSIQAACMGH6D1R133NFt2be//W2f62dnZys7O3tAnQIAAAhHDCcBAAAYQrACAAAwhGAFAABgCMEKAADAEIIVAACAIQQrAAAAQwhWAAAAhhCsAAAADCFYAQAAGEKwAgAAMIRgBQAAYAjBCgAAwBCCFQAAgCEEKwAAAEMIVgAAAIYQrAAAAAwhWAEAABhCsAIAADCEYAUAAGAIwQoAAMAQghUAAIAhBCsAAABDCFYAAACGRAa7AwAAAJLkdrvl8Xh8vl5XVzeEvekfghUAAAg6t9ut8xYsVLO7MdhdGRCCFQAACDqPx6Nmd6Pi0l6UfVRSj+u0e6p0cv/aIe5Z3xCsAABAyLCPSpL9a2N6fq21YYh703dMXgcAADCEYAUAAGAIwQoAAMAQghUAAIAhBCsAAABDCFYAAACGEKwAAAAMIVgBAAAYQrACAAAwhGAFAABgCMEKAADAEIIVAACAIQQrAAAAQwhWAAAAhhCsAAAADCFYAQAAGEKwAgAAMIRgBQAAYAjBCgAAwBCCFQAAgCEEKwAAAEMIVgAAAIYQrAAAAAwhWAEAABhCsAIAADCEYAUAAGAIwQoAAMAQghUAAIAhBCsAAABDCFYAAACGEKwAAAAMifS3wrZt27R3714lJCQoPz9fknTixAkVFBSorq5OycnJWr9+vWJjYyVJhYWF2r17t+x2u3JycpSWljaobwAAACBU+B2xuuiii3Tfffd1WVZUVKS5c+fqF7/4hebOnauioiJJ0vHjx1VWVqZNmzbp/vvv19NPP63Ozs5B6TgAAECo8RusZs+e7R2NOq2yslIZGRmSpIyMDFVWVnqXL1y4UKNGjdKYMWM0btw4VVVVDUK3AQAAQo/fU4E9aWpqUmJioiQpMTFRbrdbkuRyuTRt2jTveg6HQy6Xq8c2iouLVVxcLEnKy8uT0+nsT1fQR5GRkRzrMEPNwg81Cz/ULPhaW1uNteVwOIJWz34FK18sywp43aysLGVlZXl/rq+vN9kV+OB0OjnWYYaahR9qFn6oWfD5Gojpb1tRUVHG2vuq8ePH+3ytX1cFJiQkqLGxUZLU2Nio+Ph4SVJSUpIaGhq867lcLjkcjv7sAgAAIOz0K1ilp6erpKREklRSUqL58+d7l5eVlamtrU21tbWqqanR1KlTzfUWAAAghPk9Fbh582YdOHBAzc3NWrNmja655hotW7ZMBQUF2r17t5xOp3JzcyVJqampOv/885Wbmyu73a6VK1fKbudWWQAAYGTwG6zuuOOOHpdv3Lixx+XZ2dnKzs4eUKcAAADCEcNJAAAAhhCsAAAADCFYAQAAGEKwAgAAMIRgBQAAYAjBCgAAwBCCFQAAgCEEKwAAAEMIVgAAAIYQrAAAAAwhWAEAABhCsAIAADCEYAUAAGAIwQoAAMAQghUAAIAhBCsAAABDCFYAAACGEKwAAAAMIVgBAAAYQrACAAAwhGAFAABgCMEKAADAEIIVAACAIQQrAAAAQwhWAAAAhhCsAAAADCFYAQAAGEKwAgAAMIRgBQAAYAjBCgAAwBCCFQAAgCEEKwAAAEMIVgAAAIZEBrsDAAAg/Lndbnk8nl7XiYmJUXx8/BD1KDgIVgAAYEDcbrfOW7BQze7GXteLi09URXnZsA5XBCsAADAgHo9Hze5GxaW9KPuopB7X6WxrUPN7N8jj8RCsAAAA/LGPSpL9a2OC3Y2gYvI6AACAIQQrAAAAQzgVCABAGONqvNBCsAIAIExxNV7oIVgBABCmuBov9BCsAAAIc1yNFzqYvA4AAGAIwQoAAMAQghUAAIAhBCsAAABDCFYAAACGEKwAAAAMIVgBAAAYQrACAAAwhBuEAgAQJDznb/ghWAEAEAQ85294IlgBABAEPOdveCJYAQAQRDznb3hh8joAAIAhBCsAAABDOBUIAMAg6e2qv7q6uiHujW9cnWjOgILV2rVrNXr0aNntdkVERCgvL08nTpxQQUGB6urqlJycrPXr1ys2NtZUfwEACAuBXvUXbFydaNaAR6weeuihLge5qKhIc+fO1bJly1RUVKSioiLddNNNA90NAABhxd9Vf+2eKp3cvzYIPeuKqxPNMj7HqrKyUhkZGZKkjIwMVVZWmt4FAABh4/RVf93+i0wMdte68NnPr43xGbjQ3YBHrB577DFJ0sUXX6ysrCw1NTUpMfGLD0tiYqLcbneP2xUXF6u4uFiSlJeXJ6fTOdCuIACRkZEc6zBDzcIPNQs/g1Gz1tZWY205HI4e+9eXfQynNvq7j6EwoGD16KOPyuFwqKmpSf/xH/+h8ePHB7xtVlaWsrKyvD/X19cPpCsIkNPp5FiHGWoWfqhZ+BmMmrlcLqNtRUVFDWgfw6mN/u7DlN7yzoBOBTocDklSQkKC5s+fr6qqKiUkJKix8YsJcI2NjZyLBQAAI0a/g1VLS4tOnTrl/f/3339fEydOVHp6ukpKSiRJJSUlmj9/vpmeAgAAhLh+nwpsamrS448/Lknq6OjQt771LaWlpWnKlCkqKCjQ7t275XQ6lZuba6yzAACgf3zdNyuU7qc1HPQ7WI0dO1Y///nPuy2Pi4vTxo0bB9QpAABghtV+UrJF6NJLLw12V0YE7rwOAMAwZnW2SFZHyN9Pa7ggWAEAMAKcvk9Vt+WtDUHozfDFQ5gBAAAMIVgBAAAYQrACAAAwhGAFAABgCMEKAADAEIIVAACAIdxuAQAw7Ljdbnk8nl7XiYmJ4Xm2MI5gBQAYVtxut85bsFDN7sZe14uLT1RFeRnhCkYRrAAAw4rH41Gzu9HnncYlqbOtQc3v3SCPx0OwGmLD/ZmFBCsAwLDk607jCI6R8sxCghUAAAjIQEabRsozCwlWAACgVyZHm4b7MwsJVgCAkBIqV/SFSj9CwUgZbTKBYAUACBmhckVfqPQj1Az30SYTCFYAgJARKlf0hUo/EH4IVgCAkBMqV/SFSj8QPnikDQAAgCEEKwAAAEMIVgAAAIYwxwoAgBA33B8DM5wQrAAAGIDBDD0j5TEwwwnBCgCAfhiK0MONOcMPwQoAgH4YytDDjTnDB8EKAIABIPTgy7gqEAAAwBCCFQAAgCEEKwAAAEMIVgAAAIYweR0AMGKdvtdUa2urXC5Xt+VAXxGsAAAjDjfexGAhWAEAjHG73fJ4PL2uExMTo/j4+CHqUc+48SYGC8EKAGCE2+3WeQsWqtnd2Ot6cfGJqigvC3q4krgHFcwjWAEAjPB4PGp2N/ocBZKkzrYGNb93gzwez4CDFQ8mRigiWAEAjPI1CmQK86MQyghWAICwwvwohDKCFQAgLDE/CqGIG4QCAAAYQrACAAAwhGAFAABgCMEKAADAEIIVAACAIQQrAAAAQ7jdQgjy96ytUHjOFoDwE0rfLdw1HcMVwSrEBPKsrUCes+XrC7S1tVUul4twBowwpr5bBoq7pmO4I1iFGH/P2grkOVuh8gU6VPz9FS75/0s8lP6SBwaDie8WqffflUBGm7hrOoY7glWIGsiztkx9gYaDQEKk1HuQHGlBFCPbQL5bAv19G0g/uGs6wh3Bahgb7AehmjDQ0SZ/IVLyHyRHUhAFBsLf7wqjTQDBakTzN2w/2Ke/TIw2nWYiRIZDEEXfmDhNjO4YbQJ8I1iNQIFOHo2NO1P/9//sVGxsbI+vD/QfJBOjTX0RDlch9RQETl9wIBEC+sJUcA+ncDbQ+U8ABo5gNQL5mzwqSR0tx3Ti76uVkZHhsx1T844Ge6QoXK5CYq6XWSaCu8lR1cFmcv4TgP4jWBkWTn/d9hZoOlsbeg1f4TTvyNRVSP7+4u/o6FBERITP1/3VfajmeoXTZ9SEwbwQRBq63wV/daurqzMy/6m3zzmjXoB/BCuDhvKv26H68guVeUcmTuP1d15IoCNeNlukLKvd5+uB1n0wj3k4jcAEwtSpL3+fr4HWZKBhti+jUYP9OQfQO4KVQX356/bo0aNKTk7u9rq/fwxG2pdfKLzfQE6dnh4NCPURvnAagQnk3mMDPfU1FJ8vE2E2kLoN9Iq8vnzOAfhGsBoEvf11O9Av8pH25RdKNxPsra6nRwNCZYTPn2D308R8MhOX/g/F58tkmA3kMzhQQ7EPYDgjWPVRqNx1eKR9+XF5978MZK6XqdPEg33/MX8ju5L/03R9+WwMxecr2GEWwNAYtGD13nvv6dlnn1VnZ6cWL16sZcuWDdauhgx3He47Lv82x9Rcr4EK9Pegt9t1+AtFoXAKuK++/Hn+8i0y+JwDI8ugBKvOzk49/fTTeuCBB5SUlKR7771X6enpmjBhwmDsLmADndPBXYe76+0fjebmZi29fJlONH82dB0axkzM9erLZ7S3Cd3+Tm0FcruO3oTTKW+TITAc7rUGoHeDEqyqqqo0btw4jR07VpK0cOFCVVZWBjVYmbxH0EgZbepNX/4xIYiaNZC5XoF8RgOt7UBu1zGcTnmbOL0fjiN0AHo2KMHK5XIpKelfXzBJSUk6dOjQYOwqYKdHm2JnPyHbqMRur1ttjWo+8MOA5nR0tvX8hd7Z3tjr64GsM9DXh6qNjtYayerweTwlqcNzRJ5DD/jch3dfQX4vQ7KP/788kNtkBLv2/mp7uq6B9MOfYL9Xk234M1THPNy/W0ZSG+HSz7Bqo5dth4rNsizLdKPvvPOO/va3v2nNmjWSpNLSUlVVVemWW27xrlNcXKzi4mJJUl5enukuAAAADDn7YDSalJSkhoZ/pcaGhgYlJnb9KywrK0t5eXmEqiG2YcOGYHcBfUTNwg81Cz/ULDyFYt0GJVhNmTJFNTU1qq2tVXt7u8rKypSenj4YuwIAAAgZgzLHKiIiQrfccosee+wxdXZ2KjMzU6mpqYOxKwAAgJAxaPexOvfcc3XuuecOVvPop6ysrGB3AX1EzcIPNQs/1Cw8hWLdBmXyOgAAwEg0KHOsAAAARiKeFTgMbNu2TXv37lVCQoLy8/MlSUeOHNH27dvV0tKi5ORk/ehHP1JMTIx3m/r6eq1fv15XX321rrjiCknSxx9/rK1bt6q1tVXz5s1TTk6ObDZbUN7TcNfXmh09elS//vWvderUKdlsNv30pz9VVFQUNRtCfalZe3u7nnrqKVVXV6uzs1OLFi3SlVdeKYnfs6FSX1+vrVu36rPPPpPNZlNWVpaWLFmiEydOqKCgQHV1dUpOTtb69eu9j10qLCzU7t27ZbfblZOTo7S0NEnUbCj1tW7vv/++XnjhBbW3tysyMlLLly/XnDlzJAWxbhbC3v79+63Dhw9bubm53mUbNmyw9u/fb1mWZb3xxhvWf/7nf3bZ5uc//7mVn59v7dy5s8s2H330kdXZ2Wk99thj1t69e4fmDYxAfalZe3u7deedd1rV1dWWZVmW2+22Ojo6vNtQs6HRl5q99dZbVkFBgWVZltXS0mLdfvvt1qeffurdhpoNPpfLZR0+fNiyLMvyeDzWj370I+vYsWPW888/bxUWFlqWZVmFhYXW888/b1mWZR07dsy66667rNbWVuvTTz+1fvCDH/B7FgR9rdvHH39sNTQ0WJZlWUePHrVWrVrlbStYdeNU4DAwe/bsbg+6/eSTTzRr1ixJ0je/+U2Vl5d7X6uoqNDYsWO7PGKosbFRp06d0vTp02Wz2bRo0SJVVlYOzRsYgfpSs7/97W+aOHGizj77bElSXFyc7HY7NRtiff09a2lpUUdHh1pbWxUZGamYmBhqNoQSExM1efJkSVJ0dLRSUlLkcrlUWVnpfYZlRkaG9/hXVlZq4cKFGjVqlMaMGaNx48apqqqKmg2xvtZt0qRJcjgckqTU1FS1tbWpra0tqHUjWA1TqampevfddyVJf/7zn703bG1padHOnTt19dVXd1m/p8cQuVyuoeswfNaspqZGNptNjz32mO655x7t3LlTEjULBb5q9m//9m8aPXq0Vq1apdtvv12XX365YmNjqVmQ1NbWqrq6WlOnTlVTU5P3htWJiYlyu92Suv8+ORwOuVwuahZEgdTty8rLyzVp0iSNGjUqqHUjWA1T3//+97Vr1y7dc889OnXqlCIjv5hOt2PHDl122WUaPXp0l/UtLg4NOl816+jo0Icffqgf/vCHeuSRR1RRUaF9+/ZRsxDgq2ZVVVWy2+361a9+pSeffFJ//OMf9emnn1KzIGhpaVF+fr5WrFjRZZ7pV/mqDTULjkDrdtqxY8f0wgsv6LbbbpMU3LoxeX2YSklJ0QMPfPEA5E8++UR79+6V9MUXfnl5uV544QWdPHlSNptNUVFRWrBgQbfHEJ0eXsXQ8FWzpKQkzZ49W/Hx8ZKkefPmqbq6WhdeeCE1CzJfNXv77beVlpamyMhIJSQkaMaMGTp8+LBmzZpFzYZQe3u78vPzdeGFF2rBggWSpISEBDU2NioxMVGNjY3e36uvPorN5XLJ4XD0+Ig2aja4+lI36YuaPP7441q7dq3GjRsnqedH6w1V3RixGqaampokSZ2dnXrllVd08cUXS5IeeeQRbd26VVu3btWSJUt05ZVX6tJLL1ViYqKio6N18OBBWZal0tJSHkM0xHzV7JxzztE//vEPff755+ro6NAHH3ygCRMmULMQ4KtmTqdTf//732VZllpaWnTo0CGlpKRQsyFkWZaeeuoppaSkaOnSpd7l6enpKikpkSSVlJRo/vz53uVlZWVqa2tTbW2tampqNHXqVGo2xPpat5MnTyovL0/XX3+9Zs6c6V0/mHXjBqHDwObNm3XgwAE1NzcrISFB11xzjVpaWrRr1y5J0nnnnacbbrih22WmO3bs0OjRo723Wzh8+LC2bdum1tZWpaWl6ZZbbuGS4kHS15qVlpaqqKhINptN8+bN00033SSJmg2lvtSspaVF27Zt0/Hjx2VZljIzM/k9G2IffvihNm7cqIkTJ3qP7/XXX69p06apoKBA9fX1cjqdys3N9V6U8Morr2jPnj2y2+1asWKF5s2bJ4maDaW+1u0Pf/iDioqKvCNVkvTAAw8oISEhaHUjWAEAABjCqUAAAABDCFYAAACGEKwAAAAMIVgBAAAYQrACAAAwhGAFAABgCMEKAADAEIIVAACAIf8PklBGQsDY0ngAAAAASUVORK5CYII=\n",
      "text/plain": [
       "<Figure size 720x432 with 1 Axes>"
      ]
     },
     "metadata": {},
     "output_type": "display_data"
    }
   ],
   "source": [
    "plt.figure(figsize=(10,6))\n",
    "\n",
    "plt.title('Release year distribution')\n",
    "plt.style.use('ggplot')\n",
    "plt.hist(merged['release_year'],bins=60,edgecolor='black',linewidth=1.2,color='#113CCF')\n",
    "plt.savefig('Year_distribution.pdf')\n",
    "plt.show()"
   ]
  },
  {
   "cell_type": "code",
   "execution_count": 249,
   "id": "e180aefd",
   "metadata": {},
   "outputs": [
    {
     "data": {
      "text/plain": [
       "Adventure,Animation,Comedy    128\n",
       "Animation,Comedy,Family       116\n",
       "Documentary                   102\n",
       "Action,Adventure,Animation     52\n",
       "Comedy,Drama,Family            46\n",
       "                             ... \n",
       "Action,Sci-Fi,Thriller          1\n",
       "Biography,Drama,Music           1\n",
       "Action,Fantasy                  1\n",
       "News,Short                      1\n",
       "Drama,Family,Western            1\n",
       "Name: genres, Length: 173, dtype: int64"
      ]
     },
     "execution_count": 249,
     "metadata": {},
     "output_type": "execute_result"
    }
   ],
   "source": [
    "merged['genres'].value_counts()\n",
    "\n",
    "# deberia quitar lo de hacer la lista, mejor dicho dividir en varios datos\n",
    "\n",
    "\n",
    "\n",
    "\n",
    "\n"
   ]
  },
  {
   "cell_type": "code",
   "execution_count": 310,
   "id": "47889cc3",
   "metadata": {},
   "outputs": [
    {
     "name": "stdout",
     "output_type": "stream",
     "text": [
      "Movie      1032\n",
      "TV Show     202\n",
      "Name: type, dtype: int64\n",
      "Index(['Movie', 'TV Show'], dtype='object')\n",
      "[1032  202]\n"
     ]
    }
   ],
   "source": [
    "#merged.describe()\n",
    "\n",
    "import seaborn as sns\n",
    "\n",
    "#plt.figure(figsize = (16,20))\n",
    "#sns.countplot(y='genres',data=merged,order = merged['genres'].value_counts().index)\n",
    "#plt.show()\n",
    "\n",
    "\n",
    "print(merged['type'].value_counts())\n",
    "print(merged['type'].value_counts().index)\n",
    "print(merged['type'].value_counts().values)\n",
    "\n"
   ]
  },
  {
   "cell_type": "markdown",
   "id": "7c794472",
   "metadata": {},
   "source": [
    "## GRÁFICO QUESITOS PELÍCULAS VS SERIES"
   ]
  },
  {
   "cell_type": "code",
   "execution_count": 485,
   "id": "4eafce5e",
   "metadata": {},
   "outputs": [
    {
     "data": {
      "image/png": "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\n",
      "text/plain": [
       "<Figure size 576x576 with 1 Axes>"
      ]
     },
     "metadata": {},
     "output_type": "display_data"
    }
   ],
   "source": [
    "plt.figure(figsize=(8,8))\n",
    "\n",
    "series_ = merged.apply(lambda x: True if x['type']== 'Movie' else False, axis= 1)\n",
    "num_m = len(series_[series_ == True].index)\n",
    "num_s = len(series_[series_ == False].index)\n",
    "\n",
    "y = np.array([num_m, num_s])\n",
    "\n",
    "plt.title('Movie and TV Show proportion',size=30)\n",
    "plt.pie(y,labels=['Movie','TV Show'],colors=['darkgrey','skyblue'],autopct='%1.1f%%')\n",
    "plt.savefig('Movie_vs_series.pdf')\n",
    "plt.show() "
   ]
  },
  {
   "cell_type": "code",
   "execution_count": 491,
   "id": "f2671f8e",
   "metadata": {
    "scrolled": true
   },
   "outputs": [
    {
     "data": {
      "application/vnd.plotly.v1+json": {
       "config": {
        "plotlyServerURL": "https://plot.ly"
       },
       "data": [
        {
         "alignmentgroup": "True",
         "hovertemplate": "Genres=%{x}<br>Frequency=%{y}<extra></extra>",
         "legendgroup": "",
         "marker": {
          "color": "#113CCF",
          "pattern": {
           "shape": ""
          }
         },
         "name": "",
         "offsetgroup": "",
         "orientation": "v",
         "showlegend": false,
         "textposition": "auto",
         "type": "bar",
         "x": [
          "Travel",
          "Talk Show",
          "Soap Opera",
          "Anime",
          "Movies",
          "Melodrama",
          "Romantic Comedy",
          "Medical",
          "Disaster",
          "Thriller",
          "Lifestyle",
          "Concert Film",
          "Dance",
          "Western",
          "Variety",
          "Survival",
          "Game Show",
          "Parody",
          "Competition",
          "Espionage",
          "Spy",
          "Superhero",
          "Mystery",
          "Romance",
          "Reality",
          "Crime",
          "Anthology",
          "Musical",
          "Sports",
          "Historical",
          "Buddy",
          "Biographical",
          "Music",
          "Kids",
          "Docuseries",
          "Science Fiction",
          "Documentary",
          "Animals",
          "Nature",
          "Drama",
          "Fantasy",
          "Coming of Age",
          "Adventure",
          "Action",
          "Comedy",
          "Animation",
          "Family"
         ],
         "xaxis": "x",
         "y": [
          1,
          1,
          2,
          2,
          2,
          2,
          2,
          3,
          3,
          4,
          4,
          4,
          4,
          5,
          5,
          5,
          6,
          6,
          6,
          7,
          7,
          13,
          15,
          18,
          19,
          24,
          24,
          40,
          40,
          41,
          42,
          43,
          44,
          66,
          68,
          90,
          115,
          136,
          136,
          151,
          186,
          192,
          438,
          438,
          449,
          452,
          607
         ],
         "yaxis": "y"
        }
       ],
       "layout": {
        "barmode": "relative",
        "legend": {
         "tracegroupgap": 0
        },
        "margin": {
         "t": 60
        },
        "template": {
         "data": {
          "bar": [
           {
            "error_x": {
             "color": "#2a3f5f"
            },
            "error_y": {
             "color": "#2a3f5f"
            },
            "marker": {
             "line": {
              "color": "#E5ECF6",
              "width": 0.5
             },
             "pattern": {
              "fillmode": "overlay",
              "size": 10,
              "solidity": 0.2
             }
            },
            "type": "bar"
           }
          ],
          "barpolar": [
           {
            "marker": {
             "line": {
              "color": "#E5ECF6",
              "width": 0.5
             },
             "pattern": {
              "fillmode": "overlay",
              "size": 10,
              "solidity": 0.2
             }
            },
            "type": "barpolar"
           }
          ],
          "carpet": [
           {
            "aaxis": {
             "endlinecolor": "#2a3f5f",
             "gridcolor": "white",
             "linecolor": "white",
             "minorgridcolor": "white",
             "startlinecolor": "#2a3f5f"
            },
            "baxis": {
             "endlinecolor": "#2a3f5f",
             "gridcolor": "white",
             "linecolor": "white",
             "minorgridcolor": "white",
             "startlinecolor": "#2a3f5f"
            },
            "type": "carpet"
           }
          ],
          "choropleth": [
           {
            "colorbar": {
             "outlinewidth": 0,
             "ticks": ""
            },
            "type": "choropleth"
           }
          ],
          "contour": [
           {
            "colorbar": {
             "outlinewidth": 0,
             "ticks": ""
            },
            "colorscale": [
             [
              0,
              "#0d0887"
             ],
             [
              0.1111111111111111,
              "#46039f"
             ],
             [
              0.2222222222222222,
              "#7201a8"
             ],
             [
              0.3333333333333333,
              "#9c179e"
             ],
             [
              0.4444444444444444,
              "#bd3786"
             ],
             [
              0.5555555555555556,
              "#d8576b"
             ],
             [
              0.6666666666666666,
              "#ed7953"
             ],
             [
              0.7777777777777778,
              "#fb9f3a"
             ],
             [
              0.8888888888888888,
              "#fdca26"
             ],
             [
              1,
              "#f0f921"
             ]
            ],
            "type": "contour"
           }
          ],
          "contourcarpet": [
           {
            "colorbar": {
             "outlinewidth": 0,
             "ticks": ""
            },
            "type": "contourcarpet"
           }
          ],
          "heatmap": [
           {
            "colorbar": {
             "outlinewidth": 0,
             "ticks": ""
            },
            "colorscale": [
             [
              0,
              "#0d0887"
             ],
             [
              0.1111111111111111,
              "#46039f"
             ],
             [
              0.2222222222222222,
              "#7201a8"
             ],
             [
              0.3333333333333333,
              "#9c179e"
             ],
             [
              0.4444444444444444,
              "#bd3786"
             ],
             [
              0.5555555555555556,
              "#d8576b"
             ],
             [
              0.6666666666666666,
              "#ed7953"
             ],
             [
              0.7777777777777778,
              "#fb9f3a"
             ],
             [
              0.8888888888888888,
              "#fdca26"
             ],
             [
              1,
              "#f0f921"
             ]
            ],
            "type": "heatmap"
           }
          ],
          "heatmapgl": [
           {
            "colorbar": {
             "outlinewidth": 0,
             "ticks": ""
            },
            "colorscale": [
             [
              0,
              "#0d0887"
             ],
             [
              0.1111111111111111,
              "#46039f"
             ],
             [
              0.2222222222222222,
              "#7201a8"
             ],
             [
              0.3333333333333333,
              "#9c179e"
             ],
             [
              0.4444444444444444,
              "#bd3786"
             ],
             [
              0.5555555555555556,
              "#d8576b"
             ],
             [
              0.6666666666666666,
              "#ed7953"
             ],
             [
              0.7777777777777778,
              "#fb9f3a"
             ],
             [
              0.8888888888888888,
              "#fdca26"
             ],
             [
              1,
              "#f0f921"
             ]
            ],
            "type": "heatmapgl"
           }
          ],
          "histogram": [
           {
            "marker": {
             "pattern": {
              "fillmode": "overlay",
              "size": 10,
              "solidity": 0.2
             }
            },
            "type": "histogram"
           }
          ],
          "histogram2d": [
           {
            "colorbar": {
             "outlinewidth": 0,
             "ticks": ""
            },
            "colorscale": [
             [
              0,
              "#0d0887"
             ],
             [
              0.1111111111111111,
              "#46039f"
             ],
             [
              0.2222222222222222,
              "#7201a8"
             ],
             [
              0.3333333333333333,
              "#9c179e"
             ],
             [
              0.4444444444444444,
              "#bd3786"
             ],
             [
              0.5555555555555556,
              "#d8576b"
             ],
             [
              0.6666666666666666,
              "#ed7953"
             ],
             [
              0.7777777777777778,
              "#fb9f3a"
             ],
             [
              0.8888888888888888,
              "#fdca26"
             ],
             [
              1,
              "#f0f921"
             ]
            ],
            "type": "histogram2d"
           }
          ],
          "histogram2dcontour": [
           {
            "colorbar": {
             "outlinewidth": 0,
             "ticks": ""
            },
            "colorscale": [
             [
              0,
              "#0d0887"
             ],
             [
              0.1111111111111111,
              "#46039f"
             ],
             [
              0.2222222222222222,
              "#7201a8"
             ],
             [
              0.3333333333333333,
              "#9c179e"
             ],
             [
              0.4444444444444444,
              "#bd3786"
             ],
             [
              0.5555555555555556,
              "#d8576b"
             ],
             [
              0.6666666666666666,
              "#ed7953"
             ],
             [
              0.7777777777777778,
              "#fb9f3a"
             ],
             [
              0.8888888888888888,
              "#fdca26"
             ],
             [
              1,
              "#f0f921"
             ]
            ],
            "type": "histogram2dcontour"
           }
          ],
          "mesh3d": [
           {
            "colorbar": {
             "outlinewidth": 0,
             "ticks": ""
            },
            "type": "mesh3d"
           }
          ],
          "parcoords": [
           {
            "line": {
             "colorbar": {
              "outlinewidth": 0,
              "ticks": ""
             }
            },
            "type": "parcoords"
           }
          ],
          "pie": [
           {
            "automargin": true,
            "type": "pie"
           }
          ],
          "scatter": [
           {
            "marker": {
             "colorbar": {
              "outlinewidth": 0,
              "ticks": ""
             }
            },
            "type": "scatter"
           }
          ],
          "scatter3d": [
           {
            "line": {
             "colorbar": {
              "outlinewidth": 0,
              "ticks": ""
             }
            },
            "marker": {
             "colorbar": {
              "outlinewidth": 0,
              "ticks": ""
             }
            },
            "type": "scatter3d"
           }
          ],
          "scattercarpet": [
           {
            "marker": {
             "colorbar": {
              "outlinewidth": 0,
              "ticks": ""
             }
            },
            "type": "scattercarpet"
           }
          ],
          "scattergeo": [
           {
            "marker": {
             "colorbar": {
              "outlinewidth": 0,
              "ticks": ""
             }
            },
            "type": "scattergeo"
           }
          ],
          "scattergl": [
           {
            "marker": {
             "colorbar": {
              "outlinewidth": 0,
              "ticks": ""
             }
            },
            "type": "scattergl"
           }
          ],
          "scattermapbox": [
           {
            "marker": {
             "colorbar": {
              "outlinewidth": 0,
              "ticks": ""
             }
            },
            "type": "scattermapbox"
           }
          ],
          "scatterpolar": [
           {
            "marker": {
             "colorbar": {
              "outlinewidth": 0,
              "ticks": ""
             }
            },
            "type": "scatterpolar"
           }
          ],
          "scatterpolargl": [
           {
            "marker": {
             "colorbar": {
              "outlinewidth": 0,
              "ticks": ""
             }
            },
            "type": "scatterpolargl"
           }
          ],
          "scatterternary": [
           {
            "marker": {
             "colorbar": {
              "outlinewidth": 0,
              "ticks": ""
             }
            },
            "type": "scatterternary"
           }
          ],
          "surface": [
           {
            "colorbar": {
             "outlinewidth": 0,
             "ticks": ""
            },
            "colorscale": [
             [
              0,
              "#0d0887"
             ],
             [
              0.1111111111111111,
              "#46039f"
             ],
             [
              0.2222222222222222,
              "#7201a8"
             ],
             [
              0.3333333333333333,
              "#9c179e"
             ],
             [
              0.4444444444444444,
              "#bd3786"
             ],
             [
              0.5555555555555556,
              "#d8576b"
             ],
             [
              0.6666666666666666,
              "#ed7953"
             ],
             [
              0.7777777777777778,
              "#fb9f3a"
             ],
             [
              0.8888888888888888,
              "#fdca26"
             ],
             [
              1,
              "#f0f921"
             ]
            ],
            "type": "surface"
           }
          ],
          "table": [
           {
            "cells": {
             "fill": {
              "color": "#EBF0F8"
             },
             "line": {
              "color": "white"
             }
            },
            "header": {
             "fill": {
              "color": "#C8D4E3"
             },
             "line": {
              "color": "white"
             }
            },
            "type": "table"
           }
          ]
         },
         "layout": {
          "annotationdefaults": {
           "arrowcolor": "#2a3f5f",
           "arrowhead": 0,
           "arrowwidth": 1
          },
          "autotypenumbers": "strict",
          "coloraxis": {
           "colorbar": {
            "outlinewidth": 0,
            "ticks": ""
           }
          },
          "colorscale": {
           "diverging": [
            [
             0,
             "#8e0152"
            ],
            [
             0.1,
             "#c51b7d"
            ],
            [
             0.2,
             "#de77ae"
            ],
            [
             0.3,
             "#f1b6da"
            ],
            [
             0.4,
             "#fde0ef"
            ],
            [
             0.5,
             "#f7f7f7"
            ],
            [
             0.6,
             "#e6f5d0"
            ],
            [
             0.7,
             "#b8e186"
            ],
            [
             0.8,
             "#7fbc41"
            ],
            [
             0.9,
             "#4d9221"
            ],
            [
             1,
             "#276419"
            ]
           ],
           "sequential": [
            [
             0,
             "#0d0887"
            ],
            [
             0.1111111111111111,
             "#46039f"
            ],
            [
             0.2222222222222222,
             "#7201a8"
            ],
            [
             0.3333333333333333,
             "#9c179e"
            ],
            [
             0.4444444444444444,
             "#bd3786"
            ],
            [
             0.5555555555555556,
             "#d8576b"
            ],
            [
             0.6666666666666666,
             "#ed7953"
            ],
            [
             0.7777777777777778,
             "#fb9f3a"
            ],
            [
             0.8888888888888888,
             "#fdca26"
            ],
            [
             1,
             "#f0f921"
            ]
           ],
           "sequentialminus": [
            [
             0,
             "#0d0887"
            ],
            [
             0.1111111111111111,
             "#46039f"
            ],
            [
             0.2222222222222222,
             "#7201a8"
            ],
            [
             0.3333333333333333,
             "#9c179e"
            ],
            [
             0.4444444444444444,
             "#bd3786"
            ],
            [
             0.5555555555555556,
             "#d8576b"
            ],
            [
             0.6666666666666666,
             "#ed7953"
            ],
            [
             0.7777777777777778,
             "#fb9f3a"
            ],
            [
             0.8888888888888888,
             "#fdca26"
            ],
            [
             1,
             "#f0f921"
            ]
           ]
          },
          "colorway": [
           "#636efa",
           "#EF553B",
           "#00cc96",
           "#ab63fa",
           "#FFA15A",
           "#19d3f3",
           "#FF6692",
           "#B6E880",
           "#FF97FF",
           "#FECB52"
          ],
          "font": {
           "color": "#2a3f5f"
          },
          "geo": {
           "bgcolor": "white",
           "lakecolor": "white",
           "landcolor": "#E5ECF6",
           "showlakes": true,
           "showland": true,
           "subunitcolor": "white"
          },
          "hoverlabel": {
           "align": "left"
          },
          "hovermode": "closest",
          "mapbox": {
           "style": "light"
          },
          "paper_bgcolor": "white",
          "plot_bgcolor": "#E5ECF6",
          "polar": {
           "angularaxis": {
            "gridcolor": "white",
            "linecolor": "white",
            "ticks": ""
           },
           "bgcolor": "#E5ECF6",
           "radialaxis": {
            "gridcolor": "white",
            "linecolor": "white",
            "ticks": ""
           }
          },
          "scene": {
           "xaxis": {
            "backgroundcolor": "#E5ECF6",
            "gridcolor": "white",
            "gridwidth": 2,
            "linecolor": "white",
            "showbackground": true,
            "ticks": "",
            "zerolinecolor": "white"
           },
           "yaxis": {
            "backgroundcolor": "#E5ECF6",
            "gridcolor": "white",
            "gridwidth": 2,
            "linecolor": "white",
            "showbackground": true,
            "ticks": "",
            "zerolinecolor": "white"
           },
           "zaxis": {
            "backgroundcolor": "#E5ECF6",
            "gridcolor": "white",
            "gridwidth": 2,
            "linecolor": "white",
            "showbackground": true,
            "ticks": "",
            "zerolinecolor": "white"
           }
          },
          "shapedefaults": {
           "line": {
            "color": "#2a3f5f"
           }
          },
          "ternary": {
           "aaxis": {
            "gridcolor": "white",
            "linecolor": "white",
            "ticks": ""
           },
           "baxis": {
            "gridcolor": "white",
            "linecolor": "white",
            "ticks": ""
           },
           "bgcolor": "#E5ECF6",
           "caxis": {
            "gridcolor": "white",
            "linecolor": "white",
            "ticks": ""
           }
          },
          "title": {
           "x": 0.05
          },
          "xaxis": {
           "automargin": true,
           "gridcolor": "white",
           "linecolor": "white",
           "ticks": "",
           "title": {
            "standoff": 15
           },
           "zerolinecolor": "white",
           "zerolinewidth": 2
          },
          "yaxis": {
           "automargin": true,
           "gridcolor": "white",
           "linecolor": "white",
           "ticks": "",
           "title": {
            "standoff": 15
           },
           "zerolinecolor": "white",
           "zerolinewidth": 2
          }
         }
        },
        "xaxis": {
         "anchor": "y",
         "domain": [
          0,
          1
         ],
         "title": {
          "text": "Genres"
         }
        },
        "yaxis": {
         "anchor": "x",
         "domain": [
          0,
          1
         ],
         "title": {
          "text": "Frequency"
         }
        }
       }
      },
      "text/html": [
       "<div>                            <div id=\"92cdf0e7-c6ed-4224-a944-4dafb21013e9\" class=\"plotly-graph-div\" style=\"height:525px; width:100%;\"></div>            <script type=\"text/javascript\">                require([\"plotly\"], function(Plotly) {                    window.PLOTLYENV=window.PLOTLYENV || {};                                    if (document.getElementById(\"92cdf0e7-c6ed-4224-a944-4dafb21013e9\")) {                    Plotly.newPlot(                        \"92cdf0e7-c6ed-4224-a944-4dafb21013e9\",                        [{\"alignmentgroup\":\"True\",\"hovertemplate\":\"Genres=%{x}<br>Frequency=%{y}<extra></extra>\",\"legendgroup\":\"\",\"marker\":{\"color\":\"#113CCF\",\"pattern\":{\"shape\":\"\"}},\"name\":\"\",\"offsetgroup\":\"\",\"orientation\":\"v\",\"showlegend\":false,\"textposition\":\"auto\",\"x\":[\"Travel\",\"Talk Show\",\"Soap Opera\",\"Anime\",\"Movies\",\"Melodrama\",\"Romantic Comedy\",\"Medical\",\"Disaster\",\"Thriller\",\"Lifestyle\",\"Concert Film\",\"Dance\",\"Western\",\"Variety\",\"Survival\",\"Game Show\",\"Parody\",\"Competition\",\"Espionage\",\"Spy\",\"Superhero\",\"Mystery\",\"Romance\",\"Reality\",\"Crime\",\"Anthology\",\"Musical\",\"Sports\",\"Historical\",\"Buddy\",\"Biographical\",\"Music\",\"Kids\",\"Docuseries\",\"Science Fiction\",\"Documentary\",\"Animals\",\"Nature\",\"Drama\",\"Fantasy\",\"Coming of Age\",\"Adventure\",\"Action\",\"Comedy\",\"Animation\",\"Family\"],\"xaxis\":\"x\",\"y\":[1,1,2,2,2,2,2,3,3,4,4,4,4,5,5,5,6,6,6,7,7,13,15,18,19,24,24,40,40,41,42,43,44,66,68,90,115,136,136,151,186,192,438,438,449,452,607],\"yaxis\":\"y\",\"type\":\"bar\"}],                        {\"template\":{\"data\":{\"bar\":[{\"error_x\":{\"color\":\"#2a3f5f\"},\"error_y\":{\"color\":\"#2a3f5f\"},\"marker\":{\"line\":{\"color\":\"#E5ECF6\",\"width\":0.5},\"pattern\":{\"fillmode\":\"overlay\",\"size\":10,\"solidity\":0.2}},\"type\":\"bar\"}],\"barpolar\":[{\"marker\":{\"line\":{\"color\":\"#E5ECF6\",\"width\":0.5},\"pattern\":{\"fillmode\":\"overlay\",\"size\":10,\"solidity\":0.2}},\"type\":\"barpolar\"}],\"carpet\":[{\"aaxis\":{\"endlinecolor\":\"#2a3f5f\",\"gridcolor\":\"white\",\"linecolor\":\"white\",\"minorgridcolor\":\"white\",\"startlinecolor\":\"#2a3f5f\"},\"baxis\":{\"endlinecolor\":\"#2a3f5f\",\"gridcolor\":\"white\",\"linecolor\":\"white\",\"minorgridcolor\":\"white\",\"startlinecolor\":\"#2a3f5f\"},\"type\":\"carpet\"}],\"choropleth\":[{\"colorbar\":{\"outlinewidth\":0,\"ticks\":\"\"},\"type\":\"choropleth\"}],\"contour\":[{\"colorbar\":{\"outlinewidth\":0,\"ticks\":\"\"},\"colorscale\":[[0.0,\"#0d0887\"],[0.1111111111111111,\"#46039f\"],[0.2222222222222222,\"#7201a8\"],[0.3333333333333333,\"#9c179e\"],[0.4444444444444444,\"#bd3786\"],[0.5555555555555556,\"#d8576b\"],[0.6666666666666666,\"#ed7953\"],[0.7777777777777778,\"#fb9f3a\"],[0.8888888888888888,\"#fdca26\"],[1.0,\"#f0f921\"]],\"type\":\"contour\"}],\"contourcarpet\":[{\"colorbar\":{\"outlinewidth\":0,\"ticks\":\"\"},\"type\":\"contourcarpet\"}],\"heatmap\":[{\"colorbar\":{\"outlinewidth\":0,\"ticks\":\"\"},\"colorscale\":[[0.0,\"#0d0887\"],[0.1111111111111111,\"#46039f\"],[0.2222222222222222,\"#7201a8\"],[0.3333333333333333,\"#9c179e\"],[0.4444444444444444,\"#bd3786\"],[0.5555555555555556,\"#d8576b\"],[0.6666666666666666,\"#ed7953\"],[0.7777777777777778,\"#fb9f3a\"],[0.8888888888888888,\"#fdca26\"],[1.0,\"#f0f921\"]],\"type\":\"heatmap\"}],\"heatmapgl\":[{\"colorbar\":{\"outlinewidth\":0,\"ticks\":\"\"},\"colorscale\":[[0.0,\"#0d0887\"],[0.1111111111111111,\"#46039f\"],[0.2222222222222222,\"#7201a8\"],[0.3333333333333333,\"#9c179e\"],[0.4444444444444444,\"#bd3786\"],[0.5555555555555556,\"#d8576b\"],[0.6666666666666666,\"#ed7953\"],[0.7777777777777778,\"#fb9f3a\"],[0.8888888888888888,\"#fdca26\"],[1.0,\"#f0f921\"]],\"type\":\"heatmapgl\"}],\"histogram\":[{\"marker\":{\"pattern\":{\"fillmode\":\"overlay\",\"size\":10,\"solidity\":0.2}},\"type\":\"histogram\"}],\"histogram2d\":[{\"colorbar\":{\"outlinewidth\":0,\"ticks\":\"\"},\"colorscale\":[[0.0,\"#0d0887\"],[0.1111111111111111,\"#46039f\"],[0.2222222222222222,\"#7201a8\"],[0.3333333333333333,\"#9c179e\"],[0.4444444444444444,\"#bd3786\"],[0.5555555555555556,\"#d8576b\"],[0.6666666666666666,\"#ed7953\"],[0.7777777777777778,\"#fb9f3a\"],[0.8888888888888888,\"#fdca26\"],[1.0,\"#f0f921\"]],\"type\":\"histogram2d\"}],\"histogram2dcontour\":[{\"colorbar\":{\"outlinewidth\":0,\"ticks\":\"\"},\"colorscale\":[[0.0,\"#0d0887\"],[0.1111111111111111,\"#46039f\"],[0.2222222222222222,\"#7201a8\"],[0.3333333333333333,\"#9c179e\"],[0.4444444444444444,\"#bd3786\"],[0.5555555555555556,\"#d8576b\"],[0.6666666666666666,\"#ed7953\"],[0.7777777777777778,\"#fb9f3a\"],[0.8888888888888888,\"#fdca26\"],[1.0,\"#f0f921\"]],\"type\":\"histogram2dcontour\"}],\"mesh3d\":[{\"colorbar\":{\"outlinewidth\":0,\"ticks\":\"\"},\"type\":\"mesh3d\"}],\"parcoords\":[{\"line\":{\"colorbar\":{\"outlinewidth\":0,\"ticks\":\"\"}},\"type\":\"parcoords\"}],\"pie\":[{\"automargin\":true,\"type\":\"pie\"}],\"scatter\":[{\"marker\":{\"colorbar\":{\"outlinewidth\":0,\"ticks\":\"\"}},\"type\":\"scatter\"}],\"scatter3d\":[{\"line\":{\"colorbar\":{\"outlinewidth\":0,\"ticks\":\"\"}},\"marker\":{\"colorbar\":{\"outlinewidth\":0,\"ticks\":\"\"}},\"type\":\"scatter3d\"}],\"scattercarpet\":[{\"marker\":{\"colorbar\":{\"outlinewidth\":0,\"ticks\":\"\"}},\"type\":\"scattercarpet\"}],\"scattergeo\":[{\"marker\":{\"colorbar\":{\"outlinewidth\":0,\"ticks\":\"\"}},\"type\":\"scattergeo\"}],\"scattergl\":[{\"marker\":{\"colorbar\":{\"outlinewidth\":0,\"ticks\":\"\"}},\"type\":\"scattergl\"}],\"scattermapbox\":[{\"marker\":{\"colorbar\":{\"outlinewidth\":0,\"ticks\":\"\"}},\"type\":\"scattermapbox\"}],\"scatterpolar\":[{\"marker\":{\"colorbar\":{\"outlinewidth\":0,\"ticks\":\"\"}},\"type\":\"scatterpolar\"}],\"scatterpolargl\":[{\"marker\":{\"colorbar\":{\"outlinewidth\":0,\"ticks\":\"\"}},\"type\":\"scatterpolargl\"}],\"scatterternary\":[{\"marker\":{\"colorbar\":{\"outlinewidth\":0,\"ticks\":\"\"}},\"type\":\"scatterternary\"}],\"surface\":[{\"colorbar\":{\"outlinewidth\":0,\"ticks\":\"\"},\"colorscale\":[[0.0,\"#0d0887\"],[0.1111111111111111,\"#46039f\"],[0.2222222222222222,\"#7201a8\"],[0.3333333333333333,\"#9c179e\"],[0.4444444444444444,\"#bd3786\"],[0.5555555555555556,\"#d8576b\"],[0.6666666666666666,\"#ed7953\"],[0.7777777777777778,\"#fb9f3a\"],[0.8888888888888888,\"#fdca26\"],[1.0,\"#f0f921\"]],\"type\":\"surface\"}],\"table\":[{\"cells\":{\"fill\":{\"color\":\"#EBF0F8\"},\"line\":{\"color\":\"white\"}},\"header\":{\"fill\":{\"color\":\"#C8D4E3\"},\"line\":{\"color\":\"white\"}},\"type\":\"table\"}]},\"layout\":{\"annotationdefaults\":{\"arrowcolor\":\"#2a3f5f\",\"arrowhead\":0,\"arrowwidth\":1},\"autotypenumbers\":\"strict\",\"coloraxis\":{\"colorbar\":{\"outlinewidth\":0,\"ticks\":\"\"}},\"colorscale\":{\"diverging\":[[0,\"#8e0152\"],[0.1,\"#c51b7d\"],[0.2,\"#de77ae\"],[0.3,\"#f1b6da\"],[0.4,\"#fde0ef\"],[0.5,\"#f7f7f7\"],[0.6,\"#e6f5d0\"],[0.7,\"#b8e186\"],[0.8,\"#7fbc41\"],[0.9,\"#4d9221\"],[1,\"#276419\"]],\"sequential\":[[0.0,\"#0d0887\"],[0.1111111111111111,\"#46039f\"],[0.2222222222222222,\"#7201a8\"],[0.3333333333333333,\"#9c179e\"],[0.4444444444444444,\"#bd3786\"],[0.5555555555555556,\"#d8576b\"],[0.6666666666666666,\"#ed7953\"],[0.7777777777777778,\"#fb9f3a\"],[0.8888888888888888,\"#fdca26\"],[1.0,\"#f0f921\"]],\"sequentialminus\":[[0.0,\"#0d0887\"],[0.1111111111111111,\"#46039f\"],[0.2222222222222222,\"#7201a8\"],[0.3333333333333333,\"#9c179e\"],[0.4444444444444444,\"#bd3786\"],[0.5555555555555556,\"#d8576b\"],[0.6666666666666666,\"#ed7953\"],[0.7777777777777778,\"#fb9f3a\"],[0.8888888888888888,\"#fdca26\"],[1.0,\"#f0f921\"]]},\"colorway\":[\"#636efa\",\"#EF553B\",\"#00cc96\",\"#ab63fa\",\"#FFA15A\",\"#19d3f3\",\"#FF6692\",\"#B6E880\",\"#FF97FF\",\"#FECB52\"],\"font\":{\"color\":\"#2a3f5f\"},\"geo\":{\"bgcolor\":\"white\",\"lakecolor\":\"white\",\"landcolor\":\"#E5ECF6\",\"showlakes\":true,\"showland\":true,\"subunitcolor\":\"white\"},\"hoverlabel\":{\"align\":\"left\"},\"hovermode\":\"closest\",\"mapbox\":{\"style\":\"light\"},\"paper_bgcolor\":\"white\",\"plot_bgcolor\":\"#E5ECF6\",\"polar\":{\"angularaxis\":{\"gridcolor\":\"white\",\"linecolor\":\"white\",\"ticks\":\"\"},\"bgcolor\":\"#E5ECF6\",\"radialaxis\":{\"gridcolor\":\"white\",\"linecolor\":\"white\",\"ticks\":\"\"}},\"scene\":{\"xaxis\":{\"backgroundcolor\":\"#E5ECF6\",\"gridcolor\":\"white\",\"gridwidth\":2,\"linecolor\":\"white\",\"showbackground\":true,\"ticks\":\"\",\"zerolinecolor\":\"white\"},\"yaxis\":{\"backgroundcolor\":\"#E5ECF6\",\"gridcolor\":\"white\",\"gridwidth\":2,\"linecolor\":\"white\",\"showbackground\":true,\"ticks\":\"\",\"zerolinecolor\":\"white\"},\"zaxis\":{\"backgroundcolor\":\"#E5ECF6\",\"gridcolor\":\"white\",\"gridwidth\":2,\"linecolor\":\"white\",\"showbackground\":true,\"ticks\":\"\",\"zerolinecolor\":\"white\"}},\"shapedefaults\":{\"line\":{\"color\":\"#2a3f5f\"}},\"ternary\":{\"aaxis\":{\"gridcolor\":\"white\",\"linecolor\":\"white\",\"ticks\":\"\"},\"baxis\":{\"gridcolor\":\"white\",\"linecolor\":\"white\",\"ticks\":\"\"},\"bgcolor\":\"#E5ECF6\",\"caxis\":{\"gridcolor\":\"white\",\"linecolor\":\"white\",\"ticks\":\"\"}},\"title\":{\"x\":0.05},\"xaxis\":{\"automargin\":true,\"gridcolor\":\"white\",\"linecolor\":\"white\",\"ticks\":\"\",\"title\":{\"standoff\":15},\"zerolinecolor\":\"white\",\"zerolinewidth\":2},\"yaxis\":{\"automargin\":true,\"gridcolor\":\"white\",\"linecolor\":\"white\",\"ticks\":\"\",\"title\":{\"standoff\":15},\"zerolinecolor\":\"white\",\"zerolinewidth\":2}}},\"xaxis\":{\"anchor\":\"y\",\"domain\":[0.0,1.0],\"title\":{\"text\":\"Genres\"}},\"yaxis\":{\"anchor\":\"x\",\"domain\":[0.0,1.0],\"title\":{\"text\":\"Frequency\"}},\"legend\":{\"tracegroupgap\":0},\"margin\":{\"t\":60},\"barmode\":\"relative\"},                        {\"responsive\": true}                    ).then(function(){\n",
       "                            \n",
       "var gd = document.getElementById('92cdf0e7-c6ed-4224-a944-4dafb21013e9');\n",
       "var x = new MutationObserver(function (mutations, observer) {{\n",
       "        var display = window.getComputedStyle(gd).display;\n",
       "        if (!display || display === 'none') {{\n",
       "            console.log([gd, 'removed!']);\n",
       "            Plotly.purge(gd);\n",
       "            observer.disconnect();\n",
       "        }}\n",
       "}});\n",
       "\n",
       "// Listen for the removal of the full notebook cells\n",
       "var notebookContainer = gd.closest('#notebook-container');\n",
       "if (notebookContainer) {{\n",
       "    x.observe(notebookContainer, {childList: true});\n",
       "}}\n",
       "\n",
       "// Listen for the clearing of the current output cell\n",
       "var outputEl = gd.closest('.output');\n",
       "if (outputEl) {{\n",
       "    x.observe(outputEl, {childList: true});\n",
       "}}\n",
       "\n",
       "                        })                };                });            </script>        </div>"
      ]
     },
     "metadata": {},
     "output_type": "display_data"
    },
    {
     "data": {
      "text/plain": [
       "<Figure size 576x576 with 0 Axes>"
      ]
     },
     "metadata": {},
     "output_type": "display_data"
    }
   ],
   "source": [
    "split = merged['genre'].apply(pd.Series)\n",
    "#print(type(split))\n",
    "split = split.rename(columns = lambda x : 'val_' + str(x))\n",
    "aux_ = pd.DataFrame(split.melt(value_name=\"val\").groupby([\"val\"]).size()).reset_index()\n",
    "aux_ = aux_.sort_values(0)\n",
    "\n",
    "plt.figure(figsize=(8,8))\n",
    "\n",
    "fig = px.bar(aux_,x='val',y=0,labels={'val':'Genres','0':'Frequency'},\n",
    "            color_discrete_sequence=['#113CCF'])\n",
    "fig.show()"
   ]
  },
  {
   "cell_type": "code",
   "execution_count": 492,
   "id": "be82daa7",
   "metadata": {},
   "outputs": [
    {
     "data": {
      "application/vnd.plotly.v1+json": {
       "config": {
        "plotlyServerURL": "https://plot.ly"
       },
       "data": [
        {
         "alignmentgroup": "True",
         "hovertemplate": "Countries=%{x}<br>Frequency=%{y}<extra></extra>",
         "legendgroup": "",
         "marker": {
          "color": "#113CCF",
          "pattern": {
           "shape": ""
          }
         },
         "name": "",
         "offsetgroup": "",
         "orientation": "v",
         "showlegend": false,
         "textposition": "auto",
         "type": "bar",
         "x": [
          "Angola",
          "Malaysia",
          "Philippines",
          "Guatemala",
          "Botswana",
          "Denmark",
          "Austria",
          "United Arab Emirates",
          "Namibia",
          "Brazil",
          "Thailand",
          "Czech Republic",
          "Mexico",
          "Slovenia",
          "Singapore",
          "India",
          "Argentina",
          "Belgium",
          "China",
          "Taiwan",
          "Poland",
          "New Zealand",
          "Ireland",
          "Hungary",
          "Hong Kong",
          "South Korea",
          "Spain",
          "Japan",
          "South Africa",
          "Germany",
          "France",
          "Australia",
          "Canada",
          "nan",
          "United Kingdom",
          "United States"
         ],
         "xaxis": "x",
         "y": [
          1,
          1,
          1,
          1,
          1,
          1,
          1,
          1,
          1,
          2,
          2,
          2,
          2,
          2,
          2,
          2,
          2,
          2,
          3,
          3,
          3,
          3,
          4,
          4,
          5,
          5,
          5,
          5,
          7,
          8,
          20,
          23,
          75,
          102,
          115,
          1104
         ],
         "yaxis": "y"
        }
       ],
       "layout": {
        "barmode": "relative",
        "legend": {
         "tracegroupgap": 0
        },
        "margin": {
         "t": 60
        },
        "template": {
         "data": {
          "bar": [
           {
            "error_x": {
             "color": "#2a3f5f"
            },
            "error_y": {
             "color": "#2a3f5f"
            },
            "marker": {
             "line": {
              "color": "#E5ECF6",
              "width": 0.5
             },
             "pattern": {
              "fillmode": "overlay",
              "size": 10,
              "solidity": 0.2
             }
            },
            "type": "bar"
           }
          ],
          "barpolar": [
           {
            "marker": {
             "line": {
              "color": "#E5ECF6",
              "width": 0.5
             },
             "pattern": {
              "fillmode": "overlay",
              "size": 10,
              "solidity": 0.2
             }
            },
            "type": "barpolar"
           }
          ],
          "carpet": [
           {
            "aaxis": {
             "endlinecolor": "#2a3f5f",
             "gridcolor": "white",
             "linecolor": "white",
             "minorgridcolor": "white",
             "startlinecolor": "#2a3f5f"
            },
            "baxis": {
             "endlinecolor": "#2a3f5f",
             "gridcolor": "white",
             "linecolor": "white",
             "minorgridcolor": "white",
             "startlinecolor": "#2a3f5f"
            },
            "type": "carpet"
           }
          ],
          "choropleth": [
           {
            "colorbar": {
             "outlinewidth": 0,
             "ticks": ""
            },
            "type": "choropleth"
           }
          ],
          "contour": [
           {
            "colorbar": {
             "outlinewidth": 0,
             "ticks": ""
            },
            "colorscale": [
             [
              0,
              "#0d0887"
             ],
             [
              0.1111111111111111,
              "#46039f"
             ],
             [
              0.2222222222222222,
              "#7201a8"
             ],
             [
              0.3333333333333333,
              "#9c179e"
             ],
             [
              0.4444444444444444,
              "#bd3786"
             ],
             [
              0.5555555555555556,
              "#d8576b"
             ],
             [
              0.6666666666666666,
              "#ed7953"
             ],
             [
              0.7777777777777778,
              "#fb9f3a"
             ],
             [
              0.8888888888888888,
              "#fdca26"
             ],
             [
              1,
              "#f0f921"
             ]
            ],
            "type": "contour"
           }
          ],
          "contourcarpet": [
           {
            "colorbar": {
             "outlinewidth": 0,
             "ticks": ""
            },
            "type": "contourcarpet"
           }
          ],
          "heatmap": [
           {
            "colorbar": {
             "outlinewidth": 0,
             "ticks": ""
            },
            "colorscale": [
             [
              0,
              "#0d0887"
             ],
             [
              0.1111111111111111,
              "#46039f"
             ],
             [
              0.2222222222222222,
              "#7201a8"
             ],
             [
              0.3333333333333333,
              "#9c179e"
             ],
             [
              0.4444444444444444,
              "#bd3786"
             ],
             [
              0.5555555555555556,
              "#d8576b"
             ],
             [
              0.6666666666666666,
              "#ed7953"
             ],
             [
              0.7777777777777778,
              "#fb9f3a"
             ],
             [
              0.8888888888888888,
              "#fdca26"
             ],
             [
              1,
              "#f0f921"
             ]
            ],
            "type": "heatmap"
           }
          ],
          "heatmapgl": [
           {
            "colorbar": {
             "outlinewidth": 0,
             "ticks": ""
            },
            "colorscale": [
             [
              0,
              "#0d0887"
             ],
             [
              0.1111111111111111,
              "#46039f"
             ],
             [
              0.2222222222222222,
              "#7201a8"
             ],
             [
              0.3333333333333333,
              "#9c179e"
             ],
             [
              0.4444444444444444,
              "#bd3786"
             ],
             [
              0.5555555555555556,
              "#d8576b"
             ],
             [
              0.6666666666666666,
              "#ed7953"
             ],
             [
              0.7777777777777778,
              "#fb9f3a"
             ],
             [
              0.8888888888888888,
              "#fdca26"
             ],
             [
              1,
              "#f0f921"
             ]
            ],
            "type": "heatmapgl"
           }
          ],
          "histogram": [
           {
            "marker": {
             "pattern": {
              "fillmode": "overlay",
              "size": 10,
              "solidity": 0.2
             }
            },
            "type": "histogram"
           }
          ],
          "histogram2d": [
           {
            "colorbar": {
             "outlinewidth": 0,
             "ticks": ""
            },
            "colorscale": [
             [
              0,
              "#0d0887"
             ],
             [
              0.1111111111111111,
              "#46039f"
             ],
             [
              0.2222222222222222,
              "#7201a8"
             ],
             [
              0.3333333333333333,
              "#9c179e"
             ],
             [
              0.4444444444444444,
              "#bd3786"
             ],
             [
              0.5555555555555556,
              "#d8576b"
             ],
             [
              0.6666666666666666,
              "#ed7953"
             ],
             [
              0.7777777777777778,
              "#fb9f3a"
             ],
             [
              0.8888888888888888,
              "#fdca26"
             ],
             [
              1,
              "#f0f921"
             ]
            ],
            "type": "histogram2d"
           }
          ],
          "histogram2dcontour": [
           {
            "colorbar": {
             "outlinewidth": 0,
             "ticks": ""
            },
            "colorscale": [
             [
              0,
              "#0d0887"
             ],
             [
              0.1111111111111111,
              "#46039f"
             ],
             [
              0.2222222222222222,
              "#7201a8"
             ],
             [
              0.3333333333333333,
              "#9c179e"
             ],
             [
              0.4444444444444444,
              "#bd3786"
             ],
             [
              0.5555555555555556,
              "#d8576b"
             ],
             [
              0.6666666666666666,
              "#ed7953"
             ],
             [
              0.7777777777777778,
              "#fb9f3a"
             ],
             [
              0.8888888888888888,
              "#fdca26"
             ],
             [
              1,
              "#f0f921"
             ]
            ],
            "type": "histogram2dcontour"
           }
          ],
          "mesh3d": [
           {
            "colorbar": {
             "outlinewidth": 0,
             "ticks": ""
            },
            "type": "mesh3d"
           }
          ],
          "parcoords": [
           {
            "line": {
             "colorbar": {
              "outlinewidth": 0,
              "ticks": ""
             }
            },
            "type": "parcoords"
           }
          ],
          "pie": [
           {
            "automargin": true,
            "type": "pie"
           }
          ],
          "scatter": [
           {
            "marker": {
             "colorbar": {
              "outlinewidth": 0,
              "ticks": ""
             }
            },
            "type": "scatter"
           }
          ],
          "scatter3d": [
           {
            "line": {
             "colorbar": {
              "outlinewidth": 0,
              "ticks": ""
             }
            },
            "marker": {
             "colorbar": {
              "outlinewidth": 0,
              "ticks": ""
             }
            },
            "type": "scatter3d"
           }
          ],
          "scattercarpet": [
           {
            "marker": {
             "colorbar": {
              "outlinewidth": 0,
              "ticks": ""
             }
            },
            "type": "scattercarpet"
           }
          ],
          "scattergeo": [
           {
            "marker": {
             "colorbar": {
              "outlinewidth": 0,
              "ticks": ""
             }
            },
            "type": "scattergeo"
           }
          ],
          "scattergl": [
           {
            "marker": {
             "colorbar": {
              "outlinewidth": 0,
              "ticks": ""
             }
            },
            "type": "scattergl"
           }
          ],
          "scattermapbox": [
           {
            "marker": {
             "colorbar": {
              "outlinewidth": 0,
              "ticks": ""
             }
            },
            "type": "scattermapbox"
           }
          ],
          "scatterpolar": [
           {
            "marker": {
             "colorbar": {
              "outlinewidth": 0,
              "ticks": ""
             }
            },
            "type": "scatterpolar"
           }
          ],
          "scatterpolargl": [
           {
            "marker": {
             "colorbar": {
              "outlinewidth": 0,
              "ticks": ""
             }
            },
            "type": "scatterpolargl"
           }
          ],
          "scatterternary": [
           {
            "marker": {
             "colorbar": {
              "outlinewidth": 0,
              "ticks": ""
             }
            },
            "type": "scatterternary"
           }
          ],
          "surface": [
           {
            "colorbar": {
             "outlinewidth": 0,
             "ticks": ""
            },
            "colorscale": [
             [
              0,
              "#0d0887"
             ],
             [
              0.1111111111111111,
              "#46039f"
             ],
             [
              0.2222222222222222,
              "#7201a8"
             ],
             [
              0.3333333333333333,
              "#9c179e"
             ],
             [
              0.4444444444444444,
              "#bd3786"
             ],
             [
              0.5555555555555556,
              "#d8576b"
             ],
             [
              0.6666666666666666,
              "#ed7953"
             ],
             [
              0.7777777777777778,
              "#fb9f3a"
             ],
             [
              0.8888888888888888,
              "#fdca26"
             ],
             [
              1,
              "#f0f921"
             ]
            ],
            "type": "surface"
           }
          ],
          "table": [
           {
            "cells": {
             "fill": {
              "color": "#EBF0F8"
             },
             "line": {
              "color": "white"
             }
            },
            "header": {
             "fill": {
              "color": "#C8D4E3"
             },
             "line": {
              "color": "white"
             }
            },
            "type": "table"
           }
          ]
         },
         "layout": {
          "annotationdefaults": {
           "arrowcolor": "#2a3f5f",
           "arrowhead": 0,
           "arrowwidth": 1
          },
          "autotypenumbers": "strict",
          "coloraxis": {
           "colorbar": {
            "outlinewidth": 0,
            "ticks": ""
           }
          },
          "colorscale": {
           "diverging": [
            [
             0,
             "#8e0152"
            ],
            [
             0.1,
             "#c51b7d"
            ],
            [
             0.2,
             "#de77ae"
            ],
            [
             0.3,
             "#f1b6da"
            ],
            [
             0.4,
             "#fde0ef"
            ],
            [
             0.5,
             "#f7f7f7"
            ],
            [
             0.6,
             "#e6f5d0"
            ],
            [
             0.7,
             "#b8e186"
            ],
            [
             0.8,
             "#7fbc41"
            ],
            [
             0.9,
             "#4d9221"
            ],
            [
             1,
             "#276419"
            ]
           ],
           "sequential": [
            [
             0,
             "#0d0887"
            ],
            [
             0.1111111111111111,
             "#46039f"
            ],
            [
             0.2222222222222222,
             "#7201a8"
            ],
            [
             0.3333333333333333,
             "#9c179e"
            ],
            [
             0.4444444444444444,
             "#bd3786"
            ],
            [
             0.5555555555555556,
             "#d8576b"
            ],
            [
             0.6666666666666666,
             "#ed7953"
            ],
            [
             0.7777777777777778,
             "#fb9f3a"
            ],
            [
             0.8888888888888888,
             "#fdca26"
            ],
            [
             1,
             "#f0f921"
            ]
           ],
           "sequentialminus": [
            [
             0,
             "#0d0887"
            ],
            [
             0.1111111111111111,
             "#46039f"
            ],
            [
             0.2222222222222222,
             "#7201a8"
            ],
            [
             0.3333333333333333,
             "#9c179e"
            ],
            [
             0.4444444444444444,
             "#bd3786"
            ],
            [
             0.5555555555555556,
             "#d8576b"
            ],
            [
             0.6666666666666666,
             "#ed7953"
            ],
            [
             0.7777777777777778,
             "#fb9f3a"
            ],
            [
             0.8888888888888888,
             "#fdca26"
            ],
            [
             1,
             "#f0f921"
            ]
           ]
          },
          "colorway": [
           "#636efa",
           "#EF553B",
           "#00cc96",
           "#ab63fa",
           "#FFA15A",
           "#19d3f3",
           "#FF6692",
           "#B6E880",
           "#FF97FF",
           "#FECB52"
          ],
          "font": {
           "color": "#2a3f5f"
          },
          "geo": {
           "bgcolor": "white",
           "lakecolor": "white",
           "landcolor": "#E5ECF6",
           "showlakes": true,
           "showland": true,
           "subunitcolor": "white"
          },
          "hoverlabel": {
           "align": "left"
          },
          "hovermode": "closest",
          "mapbox": {
           "style": "light"
          },
          "paper_bgcolor": "white",
          "plot_bgcolor": "#E5ECF6",
          "polar": {
           "angularaxis": {
            "gridcolor": "white",
            "linecolor": "white",
            "ticks": ""
           },
           "bgcolor": "#E5ECF6",
           "radialaxis": {
            "gridcolor": "white",
            "linecolor": "white",
            "ticks": ""
           }
          },
          "scene": {
           "xaxis": {
            "backgroundcolor": "#E5ECF6",
            "gridcolor": "white",
            "gridwidth": 2,
            "linecolor": "white",
            "showbackground": true,
            "ticks": "",
            "zerolinecolor": "white"
           },
           "yaxis": {
            "backgroundcolor": "#E5ECF6",
            "gridcolor": "white",
            "gridwidth": 2,
            "linecolor": "white",
            "showbackground": true,
            "ticks": "",
            "zerolinecolor": "white"
           },
           "zaxis": {
            "backgroundcolor": "#E5ECF6",
            "gridcolor": "white",
            "gridwidth": 2,
            "linecolor": "white",
            "showbackground": true,
            "ticks": "",
            "zerolinecolor": "white"
           }
          },
          "shapedefaults": {
           "line": {
            "color": "#2a3f5f"
           }
          },
          "ternary": {
           "aaxis": {
            "gridcolor": "white",
            "linecolor": "white",
            "ticks": ""
           },
           "baxis": {
            "gridcolor": "white",
            "linecolor": "white",
            "ticks": ""
           },
           "bgcolor": "#E5ECF6",
           "caxis": {
            "gridcolor": "white",
            "linecolor": "white",
            "ticks": ""
           }
          },
          "title": {
           "x": 0.05
          },
          "xaxis": {
           "automargin": true,
           "gridcolor": "white",
           "linecolor": "white",
           "ticks": "",
           "title": {
            "standoff": 15
           },
           "zerolinecolor": "white",
           "zerolinewidth": 2
          },
          "yaxis": {
           "automargin": true,
           "gridcolor": "white",
           "linecolor": "white",
           "ticks": "",
           "title": {
            "standoff": 15
           },
           "zerolinecolor": "white",
           "zerolinewidth": 2
          }
         }
        },
        "xaxis": {
         "anchor": "y",
         "domain": [
          0,
          1
         ],
         "title": {
          "text": "Countries"
         }
        },
        "yaxis": {
         "anchor": "x",
         "domain": [
          0,
          1
         ],
         "title": {
          "text": "Frequency"
         }
        }
       }
      },
      "text/html": [
       "<div>                            <div id=\"35b468ff-4394-4ec9-9f93-f8cd2d39c076\" class=\"plotly-graph-div\" style=\"height:525px; width:100%;\"></div>            <script type=\"text/javascript\">                require([\"plotly\"], function(Plotly) {                    window.PLOTLYENV=window.PLOTLYENV || {};                                    if (document.getElementById(\"35b468ff-4394-4ec9-9f93-f8cd2d39c076\")) {                    Plotly.newPlot(                        \"35b468ff-4394-4ec9-9f93-f8cd2d39c076\",                        [{\"alignmentgroup\":\"True\",\"hovertemplate\":\"Countries=%{x}<br>Frequency=%{y}<extra></extra>\",\"legendgroup\":\"\",\"marker\":{\"color\":\"#113CCF\",\"pattern\":{\"shape\":\"\"}},\"name\":\"\",\"offsetgroup\":\"\",\"orientation\":\"v\",\"showlegend\":false,\"textposition\":\"auto\",\"x\":[\"Angola\",\"Malaysia\",\"Philippines\",\"Guatemala\",\"Botswana\",\"Denmark\",\"Austria\",\"United Arab Emirates\",\"Namibia\",\"Brazil\",\"Thailand\",\"Czech Republic\",\"Mexico\",\"Slovenia\",\"Singapore\",\"India\",\"Argentina\",\"Belgium\",\"China\",\"Taiwan\",\"Poland\",\"New Zealand\",\"Ireland\",\"Hungary\",\"Hong Kong\",\"South Korea\",\"Spain\",\"Japan\",\"South Africa\",\"Germany\",\"France\",\"Australia\",\"Canada\",\"nan\",\"United Kingdom\",\"United States\"],\"xaxis\":\"x\",\"y\":[1,1,1,1,1,1,1,1,1,2,2,2,2,2,2,2,2,2,3,3,3,3,4,4,5,5,5,5,7,8,20,23,75,102,115,1104],\"yaxis\":\"y\",\"type\":\"bar\"}],                        {\"template\":{\"data\":{\"bar\":[{\"error_x\":{\"color\":\"#2a3f5f\"},\"error_y\":{\"color\":\"#2a3f5f\"},\"marker\":{\"line\":{\"color\":\"#E5ECF6\",\"width\":0.5},\"pattern\":{\"fillmode\":\"overlay\",\"size\":10,\"solidity\":0.2}},\"type\":\"bar\"}],\"barpolar\":[{\"marker\":{\"line\":{\"color\":\"#E5ECF6\",\"width\":0.5},\"pattern\":{\"fillmode\":\"overlay\",\"size\":10,\"solidity\":0.2}},\"type\":\"barpolar\"}],\"carpet\":[{\"aaxis\":{\"endlinecolor\":\"#2a3f5f\",\"gridcolor\":\"white\",\"linecolor\":\"white\",\"minorgridcolor\":\"white\",\"startlinecolor\":\"#2a3f5f\"},\"baxis\":{\"endlinecolor\":\"#2a3f5f\",\"gridcolor\":\"white\",\"linecolor\":\"white\",\"minorgridcolor\":\"white\",\"startlinecolor\":\"#2a3f5f\"},\"type\":\"carpet\"}],\"choropleth\":[{\"colorbar\":{\"outlinewidth\":0,\"ticks\":\"\"},\"type\":\"choropleth\"}],\"contour\":[{\"colorbar\":{\"outlinewidth\":0,\"ticks\":\"\"},\"colorscale\":[[0.0,\"#0d0887\"],[0.1111111111111111,\"#46039f\"],[0.2222222222222222,\"#7201a8\"],[0.3333333333333333,\"#9c179e\"],[0.4444444444444444,\"#bd3786\"],[0.5555555555555556,\"#d8576b\"],[0.6666666666666666,\"#ed7953\"],[0.7777777777777778,\"#fb9f3a\"],[0.8888888888888888,\"#fdca26\"],[1.0,\"#f0f921\"]],\"type\":\"contour\"}],\"contourcarpet\":[{\"colorbar\":{\"outlinewidth\":0,\"ticks\":\"\"},\"type\":\"contourcarpet\"}],\"heatmap\":[{\"colorbar\":{\"outlinewidth\":0,\"ticks\":\"\"},\"colorscale\":[[0.0,\"#0d0887\"],[0.1111111111111111,\"#46039f\"],[0.2222222222222222,\"#7201a8\"],[0.3333333333333333,\"#9c179e\"],[0.4444444444444444,\"#bd3786\"],[0.5555555555555556,\"#d8576b\"],[0.6666666666666666,\"#ed7953\"],[0.7777777777777778,\"#fb9f3a\"],[0.8888888888888888,\"#fdca26\"],[1.0,\"#f0f921\"]],\"type\":\"heatmap\"}],\"heatmapgl\":[{\"colorbar\":{\"outlinewidth\":0,\"ticks\":\"\"},\"colorscale\":[[0.0,\"#0d0887\"],[0.1111111111111111,\"#46039f\"],[0.2222222222222222,\"#7201a8\"],[0.3333333333333333,\"#9c179e\"],[0.4444444444444444,\"#bd3786\"],[0.5555555555555556,\"#d8576b\"],[0.6666666666666666,\"#ed7953\"],[0.7777777777777778,\"#fb9f3a\"],[0.8888888888888888,\"#fdca26\"],[1.0,\"#f0f921\"]],\"type\":\"heatmapgl\"}],\"histogram\":[{\"marker\":{\"pattern\":{\"fillmode\":\"overlay\",\"size\":10,\"solidity\":0.2}},\"type\":\"histogram\"}],\"histogram2d\":[{\"colorbar\":{\"outlinewidth\":0,\"ticks\":\"\"},\"colorscale\":[[0.0,\"#0d0887\"],[0.1111111111111111,\"#46039f\"],[0.2222222222222222,\"#7201a8\"],[0.3333333333333333,\"#9c179e\"],[0.4444444444444444,\"#bd3786\"],[0.5555555555555556,\"#d8576b\"],[0.6666666666666666,\"#ed7953\"],[0.7777777777777778,\"#fb9f3a\"],[0.8888888888888888,\"#fdca26\"],[1.0,\"#f0f921\"]],\"type\":\"histogram2d\"}],\"histogram2dcontour\":[{\"colorbar\":{\"outlinewidth\":0,\"ticks\":\"\"},\"colorscale\":[[0.0,\"#0d0887\"],[0.1111111111111111,\"#46039f\"],[0.2222222222222222,\"#7201a8\"],[0.3333333333333333,\"#9c179e\"],[0.4444444444444444,\"#bd3786\"],[0.5555555555555556,\"#d8576b\"],[0.6666666666666666,\"#ed7953\"],[0.7777777777777778,\"#fb9f3a\"],[0.8888888888888888,\"#fdca26\"],[1.0,\"#f0f921\"]],\"type\":\"histogram2dcontour\"}],\"mesh3d\":[{\"colorbar\":{\"outlinewidth\":0,\"ticks\":\"\"},\"type\":\"mesh3d\"}],\"parcoords\":[{\"line\":{\"colorbar\":{\"outlinewidth\":0,\"ticks\":\"\"}},\"type\":\"parcoords\"}],\"pie\":[{\"automargin\":true,\"type\":\"pie\"}],\"scatter\":[{\"marker\":{\"colorbar\":{\"outlinewidth\":0,\"ticks\":\"\"}},\"type\":\"scatter\"}],\"scatter3d\":[{\"line\":{\"colorbar\":{\"outlinewidth\":0,\"ticks\":\"\"}},\"marker\":{\"colorbar\":{\"outlinewidth\":0,\"ticks\":\"\"}},\"type\":\"scatter3d\"}],\"scattercarpet\":[{\"marker\":{\"colorbar\":{\"outlinewidth\":0,\"ticks\":\"\"}},\"type\":\"scattercarpet\"}],\"scattergeo\":[{\"marker\":{\"colorbar\":{\"outlinewidth\":0,\"ticks\":\"\"}},\"type\":\"scattergeo\"}],\"scattergl\":[{\"marker\":{\"colorbar\":{\"outlinewidth\":0,\"ticks\":\"\"}},\"type\":\"scattergl\"}],\"scattermapbox\":[{\"marker\":{\"colorbar\":{\"outlinewidth\":0,\"ticks\":\"\"}},\"type\":\"scattermapbox\"}],\"scatterpolar\":[{\"marker\":{\"colorbar\":{\"outlinewidth\":0,\"ticks\":\"\"}},\"type\":\"scatterpolar\"}],\"scatterpolargl\":[{\"marker\":{\"colorbar\":{\"outlinewidth\":0,\"ticks\":\"\"}},\"type\":\"scatterpolargl\"}],\"scatterternary\":[{\"marker\":{\"colorbar\":{\"outlinewidth\":0,\"ticks\":\"\"}},\"type\":\"scatterternary\"}],\"surface\":[{\"colorbar\":{\"outlinewidth\":0,\"ticks\":\"\"},\"colorscale\":[[0.0,\"#0d0887\"],[0.1111111111111111,\"#46039f\"],[0.2222222222222222,\"#7201a8\"],[0.3333333333333333,\"#9c179e\"],[0.4444444444444444,\"#bd3786\"],[0.5555555555555556,\"#d8576b\"],[0.6666666666666666,\"#ed7953\"],[0.7777777777777778,\"#fb9f3a\"],[0.8888888888888888,\"#fdca26\"],[1.0,\"#f0f921\"]],\"type\":\"surface\"}],\"table\":[{\"cells\":{\"fill\":{\"color\":\"#EBF0F8\"},\"line\":{\"color\":\"white\"}},\"header\":{\"fill\":{\"color\":\"#C8D4E3\"},\"line\":{\"color\":\"white\"}},\"type\":\"table\"}]},\"layout\":{\"annotationdefaults\":{\"arrowcolor\":\"#2a3f5f\",\"arrowhead\":0,\"arrowwidth\":1},\"autotypenumbers\":\"strict\",\"coloraxis\":{\"colorbar\":{\"outlinewidth\":0,\"ticks\":\"\"}},\"colorscale\":{\"diverging\":[[0,\"#8e0152\"],[0.1,\"#c51b7d\"],[0.2,\"#de77ae\"],[0.3,\"#f1b6da\"],[0.4,\"#fde0ef\"],[0.5,\"#f7f7f7\"],[0.6,\"#e6f5d0\"],[0.7,\"#b8e186\"],[0.8,\"#7fbc41\"],[0.9,\"#4d9221\"],[1,\"#276419\"]],\"sequential\":[[0.0,\"#0d0887\"],[0.1111111111111111,\"#46039f\"],[0.2222222222222222,\"#7201a8\"],[0.3333333333333333,\"#9c179e\"],[0.4444444444444444,\"#bd3786\"],[0.5555555555555556,\"#d8576b\"],[0.6666666666666666,\"#ed7953\"],[0.7777777777777778,\"#fb9f3a\"],[0.8888888888888888,\"#fdca26\"],[1.0,\"#f0f921\"]],\"sequentialminus\":[[0.0,\"#0d0887\"],[0.1111111111111111,\"#46039f\"],[0.2222222222222222,\"#7201a8\"],[0.3333333333333333,\"#9c179e\"],[0.4444444444444444,\"#bd3786\"],[0.5555555555555556,\"#d8576b\"],[0.6666666666666666,\"#ed7953\"],[0.7777777777777778,\"#fb9f3a\"],[0.8888888888888888,\"#fdca26\"],[1.0,\"#f0f921\"]]},\"colorway\":[\"#636efa\",\"#EF553B\",\"#00cc96\",\"#ab63fa\",\"#FFA15A\",\"#19d3f3\",\"#FF6692\",\"#B6E880\",\"#FF97FF\",\"#FECB52\"],\"font\":{\"color\":\"#2a3f5f\"},\"geo\":{\"bgcolor\":\"white\",\"lakecolor\":\"white\",\"landcolor\":\"#E5ECF6\",\"showlakes\":true,\"showland\":true,\"subunitcolor\":\"white\"},\"hoverlabel\":{\"align\":\"left\"},\"hovermode\":\"closest\",\"mapbox\":{\"style\":\"light\"},\"paper_bgcolor\":\"white\",\"plot_bgcolor\":\"#E5ECF6\",\"polar\":{\"angularaxis\":{\"gridcolor\":\"white\",\"linecolor\":\"white\",\"ticks\":\"\"},\"bgcolor\":\"#E5ECF6\",\"radialaxis\":{\"gridcolor\":\"white\",\"linecolor\":\"white\",\"ticks\":\"\"}},\"scene\":{\"xaxis\":{\"backgroundcolor\":\"#E5ECF6\",\"gridcolor\":\"white\",\"gridwidth\":2,\"linecolor\":\"white\",\"showbackground\":true,\"ticks\":\"\",\"zerolinecolor\":\"white\"},\"yaxis\":{\"backgroundcolor\":\"#E5ECF6\",\"gridcolor\":\"white\",\"gridwidth\":2,\"linecolor\":\"white\",\"showbackground\":true,\"ticks\":\"\",\"zerolinecolor\":\"white\"},\"zaxis\":{\"backgroundcolor\":\"#E5ECF6\",\"gridcolor\":\"white\",\"gridwidth\":2,\"linecolor\":\"white\",\"showbackground\":true,\"ticks\":\"\",\"zerolinecolor\":\"white\"}},\"shapedefaults\":{\"line\":{\"color\":\"#2a3f5f\"}},\"ternary\":{\"aaxis\":{\"gridcolor\":\"white\",\"linecolor\":\"white\",\"ticks\":\"\"},\"baxis\":{\"gridcolor\":\"white\",\"linecolor\":\"white\",\"ticks\":\"\"},\"bgcolor\":\"#E5ECF6\",\"caxis\":{\"gridcolor\":\"white\",\"linecolor\":\"white\",\"ticks\":\"\"}},\"title\":{\"x\":0.05},\"xaxis\":{\"automargin\":true,\"gridcolor\":\"white\",\"linecolor\":\"white\",\"ticks\":\"\",\"title\":{\"standoff\":15},\"zerolinecolor\":\"white\",\"zerolinewidth\":2},\"yaxis\":{\"automargin\":true,\"gridcolor\":\"white\",\"linecolor\":\"white\",\"ticks\":\"\",\"title\":{\"standoff\":15},\"zerolinecolor\":\"white\",\"zerolinewidth\":2}}},\"xaxis\":{\"anchor\":\"y\",\"domain\":[0.0,1.0],\"title\":{\"text\":\"Countries\"}},\"yaxis\":{\"anchor\":\"x\",\"domain\":[0.0,1.0],\"title\":{\"text\":\"Frequency\"}},\"legend\":{\"tracegroupgap\":0},\"margin\":{\"t\":60},\"barmode\":\"relative\"},                        {\"responsive\": true}                    ).then(function(){\n",
       "                            \n",
       "var gd = document.getElementById('35b468ff-4394-4ec9-9f93-f8cd2d39c076');\n",
       "var x = new MutationObserver(function (mutations, observer) {{\n",
       "        var display = window.getComputedStyle(gd).display;\n",
       "        if (!display || display === 'none') {{\n",
       "            console.log([gd, 'removed!']);\n",
       "            Plotly.purge(gd);\n",
       "            observer.disconnect();\n",
       "        }}\n",
       "}});\n",
       "\n",
       "// Listen for the removal of the full notebook cells\n",
       "var notebookContainer = gd.closest('#notebook-container');\n",
       "if (notebookContainer) {{\n",
       "    x.observe(notebookContainer, {childList: true});\n",
       "}}\n",
       "\n",
       "// Listen for the clearing of the current output cell\n",
       "var outputEl = gd.closest('.output');\n",
       "if (outputEl) {{\n",
       "    x.observe(outputEl, {childList: true});\n",
       "}}\n",
       "\n",
       "                        })                };                });            </script>        </div>"
      ]
     },
     "metadata": {},
     "output_type": "display_data"
    }
   ],
   "source": [
    "split = merged['country'].apply(pd.Series)\n",
    "split = split.rename(columns = lambda x : 'val_' + str(x))\n",
    "aux = pd.DataFrame(split.melt(value_name='val').groupby(['val']).size()).reset_index()\n",
    "aux = aux.sort_values(0)\n",
    "\n",
    "fig = px.bar(aux,x='val',y=0,labels={'val':'Countries','0':'Frequency'},\n",
    "            color_discrete_sequence=['#113CCF'])\n",
    "\n",
    "fig.show()\n"
   ]
  },
  {
   "cell_type": "markdown",
   "id": "d93c4ad1",
   "metadata": {},
   "source": [
    "## TARIFAS"
   ]
  },
  {
   "cell_type": "code",
   "execution_count": 494,
   "id": "efc3e4d9",
   "metadata": {},
   "outputs": [],
   "source": [
    "mensual = 8.99 # en euros al mes\n",
    "anual = 89.90 # te ahorras dos meses\n",
    "\n",
    "# CUATRO DISPOSITIVOS\n",
    "# TV, ORDENADORES, MOVIL, TABLEY Y VIDEOCONSOLAS (PS4,PS5,Xbox One, Xbox Series X, Xbox Series S)\n",
    "\n",
    "# NO TIENE UN PERIODO DE PRUEBA GRATUITO"
   ]
  },
  {
   "cell_type": "code",
   "execution_count": null,
   "id": "c94dffdb",
   "metadata": {},
   "outputs": [],
   "source": []
  }
 ],
 "metadata": {
  "kernelspec": {
   "display_name": "Python 3",
   "language": "python",
   "name": "python3"
  },
  "language_info": {
   "codemirror_mode": {
    "name": "ipython",
    "version": 3
   },
   "file_extension": ".py",
   "mimetype": "text/x-python",
   "name": "python",
   "nbconvert_exporter": "python",
   "pygments_lexer": "ipython3",
   "version": "3.8.2"
  }
 },
 "nbformat": 4,
 "nbformat_minor": 5
}
